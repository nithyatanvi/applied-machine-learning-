{
  "cells": [
    {
      "cell_type": "markdown",
      "metadata": {
        "id": "8wqapAXjsc24"
      },
      "source": [
        "# Assignment 9: GBDT"
      ]
    },
    {
      "cell_type": "markdown",
      "metadata": {
        "id": "8u5NhbnEsc2-"
      },
      "source": [
        "#### Response Coding: Example"
      ]
    },
    {
      "cell_type": "markdown",
      "metadata": {
        "id": "HIFWmwHKsc3A"
      },
      "source": [
        "<img src='http://i.imgur.com/TufZptV.jpg' width=700px>\n",
        "\n",
        "> The response tabel is built only on train dataset.\n",
        "> For a category which is not there in train data and present in test data, we will encode them with default values\n",
        "Ex: in our test data if have State: D then we encode it as [0.5, 0.05]"
      ]
    },
    {
      "cell_type": "code",
      "execution_count": null,
      "metadata": {
        "id": "V6RLhPT_jokl"
      },
      "outputs": [],
      "source": []
    },
    {
      "cell_type": "code",
      "execution_count": null,
      "metadata": {
        "id": "iNLGY2EPjokm"
      },
      "outputs": [],
      "source": []
    },
    {
      "cell_type": "markdown",
      "metadata": {
        "id": "3KwfGufDsc3D"
      },
      "source": [
        "<ol>\n",
        "    <li><strong>Apply GBDT on these feature sets</strong>\n",
        "        <ul>\n",
        "            <li><font color='red'>Set 1</font>: categorical(instead of one hot encoding, try <a href='https://www.appliedaicourse.com/course/applied-ai-course-online/lessons/handling-categorical-and-numerical-features/'>response coding</a>: use probability values), numerical features + project_title(TFIDF)+  preprocessed_eassay (TFIDF)+sentiment Score of eassay(check the bellow example, include all 4 values as 4 features)</li>\n",
        "            <li><font color='red'>Set 2</font>: categorical(instead of one hot encoding, try <a href='https://www.appliedaicourse.com/course/applied-ai-course-online/lessons/handling-categorical-and-numerical-features/'>response coding</a>: use probability values), numerical features + project_title(TFIDF W2V)+  preprocessed_eassay (TFIDF W2V)</li>        \n",
        "    </li>\n",
        "    <li> Here in response encoding you need to apply the <strong>laplase smoothing</strong> value for test set. Laplase smoothing means, If test point is present in test but not in train then you need to apply default 0.5 as probability value for that data point (Refer the Response Encoding Image from above cell) </li>\n",
        "    <li>Please use atleast <strong> 35k </strong> data points </li></ul>\n",
        "    <li><strong>The hyper paramter tuning (Consider any two hyper parameters)</strong>\n",
        "        <ul>\n",
        "    <li>Find the best hyper parameter which will give the maximum <a href='https://www.appliedaicourse.com/course/applied-ai-course-online/lessons/receiver-operating-characteristic-curve-roc-curve-and-auc-1/'>AUC</a> value</li>\n",
        "    <li>find the best hyper paramter using k-fold cross validation/simple cross validation data</li>\n",
        "    <li>use gridsearch cv or randomsearch cv or you can write your own for loops to do this task</li>\n",
        "        </ul>\n",
        "    </li>\n",
        "    <li>\n",
        "    <strong>Representation of results</strong>\n",
        "        <ul>\n",
        "    <li>You need to plot the performance of model both on train data and cross validation data for each hyper parameter, like shown in the figure\n",
        "    <img src='https://i.imgur.com/Gp2DQmh.jpg' width=500px> with X-axis as <strong>n_estimators</strong>, Y-axis as <strong>max_depth</strong>, and Z-axis as <strong>AUC Score</strong> , we have given the notebook which explains how to plot this 3d plot, you can find it in the same drive <i>3d_scatter_plot.ipynb</i></li>\n",
        "            <p style=\"text-align:center;font-size:30px;color:red;\"><strong>or</strong></p> <br>\n",
        "    <li>You need to plot the performance of model both on train data and cross validation data for each hyper parameter, like shown in the figure\n",
        "    <img src='https://i.imgur.com/fgN9aUP.jpg' width=300px> <a href='https://seaborn.pydata.org/generated/seaborn.heatmap.html'>seaborn heat maps</a> with rows as <strong>n_estimators</strong>, columns as <strong>max_depth</strong>, and values inside the cell representing <strong>AUC Score</strong> </li>\n",
        "    <li>You choose either of the plotting techniques out of 3d plot or heat map</li>\n",
        "    <li>Once after you found the best hyper parameter, you need to train your model with it, and find the AUC on test data and plot the ROC curve on both train and test.\n",
        "        Make sure that you are using predict_proba method to calculate AUC curves, because AUC is calcualted on class probabilities and not on class labels.\n",
        "    <img src='https://i.imgur.com/wMQDTFe.jpg' width=300px></li>\n",
        "    <li>Along with plotting ROC curve, you need to print the <a href='https://www.appliedaicourse.com/course/applied-ai-course-online/lessons/confusion-matrix-tpr-fpr-fnr-tnr-1/'>confusion matrix</a> with predicted and original labels of test data points\n",
        "    <img src='https://i.imgur.com/IdN5Ctv.png' width=300px></li>\n",
        "            </ul>\n",
        "    <br>\n",
        "    <li>You need to summarize the results at the end of the notebook, summarize it in the table format\n",
        "        <img src='http://i.imgur.com/YVpIGGE.jpg' width=400px>\n",
        "    </li>\n",
        "</ol>"
      ]
    },
    {
      "cell_type": "markdown",
      "metadata": {
        "id": "-cfujvu4joko"
      },
      "source": [
        "# Few Notes"
      ]
    },
    {
      "cell_type": "markdown",
      "metadata": {
        "id": "x1wv157rjoko"
      },
      "source": [
        "1. Use atleast 35k data points\n",
        "2. Use classifier.Predict_proba() method instead of predict() method while calculating roc_auc scores\n",
        "3. Be sure that you are using laplase smoothing in response encoding function. Laplase smoothing means applying the default (0.5) value to test data if the test data is not present in the train set\n"
      ]
    },
    {
      "cell_type": "code",
      "execution_count": null,
      "metadata": {
        "colab": {
          "base_uri": "https://localhost:8080/"
        },
        "id": "iffa2_WGsc3H",
        "outputId": "a80acd57-d7f5-4499-93f0-8c3e430c440c"
      },
      "outputs": [
        {
          "name": "stderr",
          "output_type": "stream",
          "text": [
            "[nltk_data] Downloading package vader_lexicon to /root/nltk_data...\n"
          ]
        }
      ],
      "source": [
        "%matplotlib inline\n",
        "import warnings\n",
        "warnings.filterwarnings(\"ignore\")\n",
        "\n",
        "import pandas as pd\n",
        "import numpy as np\n",
        "import math as m\n",
        "import matplotlib.pyplot as plt\n",
        "import seaborn as sns\n",
        "import re\n",
        "from scipy import sparse\n",
        "from sklearn.feature_extraction.text import TfidfVectorizer\n",
        "from sklearn.feature_extraction.text import CountVectorizer\n",
        "from sklearn.preprocessing import Normalizer \n",
        "from sklearn.metrics import confusion_matrix\n",
        "from sklearn.model_selection import train_test_split\n",
        "from sklearn import metrics\n",
        "from sklearn.metrics import roc_curve,auc\n",
        "from tqdm import tqdm\n",
        "import nltk\n",
        "nltk.download('vader_lexicon')\n",
        "from nltk.sentiment.vader import SentimentIntensityAnalyzer\n",
        "\n",
        "sid = SentimentIntensityAnalyzer()\n",
        "\n"
      ]
    },
    {
      "cell_type": "markdown",
      "metadata": {
        "id": "BOyTl7oKsc3W"
      },
      "source": [
        "<h1>1. GBDT (xgboost/lightgbm) </h1>"
      ]
    },
    {
      "cell_type": "markdown",
      "metadata": {
        "id": "VWge-b2Zsc3Z"
      },
      "source": [
        "## 1.1 Loading Data"
      ]
    },
    {
      "cell_type": "code",
      "execution_count": null,
      "metadata": {
        "colab": {
          "base_uri": "https://localhost:8080/",
          "height": 332
        },
        "id": "WDZFu6-usc3d",
        "outputId": "d7df402b-4456-499e-9277-fc12299a94b5"
      },
      "outputs": [
        {
          "data": {
            "text/html": [
              "\n",
              "  <div id=\"df-7f1dbd1b-f5c8-452e-8a17-55243e90ac67\">\n",
              "    <div class=\"colab-df-container\">\n",
              "      <div>\n",
              "<style scoped>\n",
              "    .dataframe tbody tr th:only-of-type {\n",
              "        vertical-align: middle;\n",
              "    }\n",
              "\n",
              "    .dataframe tbody tr th {\n",
              "        vertical-align: top;\n",
              "    }\n",
              "\n",
              "    .dataframe thead th {\n",
              "        text-align: right;\n",
              "    }\n",
              "</style>\n",
              "<table border=\"1\" class=\"dataframe\">\n",
              "  <thead>\n",
              "    <tr style=\"text-align: right;\">\n",
              "      <th></th>\n",
              "      <th>school_state</th>\n",
              "      <th>teacher_prefix</th>\n",
              "      <th>project_grade_category</th>\n",
              "      <th>teacher_number_of_previously_posted_projects</th>\n",
              "      <th>project_is_approved</th>\n",
              "      <th>clean_categories</th>\n",
              "      <th>clean_subcategories</th>\n",
              "      <th>essay</th>\n",
              "      <th>price</th>\n",
              "    </tr>\n",
              "  </thead>\n",
              "  <tbody>\n",
              "    <tr>\n",
              "      <th>0</th>\n",
              "      <td>ca</td>\n",
              "      <td>mrs</td>\n",
              "      <td>grades_prek_2</td>\n",
              "      <td>53</td>\n",
              "      <td>1</td>\n",
              "      <td>math_science</td>\n",
              "      <td>appliedsciences health_lifescience</td>\n",
              "      <td>i fortunate enough use fairy tale stem kits cl...</td>\n",
              "      <td>725.05</td>\n",
              "    </tr>\n",
              "    <tr>\n",
              "      <th>1</th>\n",
              "      <td>ut</td>\n",
              "      <td>ms</td>\n",
              "      <td>grades_3_5</td>\n",
              "      <td>4</td>\n",
              "      <td>1</td>\n",
              "      <td>specialneeds</td>\n",
              "      <td>specialneeds</td>\n",
              "      <td>imagine 8 9 years old you third grade classroo...</td>\n",
              "      <td>213.03</td>\n",
              "    </tr>\n",
              "  </tbody>\n",
              "</table>\n",
              "</div>\n",
              "      <button class=\"colab-df-convert\" onclick=\"convertToInteractive('df-7f1dbd1b-f5c8-452e-8a17-55243e90ac67')\"\n",
              "              title=\"Convert this dataframe to an interactive table.\"\n",
              "              style=\"display:none;\">\n",
              "        \n",
              "  <svg xmlns=\"http://www.w3.org/2000/svg\" height=\"24px\"viewBox=\"0 0 24 24\"\n",
              "       width=\"24px\">\n",
              "    <path d=\"M0 0h24v24H0V0z\" fill=\"none\"/>\n",
              "    <path d=\"M18.56 5.44l.94 2.06.94-2.06 2.06-.94-2.06-.94-.94-2.06-.94 2.06-2.06.94zm-11 1L8.5 8.5l.94-2.06 2.06-.94-2.06-.94L8.5 2.5l-.94 2.06-2.06.94zm10 10l.94 2.06.94-2.06 2.06-.94-2.06-.94-.94-2.06-.94 2.06-2.06.94z\"/><path d=\"M17.41 7.96l-1.37-1.37c-.4-.4-.92-.59-1.43-.59-.52 0-1.04.2-1.43.59L10.3 9.45l-7.72 7.72c-.78.78-.78 2.05 0 2.83L4 21.41c.39.39.9.59 1.41.59.51 0 1.02-.2 1.41-.59l7.78-7.78 2.81-2.81c.8-.78.8-2.07 0-2.86zM5.41 20L4 18.59l7.72-7.72 1.47 1.35L5.41 20z\"/>\n",
              "  </svg>\n",
              "      </button>\n",
              "      \n",
              "  <style>\n",
              "    .colab-df-container {\n",
              "      display:flex;\n",
              "      flex-wrap:wrap;\n",
              "      gap: 12px;\n",
              "    }\n",
              "\n",
              "    .colab-df-convert {\n",
              "      background-color: #E8F0FE;\n",
              "      border: none;\n",
              "      border-radius: 50%;\n",
              "      cursor: pointer;\n",
              "      display: none;\n",
              "      fill: #1967D2;\n",
              "      height: 32px;\n",
              "      padding: 0 0 0 0;\n",
              "      width: 32px;\n",
              "    }\n",
              "\n",
              "    .colab-df-convert:hover {\n",
              "      background-color: #E2EBFA;\n",
              "      box-shadow: 0px 1px 2px rgba(60, 64, 67, 0.3), 0px 1px 3px 1px rgba(60, 64, 67, 0.15);\n",
              "      fill: #174EA6;\n",
              "    }\n",
              "\n",
              "    [theme=dark] .colab-df-convert {\n",
              "      background-color: #3B4455;\n",
              "      fill: #D2E3FC;\n",
              "    }\n",
              "\n",
              "    [theme=dark] .colab-df-convert:hover {\n",
              "      background-color: #434B5C;\n",
              "      box-shadow: 0px 1px 3px 1px rgba(0, 0, 0, 0.15);\n",
              "      filter: drop-shadow(0px 1px 2px rgba(0, 0, 0, 0.3));\n",
              "      fill: #FFFFFF;\n",
              "    }\n",
              "  </style>\n",
              "\n",
              "      <script>\n",
              "        const buttonEl =\n",
              "          document.querySelector('#df-7f1dbd1b-f5c8-452e-8a17-55243e90ac67 button.colab-df-convert');\n",
              "        buttonEl.style.display =\n",
              "          google.colab.kernel.accessAllowed ? 'block' : 'none';\n",
              "\n",
              "        async function convertToInteractive(key) {\n",
              "          const element = document.querySelector('#df-7f1dbd1b-f5c8-452e-8a17-55243e90ac67');\n",
              "          const dataTable =\n",
              "            await google.colab.kernel.invokeFunction('convertToInteractive',\n",
              "                                                     [key], {});\n",
              "          if (!dataTable) return;\n",
              "\n",
              "          const docLinkHtml = 'Like what you see? Visit the ' +\n",
              "            '<a target=\"_blank\" href=https://colab.research.google.com/notebooks/data_table.ipynb>data table notebook</a>'\n",
              "            + ' to learn more about interactive tables.';\n",
              "          element.innerHTML = '';\n",
              "          dataTable['output_type'] = 'display_data';\n",
              "          await google.colab.output.renderOutput(dataTable, element);\n",
              "          const docLink = document.createElement('div');\n",
              "          docLink.innerHTML = docLinkHtml;\n",
              "          element.appendChild(docLink);\n",
              "        }\n",
              "      </script>\n",
              "    </div>\n",
              "  </div>\n",
              "  "
            ],
            "text/plain": [
              "  school_state teacher_prefix project_grade_category  \\\n",
              "0           ca            mrs          grades_prek_2   \n",
              "1           ut             ms             grades_3_5   \n",
              "\n",
              "   teacher_number_of_previously_posted_projects  project_is_approved  \\\n",
              "0                                            53                    1   \n",
              "1                                             4                    1   \n",
              "\n",
              "  clean_categories                 clean_subcategories  \\\n",
              "0     math_science  appliedsciences health_lifescience   \n",
              "1     specialneeds                        specialneeds   \n",
              "\n",
              "                                               essay   price  \n",
              "0  i fortunate enough use fairy tale stem kits cl...  725.05  \n",
              "1  imagine 8 9 years old you third grade classroo...  213.03  "
            ]
          },
          "execution_count": 3,
          "metadata": {},
          "output_type": "execute_result"
        }
      ],
      "source": [
        "import pandas\n",
        "data = pandas.read_csv('preprocessed_data.csv')\n",
        "data.head(2)"
      ]
    },
    {
      "cell_type": "code",
      "execution_count": null,
      "metadata": {
        "id": "zHxuF-m7XUvW"
      },
      "outputs": [],
      "source": [
        "negative =[]\n",
        "positive = []\n",
        "neutral = []\n",
        "comp = []\n",
        "\n",
        "def sentiment_update(values):\n",
        "  negative.append(values[\"neg\"])\n",
        "  positive.append(values[\"pos\"])\n",
        "  neutral.append(values[\"neu\"])\n",
        "  comp.append(values[\"compound\"])\n",
        "\n",
        "  "
      ]
    },
    {
      "cell_type": "code",
      "execution_count": null,
      "metadata": {
        "colab": {
          "base_uri": "https://localhost:8080/"
        },
        "id": "wSGbgV6CX3VC",
        "outputId": "163a7c7f-290a-4ec6-df24-1f4e201450df"
      },
      "outputs": [
        {
          "name": "stderr",
          "output_type": "stream",
          "text": [
            "100%|██████████| 109248/109248 [03:50<00:00, 474.10it/s]\n"
          ]
        }
      ],
      "source": [
        "#from tqdm import tqdm \n",
        "for essay in tqdm(data[\"essay\"]):\n",
        "  sentiment_update(sid.polarity_scores(essay))\n",
        "  "
      ]
    },
    {
      "cell_type": "code",
      "execution_count": null,
      "metadata": {
        "id": "VCVuTR0DYGYe"
      },
      "outputs": [],
      "source": [
        "#new features adding to the dataset on sentiment intensity analyser\n",
        "data[\"neg\"] = negative\n",
        "data[\"pos\"] = positive\n",
        "data[\"neu\"] = neutral\n",
        "data[\"compound\"] = comp"
      ]
    },
    {
      "cell_type": "code",
      "execution_count": null,
      "metadata": {
        "colab": {
          "base_uri": "https://localhost:8080/",
          "height": 332
        },
        "id": "DvkRAGFGYaHL",
        "outputId": "49eb7559-9652-4261-9c56-0fd4a69643b3"
      },
      "outputs": [
        {
          "data": {
            "text/html": [
              "\n",
              "  <div id=\"df-97d4e51d-ff19-44a1-be28-c00885f56e79\">\n",
              "    <div class=\"colab-df-container\">\n",
              "      <div>\n",
              "<style scoped>\n",
              "    .dataframe tbody tr th:only-of-type {\n",
              "        vertical-align: middle;\n",
              "    }\n",
              "\n",
              "    .dataframe tbody tr th {\n",
              "        vertical-align: top;\n",
              "    }\n",
              "\n",
              "    .dataframe thead th {\n",
              "        text-align: right;\n",
              "    }\n",
              "</style>\n",
              "<table border=\"1\" class=\"dataframe\">\n",
              "  <thead>\n",
              "    <tr style=\"text-align: right;\">\n",
              "      <th></th>\n",
              "      <th>school_state</th>\n",
              "      <th>teacher_prefix</th>\n",
              "      <th>project_grade_category</th>\n",
              "      <th>teacher_number_of_previously_posted_projects</th>\n",
              "      <th>project_is_approved</th>\n",
              "      <th>clean_categories</th>\n",
              "      <th>clean_subcategories</th>\n",
              "      <th>essay</th>\n",
              "      <th>price</th>\n",
              "      <th>neg</th>\n",
              "      <th>pos</th>\n",
              "      <th>neu</th>\n",
              "      <th>compound</th>\n",
              "    </tr>\n",
              "  </thead>\n",
              "  <tbody>\n",
              "    <tr>\n",
              "      <th>0</th>\n",
              "      <td>ca</td>\n",
              "      <td>mrs</td>\n",
              "      <td>grades_prek_2</td>\n",
              "      <td>53</td>\n",
              "      <td>1</td>\n",
              "      <td>math_science</td>\n",
              "      <td>appliedsciences health_lifescience</td>\n",
              "      <td>i fortunate enough use fairy tale stem kits cl...</td>\n",
              "      <td>725.05</td>\n",
              "      <td>0.013</td>\n",
              "      <td>0.205</td>\n",
              "      <td>0.783</td>\n",
              "      <td>0.9867</td>\n",
              "    </tr>\n",
              "    <tr>\n",
              "      <th>1</th>\n",
              "      <td>ut</td>\n",
              "      <td>ms</td>\n",
              "      <td>grades_3_5</td>\n",
              "      <td>4</td>\n",
              "      <td>1</td>\n",
              "      <td>specialneeds</td>\n",
              "      <td>specialneeds</td>\n",
              "      <td>imagine 8 9 years old you third grade classroo...</td>\n",
              "      <td>213.03</td>\n",
              "      <td>0.072</td>\n",
              "      <td>0.248</td>\n",
              "      <td>0.680</td>\n",
              "      <td>0.9897</td>\n",
              "    </tr>\n",
              "  </tbody>\n",
              "</table>\n",
              "</div>\n",
              "      <button class=\"colab-df-convert\" onclick=\"convertToInteractive('df-97d4e51d-ff19-44a1-be28-c00885f56e79')\"\n",
              "              title=\"Convert this dataframe to an interactive table.\"\n",
              "              style=\"display:none;\">\n",
              "        \n",
              "  <svg xmlns=\"http://www.w3.org/2000/svg\" height=\"24px\"viewBox=\"0 0 24 24\"\n",
              "       width=\"24px\">\n",
              "    <path d=\"M0 0h24v24H0V0z\" fill=\"none\"/>\n",
              "    <path d=\"M18.56 5.44l.94 2.06.94-2.06 2.06-.94-2.06-.94-.94-2.06-.94 2.06-2.06.94zm-11 1L8.5 8.5l.94-2.06 2.06-.94-2.06-.94L8.5 2.5l-.94 2.06-2.06.94zm10 10l.94 2.06.94-2.06 2.06-.94-2.06-.94-.94-2.06-.94 2.06-2.06.94z\"/><path d=\"M17.41 7.96l-1.37-1.37c-.4-.4-.92-.59-1.43-.59-.52 0-1.04.2-1.43.59L10.3 9.45l-7.72 7.72c-.78.78-.78 2.05 0 2.83L4 21.41c.39.39.9.59 1.41.59.51 0 1.02-.2 1.41-.59l7.78-7.78 2.81-2.81c.8-.78.8-2.07 0-2.86zM5.41 20L4 18.59l7.72-7.72 1.47 1.35L5.41 20z\"/>\n",
              "  </svg>\n",
              "      </button>\n",
              "      \n",
              "  <style>\n",
              "    .colab-df-container {\n",
              "      display:flex;\n",
              "      flex-wrap:wrap;\n",
              "      gap: 12px;\n",
              "    }\n",
              "\n",
              "    .colab-df-convert {\n",
              "      background-color: #E8F0FE;\n",
              "      border: none;\n",
              "      border-radius: 50%;\n",
              "      cursor: pointer;\n",
              "      display: none;\n",
              "      fill: #1967D2;\n",
              "      height: 32px;\n",
              "      padding: 0 0 0 0;\n",
              "      width: 32px;\n",
              "    }\n",
              "\n",
              "    .colab-df-convert:hover {\n",
              "      background-color: #E2EBFA;\n",
              "      box-shadow: 0px 1px 2px rgba(60, 64, 67, 0.3), 0px 1px 3px 1px rgba(60, 64, 67, 0.15);\n",
              "      fill: #174EA6;\n",
              "    }\n",
              "\n",
              "    [theme=dark] .colab-df-convert {\n",
              "      background-color: #3B4455;\n",
              "      fill: #D2E3FC;\n",
              "    }\n",
              "\n",
              "    [theme=dark] .colab-df-convert:hover {\n",
              "      background-color: #434B5C;\n",
              "      box-shadow: 0px 1px 3px 1px rgba(0, 0, 0, 0.15);\n",
              "      filter: drop-shadow(0px 1px 2px rgba(0, 0, 0, 0.3));\n",
              "      fill: #FFFFFF;\n",
              "    }\n",
              "  </style>\n",
              "\n",
              "      <script>\n",
              "        const buttonEl =\n",
              "          document.querySelector('#df-97d4e51d-ff19-44a1-be28-c00885f56e79 button.colab-df-convert');\n",
              "        buttonEl.style.display =\n",
              "          google.colab.kernel.accessAllowed ? 'block' : 'none';\n",
              "\n",
              "        async function convertToInteractive(key) {\n",
              "          const element = document.querySelector('#df-97d4e51d-ff19-44a1-be28-c00885f56e79');\n",
              "          const dataTable =\n",
              "            await google.colab.kernel.invokeFunction('convertToInteractive',\n",
              "                                                     [key], {});\n",
              "          if (!dataTable) return;\n",
              "\n",
              "          const docLinkHtml = 'Like what you see? Visit the ' +\n",
              "            '<a target=\"_blank\" href=https://colab.research.google.com/notebooks/data_table.ipynb>data table notebook</a>'\n",
              "            + ' to learn more about interactive tables.';\n",
              "          element.innerHTML = '';\n",
              "          dataTable['output_type'] = 'display_data';\n",
              "          await google.colab.output.renderOutput(dataTable, element);\n",
              "          const docLink = document.createElement('div');\n",
              "          docLink.innerHTML = docLinkHtml;\n",
              "          element.appendChild(docLink);\n",
              "        }\n",
              "      </script>\n",
              "    </div>\n",
              "  </div>\n",
              "  "
            ],
            "text/plain": [
              "  school_state teacher_prefix project_grade_category  \\\n",
              "0           ca            mrs          grades_prek_2   \n",
              "1           ut             ms             grades_3_5   \n",
              "\n",
              "   teacher_number_of_previously_posted_projects  project_is_approved  \\\n",
              "0                                            53                    1   \n",
              "1                                             4                    1   \n",
              "\n",
              "  clean_categories                 clean_subcategories  \\\n",
              "0     math_science  appliedsciences health_lifescience   \n",
              "1     specialneeds                        specialneeds   \n",
              "\n",
              "                                               essay   price    neg    pos  \\\n",
              "0  i fortunate enough use fairy tale stem kits cl...  725.05  0.013  0.205   \n",
              "1  imagine 8 9 years old you third grade classroo...  213.03  0.072  0.248   \n",
              "\n",
              "     neu  compound  \n",
              "0  0.783    0.9867  \n",
              "1  0.680    0.9897  "
            ]
          },
          "execution_count": 7,
          "metadata": {},
          "output_type": "execute_result"
        }
      ],
      "source": [
        "data.head(2)"
      ]
    },
    {
      "cell_type": "markdown",
      "metadata": {
        "id": "6lAMFKFcsc3j"
      },
      "source": [
        "<h2>1.2 Splitting data into Train and cross validation(or test): Stratified Sampling</h2>"
      ]
    },
    {
      "cell_type": "code",
      "execution_count": null,
      "metadata": {
        "id": "OyeWlRtHYft5"
      },
      "outputs": [],
      "source": [
        "y = data[\"project_is_approved\"].values\n",
        "x = data.drop([\"project_is_approved\"],axis=1)"
      ]
    },
    {
      "cell_type": "code",
      "execution_count": null,
      "metadata": {
        "colab": {
          "base_uri": "https://localhost:8080/"
        },
        "id": "qzXtJQobZtSR",
        "outputId": "80643371-163e-402f-a7ab-14b86562d0e7"
      },
      "outputs": [
        {
          "name": "stdout",
          "output_type": "stream",
          "text": [
            "73196\n",
            "36052\n"
          ]
        }
      ],
      "source": [
        "x_train,x_test,y_train,y_test = train_test_split(x,y,test_size=0.33,stratify=y,random_state=42)\n",
        "print(len(y_train))\n",
        "print(len(y_test))"
      ]
    },
    {
      "cell_type": "markdown",
      "metadata": {
        "id": "Qf20SLK8aVWB"
      },
      "source": [
        "Encoding the Essay feature"
      ]
    },
    {
      "cell_type": "code",
      "execution_count": null,
      "metadata": {
        "colab": {
          "base_uri": "https://localhost:8080/"
        },
        "id": "9BZhsGlRaUls",
        "outputId": "373645d5-3714-4e24-847b-4879afd91f5b"
      },
      "outputs": [
        {
          "name": "stdout",
          "output_type": "stream",
          "text": [
            "  (0, 4988)\t0.07845321848421512\n",
            "  (0, 4951)\t0.05541923129681841\n",
            "  (0, 4919)\t0.08502843356840221\n",
            "  (0, 4864)\t0.12854994173323547\n",
            "  (0, 4848)\t0.1621148422760008\n",
            "  (0, 4829)\t0.048936165181412215\n",
            "  (0, 4742)\t0.06329875330786552\n",
            "  (0, 4592)\t0.09446835673076666\n",
            "  (0, 4576)\t0.06129627229238638\n",
            "  (0, 4563)\t0.04832672937276115\n",
            "  (0, 4535)\t0.04415155487010553\n",
            "  (0, 4532)\t0.13222274067406695\n",
            "  (0, 4523)\t0.035470139454669224\n",
            "  (0, 4505)\t0.034689615010315394\n",
            "  (0, 4472)\t0.11035722075299437\n",
            "  (0, 4364)\t0.06645624580034992\n",
            "  (0, 4339)\t0.14278631460752597\n",
            "  (0, 4338)\t0.04844274923441687\n",
            "  (0, 4258)\t0.09267828379428465\n",
            "  (0, 4146)\t0.10931501299374669\n",
            "  (0, 4109)\t0.14742191205699548\n",
            "  (0, 4017)\t0.09104238447425712\n",
            "  (0, 3983)\t0.08691818064850412\n",
            "  (0, 3932)\t0.10970153354926372\n",
            "  (0, 3866)\t0.073932100743522\n",
            "  :\t:\n",
            "  (73195, 1638)\t0.1254552067637354\n",
            "  (73195, 1635)\t0.058573956633454084\n",
            "  (73195, 1619)\t0.08103373845908134\n",
            "  (73195, 1336)\t0.11353544491526235\n",
            "  (73195, 1288)\t0.1130439573533104\n",
            "  (73195, 1273)\t0.07261529954903272\n",
            "  (73195, 1159)\t0.12080824826401519\n",
            "  (73195, 1095)\t0.09671973380613147\n",
            "  (73195, 1094)\t0.052688485763298994\n",
            "  (73195, 1062)\t0.07138073659351973\n",
            "  (73195, 906)\t0.08674129319052662\n",
            "  (73195, 905)\t0.03731966890341892\n",
            "  (73195, 835)\t0.09001503838048042\n",
            "  (73195, 580)\t0.27259355310299893\n",
            "  (73195, 579)\t0.13546205358446833\n",
            "  (73195, 486)\t0.09459593804331386\n",
            "  (73195, 410)\t0.12224155252247096\n",
            "  (73195, 354)\t0.057121970523937735\n",
            "  (73195, 250)\t0.12066541905529482\n",
            "  (73195, 245)\t0.040209868861753234\n",
            "  (73195, 231)\t0.06868196561009418\n",
            "  (73195, 216)\t0.10977633701690272\n",
            "  (73195, 211)\t0.1468580138544344\n",
            "  (73195, 194)\t0.12202267516334249\n",
            "  (73195, 89)\t0.03948686082999704 (73196,)\n",
            "  (0, 4988)\t0.07513508859935038\n",
            "  (0, 4935)\t0.07803055010356841\n",
            "  (0, 4920)\t0.07082340389985203\n",
            "  (0, 4886)\t0.08852957079961579\n",
            "  (0, 4848)\t0.07762914812811514\n",
            "  (0, 4846)\t0.05277442940835771\n",
            "  (0, 4829)\t0.09373288126751952\n",
            "  (0, 4823)\t0.08511611729048212\n",
            "  (0, 4689)\t0.09946806687605257\n",
            "  (0, 4620)\t0.09481010665491912\n",
            "  (0, 4572)\t0.13809312513235947\n",
            "  (0, 4563)\t0.13884834159620124\n",
            "  (0, 4540)\t0.13143362097169525\n",
            "  (0, 4523)\t0.03396995205613008\n",
            "  (0, 4508)\t0.08540690292719945\n",
            "  (0, 4505)\t0.06644487881148724\n",
            "  (0, 4455)\t0.0556037425626492\n",
            "  (0, 4429)\t0.10366792759842292\n",
            "  (0, 4339)\t0.13674725659559422\n",
            "  (0, 4317)\t0.1287525827197899\n",
            "  (0, 4280)\t0.07469525816504914\n",
            "  (0, 4249)\t0.11055640947073418\n",
            "  (0, 4215)\t0.13320937331396557\n",
            "  (0, 4185)\t0.16214613152103094\n",
            "  (0, 4158)\t0.12885393924944236\n",
            "  :\t:\n",
            "  (36051, 939)\t0.05154310874148936\n",
            "  (36051, 908)\t0.051327592013005255\n",
            "  (36051, 905)\t0.05062025208365619\n",
            "  (36051, 835)\t0.14244538459297212\n",
            "  (36051, 828)\t0.10059045963978969\n",
            "  (36051, 827)\t0.08252394813386256\n",
            "  (36051, 765)\t0.04230229066347113\n",
            "  (36051, 763)\t0.051488309448653166\n",
            "  (36051, 761)\t0.05213125288081789\n",
            "  (36051, 757)\t0.07794474529343311\n",
            "  (36051, 675)\t0.04512626174778216\n",
            "  (36051, 625)\t0.05870914976989289\n",
            "  (36051, 532)\t0.034363143239232945\n",
            "  (36051, 504)\t0.06370073323700567\n",
            "  (36051, 458)\t0.04833393335006223\n",
            "  (36051, 354)\t0.03874000804937485\n",
            "  (36051, 308)\t0.0837824085870488\n",
            "  (36051, 250)\t0.040917524926108464\n",
            "  (36051, 245)\t0.05454050793698859\n",
            "  (36051, 233)\t0.09614380169801696\n",
            "  (36051, 215)\t0.07526124028755286\n",
            "  (36051, 205)\t0.17570711211661816\n",
            "  (36051, 163)\t0.082692378649461\n",
            "  (36051, 98)\t0.043050666394359074\n",
            "  (36051, 89)\t0.02677991134352726 (36052,)\n"
          ]
        }
      ],
      "source": [
        "tfidfvectorizer = TfidfVectorizer(min_df=10,max_features=5000)\n",
        "#fitting the text\n",
        "tfidf_text  = tfidfvectorizer.fit(x_train['essay'].values)\n",
        "\n",
        "#transforming the text\n",
        "x_tr_ess_tfidf = tfidfvectorizer.transform(x_train['essay'].values)\n",
        "x_te_ess_tfidf = tfidfvectorizer.transform(x_test['essay'].values)\n",
        "\n",
        "print(x_tr_ess_tfidf,y_train.shape)\n",
        "print(x_te_ess_tfidf,y_test.shape)\n"
      ]
    },
    {
      "cell_type": "code",
      "execution_count": null,
      "metadata": {
        "id": "sB59di7VbZ2L"
      },
      "outputs": [],
      "source": [
        "import pickle\n",
        "with open('glove_vectors','rb') as f:\n",
        "  model = pickle.load(f)\n",
        "  glove_words = set(model.keys())\n",
        "  "
      ]
    },
    {
      "cell_type": "code",
      "execution_count": null,
      "metadata": {
        "id": "IQlTICpnb9mJ"
      },
      "outputs": [],
      "source": [
        "model_tfidf = TfidfVectorizer()\n",
        "model_tfidf.fit(x_train[\"essay\"].values)\n",
        "dictionary = dict(zip(model_tfidf.get_feature_names(),list(model_tfidf.idf_)))\n",
        "words_tfidf = set(model_tfidf.get_feature_names())\n"
      ]
    },
    {
      "cell_type": "code",
      "execution_count": null,
      "metadata": {
        "colab": {
          "base_uri": "https://localhost:8080/"
        },
        "id": "rTyMt0kZci4N",
        "outputId": "1b8d5df7-7f58-420c-d836-01e9386dddb5"
      },
      "outputs": [
        {
          "name": "stderr",
          "output_type": "stream",
          "text": [
            "100%|██████████| 73196/73196 [02:28<00:00, 493.61it/s]\n"
          ]
        },
        {
          "name": "stdout",
          "output_type": "stream",
          "text": [
            "(73196, 300) (73196,)\n"
          ]
        }
      ],
      "source": [
        "tr_tfidf_w2v_ess = []\n",
        "for sent in tqdm(x_train[\"essay\"]):\n",
        "  vect = np.zeros(300)\n",
        "  tfidf_weight = 0\n",
        "  for wrd in sent.split():\n",
        "    if(wrd in glove_words) and (wrd in words_tfidf):\n",
        "      vec = model[wrd]\n",
        "      tf_idf = dictionary[wrd]*(sent.count(wrd)/len(sent.split()))\n",
        "      vect = vect + (vec * tf_idf)\n",
        "      tfidf_weight = tfidf_weight + tf_idf\n",
        "  if tfidf_weight != 0:\n",
        "    vect = vect/tfidf_weight\n",
        "  tr_tfidf_w2v_ess.append(vect)\n",
        "x_tr_ess_tdidf_w2v = sparse.csr_matrix(tr_tfidf_w2v_ess)\n",
        "print(x_tr_ess_tdidf_w2v.shape,y_train.shape)\n",
        "\n"
      ]
    },
    {
      "cell_type": "code",
      "execution_count": null,
      "metadata": {
        "colab": {
          "base_uri": "https://localhost:8080/"
        },
        "id": "ak-vdVD7iDtb",
        "outputId": "be8525a3-bfc0-4b37-ff3b-c6e97df20607"
      },
      "outputs": [
        {
          "name": "stderr",
          "output_type": "stream",
          "text": [
            "100%|██████████| 36052/36052 [01:12<00:00, 496.40it/s]\n"
          ]
        },
        {
          "name": "stdout",
          "output_type": "stream",
          "text": [
            "(36052, 300) (36052,)\n"
          ]
        }
      ],
      "source": [
        "te_tfidf_w2v_ess = []\n",
        "for sent in tqdm(x_test[\"essay\"]):\n",
        "  vect = np.zeros(300)\n",
        "  tfidf_weight = 0\n",
        "  for wrd in sent.split():\n",
        "    if(wrd in glove_words) and (wrd in words_tfidf):\n",
        "      vec = model[wrd]\n",
        "      tf_idf = dictionary[wrd]*(sent.count(wrd)/len(sent.split()))\n",
        "      vect = vect + (vec * tf_idf)\n",
        "      tfidf_weight = tfidf_weight + tf_idf\n",
        "  if tfidf_weight != 0:\n",
        "    vect = vect/tfidf_weight\n",
        "  te_tfidf_w2v_ess.append(vect)\n",
        "x_te_ess_tdidf_w2v = sparse.csr_matrix(te_tfidf_w2v_ess)\n",
        "print(x_te_ess_tdidf_w2v.shape,y_test.shape)"
      ]
    },
    {
      "cell_type": "markdown",
      "metadata": {
        "id": "3cJDyKPak8oZ"
      },
      "source": [
        "Encoding Categorical Features"
      ]
    },
    {
      "cell_type": "code",
      "execution_count": null,
      "metadata": {
        "id": "83GeQGOci_C0"
      },
      "outputs": [],
      "source": [
        "def fitting(feature):\n",
        "  x_train[\"class_label\"] = y_train\n",
        "  cnt = x_train[feature].value_counts()\n",
        "  feature_dict = dict()\n",
        "  for i,denominator in cnt.items():\n",
        "    vect = []\n",
        "    for j in range(2):\n",
        "      comp = x_train.loc[(x_train[\"class_label\"]==j)&(x_train[feature]==i)]\n",
        "      vect.append(len(comp)/denominator)\n",
        "    feature_dict[i] = vect\n",
        "  return feature_dict\n",
        "def transform(feature,df):\n",
        "  feature_dict = fitting(feature)\n",
        "  cnt = x_train[feature].value_counts()\n",
        "  f=[]\n",
        "  for cat in df[feature]:\n",
        "    if cat in dict(cnt).keys():\n",
        "      f.append(feature_dict[cat])\n",
        "    else:\n",
        "      f.append([0.5,0.05])\n",
        "  return f"
      ]
    },
    {
      "cell_type": "markdown",
      "metadata": {
        "id": "76tpq7MwlKyk"
      },
      "source": [
        "Encoding School State"
      ]
    },
    {
      "cell_type": "code",
      "execution_count": null,
      "metadata": {
        "colab": {
          "base_uri": "https://localhost:8080/"
        },
        "id": "Ic8FhnntlNqd",
        "outputId": "3281a006-4e46-4d28-d722-0f8159e81079"
      },
      "outputs": [
        {
          "name": "stdout",
          "output_type": "stream",
          "text": [
            "(73196, 2) (73196,)\n",
            "(36052, 2) (36052,)\n"
          ]
        }
      ],
      "source": [
        "x_tr_school = np.array(transform('school_state',x_train))\n",
        "x_te_school = np.array(transform('school_state',x_test))\n",
        "\n",
        "print(x_tr_school.shape,y_train.shape)\n",
        "print(x_te_school.shape,y_test.shape)\n"
      ]
    },
    {
      "cell_type": "markdown",
      "metadata": {
        "id": "cfmtjl--yicH"
      },
      "source": [
        "Encodinng teacher prefix"
      ]
    },
    {
      "cell_type": "code",
      "execution_count": null,
      "metadata": {
        "colab": {
          "base_uri": "https://localhost:8080/"
        },
        "id": "hsvSLqGEyIRj",
        "outputId": "acc41170-8649-4a63-8c42-f984ae9bd84b"
      },
      "outputs": [
        {
          "name": "stdout",
          "output_type": "stream",
          "text": [
            "(73196, 2) (73196,)\n",
            "(36052, 2) (36052,)\n"
          ]
        }
      ],
      "source": [
        "x_tr_prefix = np.array(transform('teacher_prefix',x_train))\n",
        "x_te_prefix = np.array(transform('teacher_prefix',x_test))\n",
        "\n",
        "print(x_tr_prefix.shape,y_train.shape)\n",
        "print(x_te_prefix.shape,y_test.shape)"
      ]
    },
    {
      "cell_type": "markdown",
      "metadata": {
        "id": "4vfnlYTJ7Ojz"
      },
      "source": [
        "Encoding Project grade category"
      ]
    },
    {
      "cell_type": "code",
      "execution_count": null,
      "metadata": {
        "colab": {
          "base_uri": "https://localhost:8080/"
        },
        "id": "ZfFbxoEizRwp",
        "outputId": "946e4ea4-7a7a-4caf-bf51-010a2511712d"
      },
      "outputs": [
        {
          "name": "stdout",
          "output_type": "stream",
          "text": [
            "(73196, 2) (73196,)\n",
            "(36052, 2) (36052,)\n"
          ]
        }
      ],
      "source": [
        "x_tr_grade = np.array(transform('project_grade_category',x_train))\n",
        "x_te_grade = np.array(transform('project_grade_category',x_test))\n",
        "\n",
        "print(x_tr_grade.shape,y_train.shape)\n",
        "print(x_te_grade.shape,y_test.shape)"
      ]
    },
    {
      "cell_type": "markdown",
      "metadata": {
        "id": "qTzML0Bm7SsY"
      },
      "source": [
        "Encoding Clean Categories"
      ]
    },
    {
      "cell_type": "code",
      "execution_count": null,
      "metadata": {
        "colab": {
          "base_uri": "https://localhost:8080/"
        },
        "id": "7-egzEU97aHa",
        "outputId": "ef21d9d4-09cd-460e-84fc-fa469fdc0b67"
      },
      "outputs": [
        {
          "name": "stdout",
          "output_type": "stream",
          "text": [
            "(73196, 2) (73196,)\n",
            "(36052, 2) (36052,)\n"
          ]
        }
      ],
      "source": [
        "x_tr_cat = np.array(transform('clean_categories',x_train))\n",
        "x_te_cat = np.array(transform('clean_categories',x_test))\n",
        "\n",
        "print(x_tr_cat.shape,y_train.shape)\n",
        "print(x_te_cat.shape,y_test.shape)"
      ]
    },
    {
      "cell_type": "markdown",
      "metadata": {
        "id": "jglcGJmz7xYs"
      },
      "source": [
        "Encoding Clean subcategories"
      ]
    },
    {
      "cell_type": "code",
      "execution_count": null,
      "metadata": {
        "colab": {
          "base_uri": "https://localhost:8080/"
        },
        "id": "8cEL3rw273Am",
        "outputId": "8ee31910-c8ad-44e3-81e2-98404dc21f7f"
      },
      "outputs": [
        {
          "name": "stdout",
          "output_type": "stream",
          "text": [
            "(73196, 2) (73196,)\n",
            "(36052, 2) (36052,)\n"
          ]
        }
      ],
      "source": [
        "x_tr_subcat = np.array(transform('clean_subcategories',x_train))\n",
        "x_te_subcat = np.array(transform('clean_subcategories',x_test))\n",
        "\n",
        "print(x_tr_subcat.shape,y_train.shape)\n",
        "print(x_te_subcat.shape,y_test.shape)"
      ]
    },
    {
      "cell_type": "code",
      "execution_count": null,
      "metadata": {
        "colab": {
          "base_uri": "https://localhost:8080/"
        },
        "id": "mg2JOPKyBH1f",
        "outputId": "f977d0b7-54bc-43b2-e2d4-5909f2459ba1"
      },
      "outputs": [
        {
          "name": "stdout",
          "output_type": "stream",
          "text": [
            "73196\n"
          ]
        },
        {
          "data": {
            "text/plain": [
              "array([[742.2 , 412.92, 647.91, ..., 282.15,  90.94, 235.46]])"
            ]
          },
          "execution_count": 21,
          "metadata": {},
          "output_type": "execute_result"
        }
      ],
      "source": [
        "print(len(x_train['price']))\n",
        "x_train['price'].values.reshape(1,-1)"
      ]
    },
    {
      "cell_type": "markdown",
      "metadata": {
        "id": "1D_rNSUd9imB"
      },
      "source": [
        "Encoding the numerical feature of price"
      ]
    },
    {
      "cell_type": "code",
      "execution_count": null,
      "metadata": {
        "colab": {
          "base_uri": "https://localhost:8080/"
        },
        "id": "OqdNbH4e9n1p",
        "outputId": "0a921342-9551-4ec6-ded7-60f6db5b8e03"
      },
      "outputs": [
        {
          "name": "stdout",
          "output_type": "stream",
          "text": [
            "(73196, 1) (73196,)\n",
            "(36052, 1) (36052,)\n"
          ]
        }
      ],
      "source": [
        "from sklearn.preprocessing import Normalizer\n",
        "normalizer = Normalizer()\n",
        "\n",
        "x_tr_price_norm = normalizer.transform(x_train['price'].values.reshape(1,-1)).reshape(-1,1)\n",
        "x_te_price_norm = normalizer.transform(x_test['price'].values.reshape(1,-1)).reshape(-1,1)\n",
        "\n",
        "print(x_tr_price_norm.shape,y_train.shape)\n",
        "print(x_te_price_norm.shape,y_test.shape)\n",
        "\n"
      ]
    },
    {
      "cell_type": "markdown",
      "metadata": {
        "id": "8WfQ3KlH_jri"
      },
      "source": [
        "Encoding teacher number of previously posted projects"
      ]
    },
    {
      "cell_type": "code",
      "execution_count": null,
      "metadata": {
        "colab": {
          "base_uri": "https://localhost:8080/"
        },
        "id": "nIToMmwJE7UP",
        "outputId": "bddcf5b7-a730-4396-8147-0b537f86e0fe"
      },
      "outputs": [
        {
          "name": "stdout",
          "output_type": "stream",
          "text": [
            "73196\n"
          ]
        },
        {
          "data": {
            "text/plain": [
              "array([[13,  4,  0, ...,  1,  1,  0]])"
            ]
          },
          "execution_count": 23,
          "metadata": {},
          "output_type": "execute_result"
        }
      ],
      "source": [
        "print(len(x_train['teacher_number_of_previously_posted_projects']))\n",
        "x_train['teacher_number_of_previously_posted_projects'].values.reshape(1,-1)"
      ]
    },
    {
      "cell_type": "code",
      "execution_count": null,
      "metadata": {
        "colab": {
          "base_uri": "https://localhost:8080/"
        },
        "id": "gnOGKKzH_uBt",
        "outputId": "4d0f6a77-bca1-435a-d8bc-bba71cb8fc1e"
      },
      "outputs": [
        {
          "name": "stdout",
          "output_type": "stream",
          "text": [
            "(73196, 1) (73196,)\n",
            "(36052, 1) (36052,)\n"
          ]
        }
      ],
      "source": [
        "from sklearn.preprocessing import Normalizer\n",
        "normalizer = Normalizer()\n",
        "\n",
        "x_tr_prev_proj = normalizer.transform(x_train['teacher_number_of_previously_posted_projects'].values.reshape(1,-1)).reshape(-1,1)\n",
        "x_te_prev_proj = normalizer.transform(x_test['teacher_number_of_previously_posted_projects'].values.reshape(1,-1)).reshape(-1,1)\n",
        "\n",
        "print(x_tr_prev_proj.shape,y_train.shape)\n",
        "print(x_te_prev_proj.shape,y_test.shape)\n"
      ]
    },
    {
      "cell_type": "markdown",
      "metadata": {
        "id": "UBcNh51dAwAA"
      },
      "source": [
        "Encoding for negative"
      ]
    },
    {
      "cell_type": "code",
      "execution_count": null,
      "metadata": {
        "colab": {
          "base_uri": "https://localhost:8080/"
        },
        "id": "8Q1KaJ5xFDqp",
        "outputId": "4554fe0a-ad6a-4c05-96d6-0ef3020da176"
      },
      "outputs": [
        {
          "name": "stdout",
          "output_type": "stream",
          "text": [
            "73196\n"
          ]
        },
        {
          "data": {
            "text/plain": [
              "array([[0.045, 0.034, 0.047, ..., 0.036, 0.039, 0.081]])"
            ]
          },
          "execution_count": 25,
          "metadata": {},
          "output_type": "execute_result"
        }
      ],
      "source": [
        "print(len(x_train['neg']))\n",
        "x_train['neg'].values.reshape(1,-1)"
      ]
    },
    {
      "cell_type": "code",
      "execution_count": null,
      "metadata": {
        "colab": {
          "base_uri": "https://localhost:8080/"
        },
        "id": "I6E75jKoAs35",
        "outputId": "e0d4eecf-a6c6-48cc-85ae-9e8bd4eed9ee"
      },
      "outputs": [
        {
          "name": "stdout",
          "output_type": "stream",
          "text": [
            "(73196, 1) (73196,)\n",
            "(36052, 1) (36052,)\n"
          ]
        }
      ],
      "source": [
        "normalizer = Normalizer()\n",
        "\n",
        "x_tr_neg = normalizer.transform(x_train['neg'].values.reshape(1,-1)).reshape(-1,1)\n",
        "x_te_neg = normalizer.transform(x_test['neg'].values.reshape(1,-1)).reshape(-1,1)\n",
        "\n",
        "print(x_tr_neg.shape,y_train.shape)\n",
        "print(x_te_neg.shape,y_test.shape)\n"
      ]
    },
    {
      "cell_type": "markdown",
      "metadata": {
        "id": "HfCelK0NBGuA"
      },
      "source": [
        "Encoding for positive"
      ]
    },
    {
      "cell_type": "code",
      "execution_count": null,
      "metadata": {
        "colab": {
          "base_uri": "https://localhost:8080/"
        },
        "id": "i0OlsgTlFMa0",
        "outputId": "1a442f95-8777-4c2a-aa45-089b1f4a7989"
      },
      "outputs": [
        {
          "name": "stdout",
          "output_type": "stream",
          "text": [
            "73196\n"
          ]
        },
        {
          "data": {
            "text/plain": [
              "array([[0.255, 0.267, 0.331, ..., 0.277, 0.307, 0.193]])"
            ]
          },
          "execution_count": 27,
          "metadata": {},
          "output_type": "execute_result"
        }
      ],
      "source": [
        "print(len(x_train['pos']))\n",
        "x_train['pos'].values.reshape(1,-1)"
      ]
    },
    {
      "cell_type": "code",
      "execution_count": null,
      "metadata": {
        "colab": {
          "base_uri": "https://localhost:8080/"
        },
        "id": "M9o2iIRBBINR",
        "outputId": "a4b6f42b-6f7f-45f8-8fb6-1b3464c2b579"
      },
      "outputs": [
        {
          "name": "stdout",
          "output_type": "stream",
          "text": [
            "(73196, 1) (73196,)\n",
            "(36052, 1) (36052,)\n"
          ]
        }
      ],
      "source": [
        "normalizer = Normalizer()\n",
        "\n",
        "x_tr_pos = normalizer.transform(x_train['pos'].values.reshape(1,-1)).reshape(-1,1)\n",
        "x_te_pos = normalizer.transform(x_test['pos'].values.reshape(1,-1)).reshape(-1,1)\n",
        "\n",
        "print(x_tr_pos.shape,y_train.shape)\n",
        "print(x_te_pos.shape,y_test.shape)\n"
      ]
    },
    {
      "cell_type": "markdown",
      "metadata": {
        "id": "IFAFpkLlBQf3"
      },
      "source": [
        "Encoding for neutral"
      ]
    },
    {
      "cell_type": "code",
      "execution_count": null,
      "metadata": {
        "colab": {
          "base_uri": "https://localhost:8080/"
        },
        "id": "gZ514yPjFTUD",
        "outputId": "a8be1235-a758-4629-df80-a8e015d69195"
      },
      "outputs": [
        {
          "name": "stdout",
          "output_type": "stream",
          "text": [
            "73196\n"
          ]
        },
        {
          "data": {
            "text/plain": [
              "array([[0.7  , 0.699, 0.622, ..., 0.686, 0.654, 0.726]])"
            ]
          },
          "execution_count": 29,
          "metadata": {},
          "output_type": "execute_result"
        }
      ],
      "source": [
        "print(len(x_train['neu']))\n",
        "x_train['neu'].values.reshape(1,-1)"
      ]
    },
    {
      "cell_type": "code",
      "execution_count": null,
      "metadata": {
        "colab": {
          "base_uri": "https://localhost:8080/"
        },
        "id": "JD0INjKOBVxh",
        "outputId": "7c802c4e-202a-4c2b-f01b-e6f1ea1fc377"
      },
      "outputs": [
        {
          "name": "stdout",
          "output_type": "stream",
          "text": [
            "(73196, 1) (73196,)\n",
            "(36052, 1) (36052,)\n"
          ]
        }
      ],
      "source": [
        "normalizer = Normalizer()\n",
        "\n",
        "x_tr_neu = normalizer.transform(x_train['neu'].values.reshape(1,-1)).reshape(-1,1)\n",
        "x_te_neu = normalizer.transform(x_test['neu'].values.reshape(1,-1)).reshape(-1,1)\n",
        "\n",
        "print(x_tr_neu.shape,y_train.shape)\n",
        "print(x_te_neu.shape,y_test.shape)"
      ]
    },
    {
      "cell_type": "markdown",
      "metadata": {
        "id": "PQPpMu-EBdFY"
      },
      "source": [
        "Encoding for compound"
      ]
    },
    {
      "cell_type": "code",
      "execution_count": null,
      "metadata": {
        "colab": {
          "base_uri": "https://localhost:8080/"
        },
        "id": "gXa5WDagFaT9",
        "outputId": "52c20824-0863-4911-d6d6-7e45fe87ced4"
      },
      "outputs": [
        {
          "name": "stdout",
          "output_type": "stream",
          "text": [
            "73196\n"
          ]
        },
        {
          "data": {
            "text/plain": [
              "array([[0.9831, 0.9822, 0.9925, ..., 0.9934, 0.9879, 0.9588]])"
            ]
          },
          "execution_count": 32,
          "metadata": {},
          "output_type": "execute_result"
        }
      ],
      "source": [
        "print(len(x_train['compound']))\n",
        "x_train['compound'].values.reshape(1,-1)"
      ]
    },
    {
      "cell_type": "code",
      "execution_count": null,
      "metadata": {
        "colab": {
          "base_uri": "https://localhost:8080/"
        },
        "id": "XCt09ucXBfx9",
        "outputId": "7a5d1580-964b-4b54-ec95-457a7c0a29d7"
      },
      "outputs": [
        {
          "name": "stdout",
          "output_type": "stream",
          "text": [
            "(73196, 1) (73196,)\n",
            "(36052, 1) (36052,)\n"
          ]
        }
      ],
      "source": [
        "normalizer = Normalizer()\n",
        "\n",
        "x_tr_comp = normalizer.transform(x_train['compound'].values.reshape(1,-1)).reshape(-1,1)\n",
        "x_te_comp = normalizer.transform(x_test['compound'].values.reshape(1,-1)).reshape(-1,1)\n",
        "\n",
        "print(x_tr_comp.shape,y_train.shape)\n",
        "print(x_te_comp.shape,y_test.shape)"
      ]
    },
    {
      "cell_type": "markdown",
      "metadata": {
        "id": "N5y2GmM7Brbm"
      },
      "source": [
        "Combining all the features "
      ]
    },
    {
      "cell_type": "markdown",
      "metadata": {
        "id": "5ey8MIYPBuRI"
      },
      "source": [
        "SET 1"
      ]
    },
    {
      "cell_type": "code",
      "execution_count": null,
      "metadata": {
        "id": "pzrjwyjFBxhF"
      },
      "outputs": [],
      "source": [
        "from scipy.sparse import hstack\n",
        "x_tr1 = hstack((x_tr_ess_tfidf,x_tr_school,x_tr_prefix,x_tr_grade,x_tr_cat,x_tr_subcat,x_tr_price_norm,x_tr_prev_proj,x_tr_neg,x_tr_pos,x_tr_neu,x_tr_comp)).tocsr()\n",
        "x_te1 = hstack((x_te_ess_tfidf,x_te_school,x_te_prefix,x_te_grade,x_te_cat,x_te_subcat,x_te_price_norm,x_te_prev_proj,x_te_neg,x_te_pos,x_te_neu,x_te_comp)).tocsr()\n"
      ]
    },
    {
      "cell_type": "code",
      "execution_count": null,
      "metadata": {
        "colab": {
          "base_uri": "https://localhost:8080/"
        },
        "id": "ItqFcW0rGzVr",
        "outputId": "999797bd-06b7-492c-b153-1132ef7a0093"
      },
      "outputs": [
        {
          "name": "stdout",
          "output_type": "stream",
          "text": [
            "(73196, 5016)\n",
            "(36052, 5016)\n"
          ]
        }
      ],
      "source": [
        "print(x_tr1.shape)\n",
        "print(x_te1.shape)"
      ]
    },
    {
      "cell_type": "markdown",
      "metadata": {
        "id": "z2VO-i-XG6is"
      },
      "source": [
        "SET 2"
      ]
    },
    {
      "cell_type": "code",
      "execution_count": null,
      "metadata": {
        "id": "SxeOfu_uG8R8"
      },
      "outputs": [],
      "source": [
        "from scipy.sparse import hstack\n",
        "x_tr2 = hstack((x_tr_ess_tdidf_w2v,x_tr_school,x_tr_prefix,x_tr_grade,x_tr_cat,x_tr_subcat,x_tr_price_norm,x_tr_prev_proj,x_tr_neg,x_tr_pos,x_tr_neu,x_tr_comp)).tocsr()\n",
        "x_te2 = hstack((x_te_ess_tdidf_w2v,x_te_school,x_te_prefix,x_te_grade,x_te_cat,x_te_subcat,x_te_price_norm,x_te_prev_proj,x_te_neg,x_te_pos,x_te_neu,x_te_comp)).tocsr()\n"
      ]
    },
    {
      "cell_type": "code",
      "execution_count": null,
      "metadata": {
        "colab": {
          "base_uri": "https://localhost:8080/"
        },
        "id": "ICQD80saHXUs",
        "outputId": "509eee9d-f068-4cbd-8614-094ac89722a8"
      },
      "outputs": [
        {
          "name": "stdout",
          "output_type": "stream",
          "text": [
            "(73196, 316)\n",
            "(36052, 316)\n"
          ]
        }
      ],
      "source": [
        "print(x_tr2.shape)\n",
        "print(x_te2.shape)"
      ]
    },
    {
      "cell_type": "markdown",
      "metadata": {
        "id": "Kdmp9N9vHpDY"
      },
      "source": [
        "Gradient boost classifier with grid search cross validation on SET1 "
      ]
    },
    {
      "cell_type": "code",
      "execution_count": null,
      "metadata": {
        "colab": {
          "base_uri": "https://localhost:8080/"
        },
        "id": "G-z84ElHH2aa",
        "outputId": "b415b664-bad8-4f9c-a874-5842f640b522"
      },
      "outputs": [
        {
          "data": {
            "text/plain": [
              "GridSearchCV(cv=5, estimator=GradientBoostingClassifier(), n_jobs=-1,\n",
              "             param_grid={'max_depth': [1, 2, 3, 4],\n",
              "                         'n_estimators': [5, 10, 15, 20]},\n",
              "             return_train_score=True, scoring='roc_auc')"
            ]
          },
          "execution_count": 38,
          "metadata": {},
          "output_type": "execute_result"
        }
      ],
      "source": [
        "from sklearn.ensemble import GradientBoostingClassifier\n",
        "from sklearn.model_selection import GridSearchCV\n",
        "\n",
        "params = {\"max_depth\":[1,2,3,4], \"n_estimators\":[5,10,15,20]}\n",
        "clf = GridSearchCV(GradientBoostingClassifier(),params,cv=5,scoring=\"roc_auc\",return_train_score=True,n_jobs=-1)\n",
        "clf.fit(x_tr1,y_train)"
      ]
    },
    {
      "cell_type": "code",
      "execution_count": null,
      "metadata": {
        "id": "AkdLUihUKFFe"
      },
      "outputs": [],
      "source": [
        "tr_auc = clf.cv_results_['mean_test_score']\n",
        "tr_std_auc = clf.cv_results_['std_train_score']\n",
        "cv_auc = clf.cv_results_['mean_test_score']\n",
        "cv_std_auc = clf.cv_results_['std_test_score']"
      ]
    },
    {
      "cell_type": "code",
      "execution_count": null,
      "metadata": {
        "colab": {
          "base_uri": "https://localhost:8080/"
        },
        "id": "ZkXpZ6XeKkzN",
        "outputId": "8219a0b8-5140-4a4f-e84f-2af212a63d7a"
      },
      "outputs": [
        {
          "name": "stdout",
          "output_type": "stream",
          "text": [
            "best score is  0.6849131393113354\n",
            "best hyper parameter is {'max_depth': 4, 'n_estimators': 20}\n"
          ]
        }
      ],
      "source": [
        "print(\"best score is \", clf.best_score_)\n",
        "print(\"best hyper parameter is\", clf.best_params_)"
      ]
    },
    {
      "cell_type": "markdown",
      "metadata": {
        "id": "oRx1aKCMK7pp"
      },
      "source": [
        "plot for hypermater and auc"
      ]
    },
    {
      "cell_type": "markdown",
      "metadata": {
        "id": "svKv6kLMLAxQ"
      },
      "source": [
        "Roc plots for train and test data"
      ]
    },
    {
      "cell_type": "code",
      "execution_count": null,
      "metadata": {
        "colab": {
          "base_uri": "https://localhost:8080/",
          "height": 389
        },
        "id": "EJ0paVrmKyq_",
        "outputId": "500671e5-e66b-4faa-df06-ed461e364563"
      },
      "outputs": [
        {
          "data": {
            "image/png": "[encoded data removed]",
            "text/plain": [
              "<Figure size 720x432 with 2 Axes>"
            ]
          },
          "metadata": {},
          "output_type": "display_data"
        }
      ],
      "source": [
        "import pandas as pd #for test data\n",
        "pvt = pd.pivot_table(pd.DataFrame(clf.cv_results_),values = 'mean_train_score', index = 'param_max_depth', columns='param_n_estimators')\n",
        "plt.figure(figsize=(10,6))\n",
        "xa = sns.heatmap(pvt,annot=True,linewidth=0.5)"
      ]
    },
    {
      "cell_type": "markdown",
      "metadata": {
        "id": "JL_YxV3jL42J"
      },
      "source": [
        "Roc plot fot train and test data"
      ]
    },
    {
      "cell_type": "code",
      "execution_count": null,
      "metadata": {
        "colab": {
          "base_uri": "https://localhost:8080/",
          "height": 513
        },
        "id": "HQKoB2hNMaKj",
        "outputId": "538f1958-7825-41ad-f26a-7e64c52c6303"
      },
      "outputs": [
        {
          "data": {
            "image/png": "[encoded data removed]",
            "text/plain": [
              "<Figure size 864x576 with 1 Axes>"
            ]
          },
          "metadata": {},
          "output_type": "display_data"
        }
      ],
      "source": [
        "set1_model  = GradientBoostingClassifier(max_depth = clf.best_params_['max_depth'],n_estimators=clf.best_params_['n_estimators'])\n",
        "set1_model.fit(x_tr1,y_train)\n",
        "y_tr_probs = clf.predict_proba(x_tr1)[:,1]\n",
        "y_te_probs = clf.predict_proba(x_te1)[:,1]\n",
        "\n",
        "tr_fpr, tr_tpr, tr_thresholds = roc_curve(y_train,y_tr_probs)\n",
        "te_fpr, te_tpr, te_thresholds = roc_curve(y_test,y_te_probs)\n",
        "\n",
        "plt.figure(figsize=(12,8))\n",
        "plt.plot(tr_fpr, tr_tpr, label=\"AUC Train\"+str(auc(tr_fpr, tr_tpr)))\n",
        "plt.plot(te_fpr, te_tpr, label=\"AUC Test\" +str(auc(te_fpr, te_tpr)))\n",
        "plt.legend()\n",
        "plt.xlabel(\"FPR\")\n",
        "plt.ylabel(\"TPR\")\n",
        "plt.title(\"CURVE OF ROC\")\n",
        "plt.grid(color='black',lw=0.5)\n"
      ]
    },
    {
      "cell_type": "markdown",
      "metadata": {
        "id": "7aFRXMSaXgtx"
      },
      "source": [
        "Confusion Matrixx"
      ]
    },
    {
      "cell_type": "code",
      "execution_count": null,
      "metadata": {
        "id": "41oLMqDgRcai"
      },
      "outputs": [],
      "source": [
        "def find_best_threshold(threshold,fpr,tpr):\n",
        "  thresh = threshold[np.argmax(tpr*(1-fpr))]\n",
        "  #best threshold to know the class labels\n",
        "  print(\"the maximum value of tpr*(1-fpr)\", max(tpr*(1-fpr)), \"for threshold\", np.round(thresh,3))\n",
        "  return thresh\n",
        "\n",
        "def predict_with_best_t(proba,threshold):\n",
        "  predicts = []\n",
        "  for i in proba:\n",
        "    if i>=threshold:\n",
        "      predicts.append(1)\n",
        "    else:\n",
        "      predicts.append(0)\n",
        "  return predicts"
      ]
    },
    {
      "cell_type": "code",
      "execution_count": null,
      "metadata": {
        "colab": {
          "base_uri": "https://localhost:8080/",
          "height": 369
        },
        "id": "MMkZ96o0TTNn",
        "outputId": "e31f7183-2f2d-494b-f8cf-49e291119f1a"
      },
      "outputs": [
        {
          "name": "stdout",
          "output_type": "stream",
          "text": [
            "the maximum value of tpr*(1-fpr) 0.4297759568082888 for threshold 0.849\n",
            "[[ 7329  3754]\n",
            " [21745 40368]]\n"
          ]
        },
        {
          "data": {
            "text/plain": [
              "Text(0.5, 1.0, 'confusion matrix for Train Data')"
            ]
          },
          "execution_count": 56,
          "metadata": {},
          "output_type": "execute_result"
        },
        {
          "data": {
            "image/png": "[encoded data removed]",
            "text/plain": [
              "<Figure size 432x288 with 2 Axes>"
            ]
          },
          "metadata": {},
          "output_type": "display_data"
        }
      ],
      "source": [
        "t_best = find_best_threshold(tr_thresholds,tr_fpr, tr_tpr)\n",
        "cm = metrics.confusion_matrix(y_train,predict_with_best_t(y_tr_probs,t_best))\n",
        "\n",
        "print(cm)\n",
        "sns.heatmap(cm,annot=True,fmt='d',cmap='Greens',annot_kws={'size':16})\n",
        "plt.xlabel('Predicted label', size=12)\n",
        "plt.ylabel('True label', size=12)\n",
        "plt.title('confusion matrix for Train Data',size=12)\n"
      ]
    },
    {
      "cell_type": "code",
      "execution_count": null,
      "metadata": {
        "colab": {
          "base_uri": "https://localhost:8080/",
          "height": 369
        },
        "id": "IGXT98SnVtyU",
        "outputId": "bfbd5476-c317-422a-8b3d-770ea5e1409d"
      },
      "outputs": [
        {
          "name": "stdout",
          "output_type": "stream",
          "text": [
            "the maximum value of tpr*(1-fpr) 0.3942256688629814 for threshold 0.844\n",
            "[[ 3355  2104]\n",
            " [10969 19624]]\n"
          ]
        },
        {
          "data": {
            "text/plain": [
              "Text(0.5, 1.0, 'confusion matrix for Train Data')"
            ]
          },
          "execution_count": 57,
          "metadata": {},
          "output_type": "execute_result"
        },
        {
          "data": {
            "image/png": "[encoded data removed]",
            "text/plain": [
              "<Figure size 432x288 with 2 Axes>"
            ]
          },
          "metadata": {},
          "output_type": "display_data"
        }
      ],
      "source": [
        "t_best = find_best_threshold(te_thresholds,te_fpr, te_tpr)\n",
        "cm = metrics.confusion_matrix(y_test,predict_with_best_t(y_te_probs,t_best))\n",
        "\n",
        "print(cm)\n",
        "sns.heatmap(cm,annot=True,fmt='d',cmap='Greens',annot_kws={'size':16})\n",
        "plt.xlabel('Predicted label', size=12)\n",
        "plt.ylabel('True label', size=12)\n",
        "plt.title('confusion matrix for Train Data',size=12)\n"
      ]
    },
    {
      "cell_type": "markdown",
      "metadata": {
        "id": "AuUzzVk_WM6b"
      },
      "source": [
        "Gradient boost classifier with grid search cross validation on SET2"
      ]
    },
    {
      "cell_type": "code",
      "execution_count": null,
      "metadata": {
        "colab": {
          "background_save": true
        },
        "id": "YoRZrTD6WJE4",
        "outputId": "a68f70c1-ff95-491a-f4ba-455bf6a1e556"
      },
      "outputs": [
        {
          "data": {
            "text/plain": [
              "GridSearchCV(cv=5, estimator=GradientBoostingClassifier(), n_jobs=-1,\n",
              "             param_grid={'max_depth': [1, 2, 3, 4],\n",
              "                         'n_estimators': [5, 10, 15, 20]},\n",
              "             return_train_score=True, scoring='roc_auc')"
            ]
          },
          "execution_count": 58,
          "metadata": {},
          "output_type": "execute_result"
        }
      ],
      "source": [
        "from sklearn.ensemble import GradientBoostingClassifier\n",
        "from sklearn.model_selection import GridSearchCV\n",
        "\n",
        "params = {\"max_depth\":[1,2,3,4], \"n_estimators\":[5,10,15,20]}\n",
        "clf = GridSearchCV(GradientBoostingClassifier(),params,cv=5,scoring=\"roc_auc\",return_train_score=True,n_jobs=-1)\n",
        "clf.fit(x_tr2,y_train)"
      ]
    },
    {
      "cell_type": "code",
      "execution_count": 59,
      "metadata": {
        "id": "LZ2mJOmYWfT2"
      },
      "outputs": [],
      "source": [
        "tr_auc = clf.cv_results_['mean_test_score']\n",
        "tr_std_auc = clf.cv_results_['std_train_score']\n",
        "cv_auc = clf.cv_results_['mean_test_score']\n",
        "cv_std_auc = clf.cv_results_['std_test_score']"
      ]
    },
    {
      "cell_type": "code",
      "execution_count": 60,
      "metadata": {
        "id": "spTVJe7gWp3O",
        "colab": {
          "base_uri": "https://localhost:8080/"
        },
        "outputId": "e05b289c-2e1d-4efa-95bb-386ce13f57b7"
      },
      "outputs": [
        {
          "output_type": "stream",
          "name": "stdout",
          "text": [
            "best score is  0.6905534615895192\n",
            "best hyper parameter is {'max_depth': 4, 'n_estimators': 20}\n"
          ]
        }
      ],
      "source": [
        "print(\"best score is \", clf.best_score_)\n",
        "print(\"best hyper parameter is\", clf.best_params_)"
      ]
    },
    {
      "cell_type": "markdown",
      "metadata": {
        "id": "0KmtMpLGWu-7"
      },
      "source": [
        "plot for hypermater and auc"
      ]
    },
    {
      "cell_type": "code",
      "execution_count": 61,
      "metadata": {
        "id": "ACoDa-7KWtjD",
        "colab": {
          "base_uri": "https://localhost:8080/",
          "height": 389
        },
        "outputId": "5c50fb59-d655-457c-9b52-23fdd3c304fc"
      },
      "outputs": [
        {
          "output_type": "display_data",
          "data": {
            "text/plain": [
              "<Figure size 720x432 with 2 Axes>"
            ],
            "image/png": "[encoded data removed]"
          },
          "metadata": {
            "needs_background": "light"
          }
        }
      ],
      "source": [
        "import pandas as pd #for test data\n",
        "pvt = pd.pivot_table(pd.DataFrame(clf.cv_results_),values = 'mean_train_score', index = 'param_max_depth', columns='param_n_estimators')\n",
        "plt.figure(figsize=(10,6))\n",
        "xa = sns.heatmap(pvt,annot=True,linewidth=0.5)"
      ]
    },
    {
      "cell_type": "markdown",
      "metadata": {
        "id": "sOpofD2JXDmQ"
      },
      "source": [
        "Roc plot fot train and test data"
      ]
    },
    {
      "cell_type": "code",
      "execution_count": 62,
      "metadata": {
        "id": "n4SrYVYdXD42",
        "colab": {
          "base_uri": "https://localhost:8080/",
          "height": 513
        },
        "outputId": "2941fe6f-a8ee-45d1-98ac-1fcda2bdd252"
      },
      "outputs": [
        {
          "output_type": "display_data",
          "data": {
            "text/plain": [
              "<Figure size 864x576 with 1 Axes>"
            ],
            "image/png": "[encoded data removed]"
          },
          "metadata": {
            "needs_background": "light"
          }
        }
      ],
      "source": [
        "set2_model  = GradientBoostingClassifier(max_depth = clf.best_params_['max_depth'],n_estimators=clf.best_params_['n_estimators'])\n",
        "set2_model.fit(x_tr2,y_train)\n",
        "y_tr_probs = clf.predict_proba(x_tr2)[:,1]\n",
        "y_te_probs = clf.predict_proba(x_te2)[:,1]\n",
        "\n",
        "tr_fpr, tr_tpr, tr_thresholds = roc_curve(y_train,y_tr_probs)\n",
        "te_fpr, te_tpr, te_thresholds = roc_curve(y_test,y_te_probs)\n",
        "\n",
        "plt.figure(figsize=(12,8))\n",
        "plt.plot(tr_fpr, tr_tpr, label=\"AUC Train\"+str(auc(tr_fpr, tr_tpr)))\n",
        "plt.plot(te_fpr, te_tpr, label=\"AUC Test\" +str(auc(te_fpr, te_tpr)))\n",
        "plt.legend()\n",
        "plt.xlabel(\"FPR\")\n",
        "plt.ylabel(\"TPR\")\n",
        "plt.title(\"CURVE OF ROC\")\n",
        "plt.grid(color='black',lw=0.5)"
      ]
    },
    {
      "cell_type": "markdown",
      "metadata": {
        "id": "rIxI76aqXX2D"
      },
      "source": [
        "Confusion Matrix"
      ]
    },
    {
      "cell_type": "code",
      "execution_count": 63,
      "metadata": {
        "id": "ikOIr2rOXa2x"
      },
      "outputs": [],
      "source": [
        "def find_best_threshold(threshold,fpr,tpr):\n",
        "  thresh = threshold[np.argmax(tpr*(1-fpr))]\n",
        "  #best threshold to know the class labels\n",
        "  print(\"the maximum value of tpr*(1-fpr)\", max(tpr*(1-fpr)), \"for threshold\", np.round(thresh,3))\n",
        "  return thresh\n",
        "\n",
        "def predict_with_best_t(proba,threshold):\n",
        "  predicts = []\n",
        "  for i in proba:\n",
        "    if i>=threshold:\n",
        "      predicts.append(1)\n",
        "    else:\n",
        "      predicts.append(0)\n",
        "  return predicts"
      ]
    },
    {
      "cell_type": "code",
      "execution_count": 64,
      "metadata": {
        "id": "QtYy0EUaXqRK",
        "colab": {
          "base_uri": "https://localhost:8080/",
          "height": 369
        },
        "outputId": "ed183e24-b5d0-4ca8-8d00-c6b23a812593"
      },
      "outputs": [
        {
          "output_type": "stream",
          "name": "stdout",
          "text": [
            "the maximum value of tpr*(1-fpr) 0.4408982200697483 for threshold 0.848\n",
            "[[ 7484  3599]\n",
            " [21558 40555]]\n"
          ]
        },
        {
          "output_type": "execute_result",
          "data": {
            "text/plain": [
              "Text(0.5, 1.0, 'confusion matrix for Train Data')"
            ]
          },
          "metadata": {},
          "execution_count": 64
        },
        {
          "output_type": "display_data",
          "data": {
            "text/plain": [
              "<Figure size 432x288 with 2 Axes>"
            ],
            "image/png": "[encoded data removed]"
          },
          "metadata": {
            "needs_background": "light"
          }
        }
      ],
      "source": [
        "t_best = find_best_threshold(tr_thresholds,tr_fpr, tr_tpr) #train data\n",
        "cm = metrics.confusion_matrix(y_train,predict_with_best_t(y_tr_probs,t_best))\n",
        "\n",
        "print(cm)\n",
        "sns.heatmap(cm,annot=True,fmt='d',cmap='Greens',annot_kws={'size':16})\n",
        "plt.xlabel('Predicted label', size=12)\n",
        "plt.ylabel('True label', size=12)\n",
        "plt.title('confusion matrix for Train Data',size=12)\n"
      ]
    },
    {
      "cell_type": "code",
      "execution_count": 65,
      "metadata": {
        "id": "HKYKOdmuXutY",
        "colab": {
          "base_uri": "https://localhost:8080/",
          "height": 369
        },
        "outputId": "63d65b2d-3d04-456d-b22b-75acd5cc457a"
      },
      "outputs": [
        {
          "output_type": "stream",
          "name": "stdout",
          "text": [
            "the maximum value of tpr*(1-fpr) 0.40986786993783686 for threshold 0.841\n",
            "[[ 3390  2069]\n",
            " [10401 20192]]\n"
          ]
        },
        {
          "output_type": "execute_result",
          "data": {
            "text/plain": [
              "Text(0.5, 1.0, 'confusion matrix for Train Data')"
            ]
          },
          "metadata": {},
          "execution_count": 65
        },
        {
          "output_type": "display_data",
          "data": {
            "text/plain": [
              "<Figure size 432x288 with 2 Axes>"
            ],
            "image/png": "[encoded data removed]"
          },
          "metadata": {
            "needs_background": "light"
          }
        }
      ],
      "source": [
        "t_best = find_best_threshold(te_thresholds,te_fpr, te_tpr) #test data\n",
        "cm = metrics.confusion_matrix(y_test,predict_with_best_t(y_te_probs,t_best))\n",
        "\n",
        "print(cm)\n",
        "sns.heatmap(cm,annot=True,fmt='d',cmap='Greens',annot_kws={'size':16})\n",
        "plt.xlabel('Predicted label', size=12)\n",
        "plt.ylabel('True label', size=12)\n",
        "plt.title('confusion matrix for Train Data',size=12)\n"
      ]
    },
    {
      "cell_type": "markdown",
      "metadata": {
        "id": "YhFN-lDWsc4G"
      },
      "source": [
        "<h1>3. Summary</h1>"
      ]
    },
    {
      "cell_type": "code",
      "execution_count": 67,
      "metadata": {
        "id": "bEA3Bkr8YNon",
        "colab": {
          "base_uri": "https://localhost:8080/"
        },
        "outputId": "1b3f14a2-532b-418b-b4b9-5a2154255d1f"
      },
      "outputs": [
        {
          "output_type": "stream",
          "name": "stdout",
          "text": [
            "+------+------------+------------------------------+-----------------------------+-------+\n",
            "| s.no | vectorizer |            model             |       hyper parameter       |  AUC  |\n",
            "+------+------------+------------------------------+-----------------------------+-------+\n",
            "|  1   |   TFIDF    | Gradient bossting classifier | max_depth=4 n_estimators=20 | 0.676 |\n",
            "+------+------------+------------------------------+-----------------------------+-------+\n",
            "|  2   |   TFIDF    | Gradient bossting classifier | max_depth=4 n_estimators=20 | 0.685 |\n",
            "+------+------------+------------------------------+-----------------------------+-------+\n"
          ]
        }
      ],
      "source": [
        "from prettytable import PrettyTable\n",
        "from prettytable import ALL as ALL\n",
        "table = PrettyTable(hrules=ALL)\n",
        "table.field_names = ['s.no','vectorizer','model','hyper parameter','AUC']\n",
        "table.add_row([1,'TFIDF','Gradient bossting classifier','max_depth=4 n_estimators=20','0.676'])\n",
        "table.add_row([2,'TFIDF','Gradient bossting classifier','max_depth=4 n_estimators=20','0.685'])\n",
        "print(table)"
      ]
    }
  ],
  "metadata": {
    "colab": {
      "collapsed_sections": [],
      "provenance": []
    },
    "kernelspec": {
      "display_name": "Python 3",
      "language": "python",
      "name": "python3"
    },
    "language_info": {
      "codemirror_mode": {
        "name": "ipython",
        "version": 3
      },
      "file_extension": ".py",
      "mimetype": "text/x-python",
      "name": "python",
      "nbconvert_exporter": "python",
      "pygments_lexer": "ipython3",
      "version": "3.6.3"
    }
  },
  "nbformat": 4,
  "nbformat_minor": 0
}