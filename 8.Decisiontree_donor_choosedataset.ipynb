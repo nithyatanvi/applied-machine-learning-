{
  "cells": [
    {
      "cell_type": "markdown",
      "metadata": {
        "id": "jKMeoHjWN-3k"
      },
      "source": [
        "# <b>Assignment : DT</b>"
      ]
    },
    {
      "cell_type": "markdown",
      "metadata": {
        "id": "w0vpJMx2pHYX"
      },
      "source": [
        "<font color='red'><b> Please check below video before attempting this assignment</b></font>"
      ]
    },
    {
      "cell_type": "code",
      "execution_count": null,
      "metadata": {
        "colab": {
          "base_uri": "https://localhost:8080/",
          "height": 521
        },
        "id": "IrJVk4Chpzjp",
        "outputId": "e2956193-4214-41ec-9743-988191719d33"
      },
      "outputs": [
        {
          "output_type": "execute_result",
          "data": {
            "text/plain": [
              "<IPython.lib.display.YouTubeVideo at 0x7f431aec4c50>"
            ],
            "text/html": [
              "\n",
              "        <iframe\n",
              "            width=\"1000\"\n",
              "            height=\"500\"\n",
              "            src=\"https://www.youtube.com/embed/ZhLXULFjIjQ\"\n",
              "            frameborder=\"0\"\n",
              "            allowfullscreen\n",
              "        ></iframe>\n",
              "        "
            ],
            "image/jpeg": "[encoded data removed]"
          },
          "metadata": {},
          "execution_count": 19
        }
      ],
      "source": [
        "from IPython.display import YouTubeVideo\n",
        "YouTubeVideo('ZhLXULFjIjQ', width=\"1000\",height=\"500\")"
      ]
    },
    {
      "cell_type": "markdown",
      "metadata": {
        "id": "CjA-ZU-TqVK1"
      },
      "source": [
        "<font color='red'><b> TF-IDFW2V</b></font>"
      ]
    },
    {
      "cell_type": "markdown",
      "metadata": {
        "id": "uvBr2z6iqW9V"
      },
      "source": [
        "<b>Tfidf w2v (w1,w2..) = (tfidf(w1) * w2v(w1) + tfidf(w2) * w2v(w2) + …)  /    (tfidf(w1) + tfidf(w2) + …)</b>"
      ]
    },
    {
      "cell_type": "markdown",
      "metadata": {
        "id": "zRAy5UzOvi_a"
      },
      "source": [
        "<b>(Optional) Please check course video on [AVgw2V and TF-IDFW2V ](https://www.appliedaicourse.com/lecture/11/applied-machine-learning-online-course/2916/avg-word2vec-tf-idf-weighted-word2vec/3/module-3-foundations-of-natural-language-processing-and-machine-learning)for more details."
      ]
    },
    {
      "cell_type": "markdown",
      "metadata": {
        "id": "IB2uk5LwtBlO"
      },
      "source": [
        "<font color='blue'><b>Glove vectors </b></font>"
      ]
    },
    {
      "cell_type": "markdown",
      "metadata": {
        "id": "j697XLZGtCnz"
      },
      "source": [
        "<b>In this assignment you will be working with glove vectors , please check  [this](https://en.wikipedia.org/wiki/GloVe_(machine_learning)) and [this](https://en.wikipedia.org/wiki/GloVe_(machine_learning)) for more details.</b><br>\n",
        "\n",
        "Download glove vectors from this [link ](https://drive.google.com/file/d/1lDca_ge-GYO0iQ6_XDLWePQFMdAA2b8f/view?usp=sharing)"
      ]
    },
    {
      "cell_type": "code",
      "execution_count": null,
      "metadata": {
        "id": "_ufHLoACuoHw"
      },
      "outputs": [],
      "source": [
        "#please use below code to load glove vectors \n",
        "import pickle\n",
        "import pandas\n",
        "import seaborn as sns\n",
        "with open('glove_vectors', 'rb') as f:\n",
        "    model = pickle.load(f)\n",
        "    glove_words =  set(model.keys())"
      ]
    },
    {
      "cell_type": "code",
      "execution_count": null,
      "metadata": {
        "colab": {
          "base_uri": "https://localhost:8080/"
        },
        "id": "2IHTExN4xd5p",
        "outputId": "bc4ac2c8-6bfe-4ce3-eb20-014b6a97b8fd"
      },
      "outputs": [
        {
          "output_type": "stream",
          "name": "stderr",
          "text": [
            "[nltk_data] Downloading package vader_lexicon to /root/nltk_data...\n",
            "[nltk_data]   Package vader_lexicon is already up-to-date!\n"
          ]
        },
        {
          "output_type": "execute_result",
          "data": {
            "text/plain": [
              "True"
            ]
          },
          "metadata": {},
          "execution_count": 21
        }
      ],
      "source": [
        "import nltk\n",
        "nltk.download('vader_lexicon')"
      ]
    },
    {
      "cell_type": "code",
      "execution_count": null,
      "metadata": {
        "colab": {
          "base_uri": "https://localhost:8080/"
        },
        "id": "YKZIvFYBxaaD",
        "outputId": "86f0df29-e121-4f1a-d0aa-ba09e6a8588b"
      },
      "outputs": [
        {
          "output_type": "stream",
          "name": "stdout",
          "text": [
            "neg:0.01neu:0.745pos:0.245compound:0.9975"
          ]
        },
        {
          "output_type": "execute_result",
          "data": {
            "text/plain": [
              "{'neg': 0.01, 'neu': 0.745, 'pos': 0.245, 'compound': 0.9975}"
            ]
          },
          "metadata": {},
          "execution_count": 22
        }
      ],
      "source": [
        "import nltk\n",
        "from nltk.sentiment.vader import SentimentIntensityAnalyzer\n",
        "# import nltk\n",
        "# nltk.download('vader_lexicon')\n",
        "\n",
        "sid = SentimentIntensityAnalyzer()\n",
        "\n",
        "sentiment = 'a person is a person no matter how small dr seuss i teach the smallest students with the biggest enthusiasm \\\n",
        "for learning my students learn in many different ways using all of our senses and multiple intelligences i use a wide range\\\n",
        "of techniques to help all my students succeed students in my class come from a variety of different backgrounds which makes\\\n",
        "for wonderful sharing of experiences and cultures including native americans our school is a caring community of successful \\\n",
        "learners which can be seen through collaborative student project based learning in and out of the classroom kindergarteners \\\n",
        "in my class love to work with hands on materials and have many different opportunities to practice a skill before it is\\\n",
        "mastered having the social skills to work cooperatively with friends is a crucial aspect of the kindergarten curriculum\\\n",
        "montana is the perfect place to learn about agriculture and nutrition my students love to role play in our pretend kitchen\\\n",
        "in the early childhood classroom i have had several kids ask me can we try cooking with real food i will take their idea \\\n",
        "and create common core cooking lessons where we learn important math and writing concepts while cooking delicious healthy \\\n",
        "food for snack time my students will have a grounded appreciation for the work that went into making the food and knowledge \\\n",
        "of where the ingredients came from as well as how it is healthy for their bodies this project would expand our learning of \\\n",
        "nutrition and agricultural cooking recipes by having us peel our own apples to make homemade applesauce make our own bread \\\n",
        "and mix up healthy plants from our classroom garden in the spring we will also create our own cookbooks to be printed and \\\n",
        "shared with families students will gain math and literature skills as well as a life long enjoyment for healthy cooking \\\n",
        "nannan'\n",
        "\n",
        "sample_sentence = sid.polarity_scores(sentiment)\n",
        "\n",
        "for i in sample_sentence:\n",
        "  print('{0}:{1}'.format(i,sample_sentence[i]),end='')\n",
        " \n",
        "sample_sentence"
      ]
    },
    {
      "cell_type": "markdown",
      "metadata": {
        "id": "r6FUMj5TN-3y"
      },
      "source": [
        "<h1> Decision Tree </h1>"
      ]
    },
    {
      "cell_type": "markdown",
      "metadata": {
        "id": "luEzcFrGiqLa"
      },
      "source": [
        "# <font color='red'> <b>Task - 1</b></font>"
      ]
    },
    {
      "cell_type": "markdown",
      "metadata": {
        "id": "QQmid3VAN-31"
      },
      "source": [
        "## 1.1 Loading Data"
      ]
    },
    {
      "cell_type": "code",
      "execution_count": null,
      "metadata": {
        "colab": {
          "base_uri": "https://localhost:8080/"
        },
        "id": "NqY4ES_3N-33",
        "outputId": "9ca811f8-e55b-46c7-b4bd-01e3f8fefd59"
      },
      "outputs": [
        {
          "output_type": "execute_result",
          "data": {
            "text/plain": [
              "(50000, 9)"
            ]
          },
          "metadata": {},
          "execution_count": 23
        }
      ],
      "source": [
        "#make sure you are loading atleast 50k datapoints\n",
        "#you can work with features of preprocessed_data.csv for the assignment.\n",
        "import pandas as pd\n",
        "import numpy as np\n",
        "import tqdm\n",
        "from sklearn.model_selection import train_test_split\n",
        "from sklearn.feature_extraction.text import TfidfVectorizer\n",
        "from sklearn.feature_extraction.text import CountVectorizer\n",
        "\n",
        "data = pandas.read_csv('preprocessed_data.csv',nrows=50000)#importing only 50k records\n",
        "data.shape\n"
      ]
    },
    {
      "cell_type": "code",
      "execution_count": null,
      "metadata": {
        "colab": {
          "base_uri": "https://localhost:8080/",
          "height": 649
        },
        "id": "wBWkSX0fnLxc",
        "outputId": "5dcbfcd2-33c2-410b-85c1-bbe100fa1447"
      },
      "outputs": [
        {
          "output_type": "execute_result",
          "data": {
            "text/plain": [
              "  school_state teacher_prefix project_grade_category  \\\n",
              "0           ca            mrs          grades_prek_2   \n",
              "1           ut             ms             grades_3_5   \n",
              "2           ca            mrs          grades_prek_2   \n",
              "3           ga            mrs          grades_prek_2   \n",
              "4           wa            mrs             grades_3_5   \n",
              "\n",
              "   teacher_number_of_previously_posted_projects   clean_categories  \\\n",
              "0                                            53       math_science   \n",
              "1                                             4       specialneeds   \n",
              "2                                            10  literacy_language   \n",
              "3                                             2    appliedlearning   \n",
              "4                                             2  literacy_language   \n",
              "\n",
              "                  clean_subcategories  \\\n",
              "0  appliedsciences health_lifescience   \n",
              "1                        specialneeds   \n",
              "2                            literacy   \n",
              "3                    earlydevelopment   \n",
              "4                            literacy   \n",
              "\n",
              "                                               essay   price  \n",
              "0  i fortunate enough use fairy tale stem kits cl...  725.05  \n",
              "1  imagine 8 9 years old you third grade classroo...  213.03  \n",
              "2  having class 24 students comes diverse learner...  329.00  \n",
              "3  i recently read article giving students choice...  481.04  \n",
              "4  my students crave challenge eat obstacles brea...   17.74  "
            ],
            "text/html": [
              "\n",
              "  <div id=\"df-0d4c968c-2efe-4b02-b8a3-4cf742584ae3\">\n",
              "    <div class=\"colab-df-container\">\n",
              "      <div>\n",
              "<style scoped>\n",
              "    .dataframe tbody tr th:only-of-type {\n",
              "        vertical-align: middle;\n",
              "    }\n",
              "\n",
              "    .dataframe tbody tr th {\n",
              "        vertical-align: top;\n",
              "    }\n",
              "\n",
              "    .dataframe thead th {\n",
              "        text-align: right;\n",
              "    }\n",
              "</style>\n",
              "<table border=\"1\" class=\"dataframe\">\n",
              "  <thead>\n",
              "    <tr style=\"text-align: right;\">\n",
              "      <th></th>\n",
              "      <th>school_state</th>\n",
              "      <th>teacher_prefix</th>\n",
              "      <th>project_grade_category</th>\n",
              "      <th>teacher_number_of_previously_posted_projects</th>\n",
              "      <th>clean_categories</th>\n",
              "      <th>clean_subcategories</th>\n",
              "      <th>essay</th>\n",
              "      <th>price</th>\n",
              "    </tr>\n",
              "  </thead>\n",
              "  <tbody>\n",
              "    <tr>\n",
              "      <th>0</th>\n",
              "      <td>ca</td>\n",
              "      <td>mrs</td>\n",
              "      <td>grades_prek_2</td>\n",
              "      <td>53</td>\n",
              "      <td>math_science</td>\n",
              "      <td>appliedsciences health_lifescience</td>\n",
              "      <td>i fortunate enough use fairy tale stem kits cl...</td>\n",
              "      <td>725.05</td>\n",
              "    </tr>\n",
              "    <tr>\n",
              "      <th>1</th>\n",
              "      <td>ut</td>\n",
              "      <td>ms</td>\n",
              "      <td>grades_3_5</td>\n",
              "      <td>4</td>\n",
              "      <td>specialneeds</td>\n",
              "      <td>specialneeds</td>\n",
              "      <td>imagine 8 9 years old you third grade classroo...</td>\n",
              "      <td>213.03</td>\n",
              "    </tr>\n",
              "    <tr>\n",
              "      <th>2</th>\n",
              "      <td>ca</td>\n",
              "      <td>mrs</td>\n",
              "      <td>grades_prek_2</td>\n",
              "      <td>10</td>\n",
              "      <td>literacy_language</td>\n",
              "      <td>literacy</td>\n",
              "      <td>having class 24 students comes diverse learner...</td>\n",
              "      <td>329.00</td>\n",
              "    </tr>\n",
              "    <tr>\n",
              "      <th>3</th>\n",
              "      <td>ga</td>\n",
              "      <td>mrs</td>\n",
              "      <td>grades_prek_2</td>\n",
              "      <td>2</td>\n",
              "      <td>appliedlearning</td>\n",
              "      <td>earlydevelopment</td>\n",
              "      <td>i recently read article giving students choice...</td>\n",
              "      <td>481.04</td>\n",
              "    </tr>\n",
              "    <tr>\n",
              "      <th>4</th>\n",
              "      <td>wa</td>\n",
              "      <td>mrs</td>\n",
              "      <td>grades_3_5</td>\n",
              "      <td>2</td>\n",
              "      <td>literacy_language</td>\n",
              "      <td>literacy</td>\n",
              "      <td>my students crave challenge eat obstacles brea...</td>\n",
              "      <td>17.74</td>\n",
              "    </tr>\n",
              "  </tbody>\n",
              "</table>\n",
              "</div>\n",
              "      <button class=\"colab-df-convert\" onclick=\"convertToInteractive('df-0d4c968c-2efe-4b02-b8a3-4cf742584ae3')\"\n",
              "              title=\"Convert this dataframe to an interactive table.\"\n",
              "              style=\"display:none;\">\n",
              "        \n",
              "  <svg xmlns=\"http://www.w3.org/2000/svg\" height=\"24px\"viewBox=\"0 0 24 24\"\n",
              "       width=\"24px\">\n",
              "    <path d=\"M0 0h24v24H0V0z\" fill=\"none\"/>\n",
              "    <path d=\"M18.56 5.44l.94 2.06.94-2.06 2.06-.94-2.06-.94-.94-2.06-.94 2.06-2.06.94zm-11 1L8.5 8.5l.94-2.06 2.06-.94-2.06-.94L8.5 2.5l-.94 2.06-2.06.94zm10 10l.94 2.06.94-2.06 2.06-.94-2.06-.94-.94-2.06-.94 2.06-2.06.94z\"/><path d=\"M17.41 7.96l-1.37-1.37c-.4-.4-.92-.59-1.43-.59-.52 0-1.04.2-1.43.59L10.3 9.45l-7.72 7.72c-.78.78-.78 2.05 0 2.83L4 21.41c.39.39.9.59 1.41.59.51 0 1.02-.2 1.41-.59l7.78-7.78 2.81-2.81c.8-.78.8-2.07 0-2.86zM5.41 20L4 18.59l7.72-7.72 1.47 1.35L5.41 20z\"/>\n",
              "  </svg>\n",
              "      </button>\n",
              "      \n",
              "  <style>\n",
              "    .colab-df-container {\n",
              "      display:flex;\n",
              "      flex-wrap:wrap;\n",
              "      gap: 12px;\n",
              "    }\n",
              "\n",
              "    .colab-df-convert {\n",
              "      background-color: #E8F0FE;\n",
              "      border: none;\n",
              "      border-radius: 50%;\n",
              "      cursor: pointer;\n",
              "      display: none;\n",
              "      fill: #1967D2;\n",
              "      height: 32px;\n",
              "      padding: 0 0 0 0;\n",
              "      width: 32px;\n",
              "    }\n",
              "\n",
              "    .colab-df-convert:hover {\n",
              "      background-color: #E2EBFA;\n",
              "      box-shadow: 0px 1px 2px rgba(60, 64, 67, 0.3), 0px 1px 3px 1px rgba(60, 64, 67, 0.15);\n",
              "      fill: #174EA6;\n",
              "    }\n",
              "\n",
              "    [theme=dark] .colab-df-convert {\n",
              "      background-color: #3B4455;\n",
              "      fill: #D2E3FC;\n",
              "    }\n",
              "\n",
              "    [theme=dark] .colab-df-convert:hover {\n",
              "      background-color: #434B5C;\n",
              "      box-shadow: 0px 1px 3px 1px rgba(0, 0, 0, 0.15);\n",
              "      filter: drop-shadow(0px 1px 2px rgba(0, 0, 0, 0.3));\n",
              "      fill: #FFFFFF;\n",
              "    }\n",
              "  </style>\n",
              "\n",
              "      <script>\n",
              "        const buttonEl =\n",
              "          document.querySelector('#df-0d4c968c-2efe-4b02-b8a3-4cf742584ae3 button.colab-df-convert');\n",
              "        buttonEl.style.display =\n",
              "          google.colab.kernel.accessAllowed ? 'block' : 'none';\n",
              "\n",
              "        async function convertToInteractive(key) {\n",
              "          const element = document.querySelector('#df-0d4c968c-2efe-4b02-b8a3-4cf742584ae3');\n",
              "          const dataTable =\n",
              "            await google.colab.kernel.invokeFunction('convertToInteractive',\n",
              "                                                     [key], {});\n",
              "          if (!dataTable) return;\n",
              "\n",
              "          const docLinkHtml = 'Like what you see? Visit the ' +\n",
              "            '<a target=\"_blank\" href=https://colab.research.google.com/notebooks/data_table.ipynb>data table notebook</a>'\n",
              "            + ' to learn more about interactive tables.';\n",
              "          element.innerHTML = '';\n",
              "          dataTable['output_type'] = 'display_data';\n",
              "          await google.colab.output.renderOutput(dataTable, element);\n",
              "          const docLink = document.createElement('div');\n",
              "          docLink.innerHTML = docLinkHtml;\n",
              "          element.appendChild(docLink);\n",
              "        }\n",
              "      </script>\n",
              "    </div>\n",
              "  </div>\n",
              "  "
            ]
          },
          "metadata": {},
          "execution_count": 24
        }
      ],
      "source": [
        "Y = data['project_is_approved']\n",
        "X = data.drop(['project_is_approved'],axis=1)\n",
        "X.head(5)"
      ]
    },
    {
      "cell_type": "code",
      "execution_count": null,
      "metadata": {
        "colab": {
          "base_uri": "https://localhost:8080/"
        },
        "id": "ztQJcGtNpsJY",
        "outputId": "3672351f-3060-457e-8395-a9c6a9b1b554"
      },
      "outputs": [
        {
          "output_type": "stream",
          "name": "stdout",
          "text": [
            "(33500, 8) (33500,)\n"
          ]
        }
      ],
      "source": [
        "#data splitting\n",
        "x_train,x_test,y_train,y_test = train_test_split(X,Y,test_size=0.33,stratify = Y)\n",
        "print(x_train.shape,y_train.shape)\n"
      ]
    },
    {
      "cell_type": "code",
      "execution_count": null,
      "metadata": {
        "colab": {
          "base_uri": "https://localhost:8080/"
        },
        "id": "NNfOhCpVRuCh",
        "outputId": "7377ed28-0c8a-420c-a581-7b0137efae2e"
      },
      "outputs": [
        {
          "output_type": "stream",
          "name": "stdout",
          "text": [
            "(22445,)\n",
            "(22445, 8)\n"
          ]
        }
      ],
      "source": [
        "x_train,x_cv,y_train,y_cv = train_test_split(x_train,y_train,test_size=0.33,stratify = y_train)\n",
        "print(y_train.shape)\n",
        "print(x_train.shape)"
      ]
    },
    {
      "cell_type": "markdown",
      "metadata": {
        "id": "mfGctt1IqXtF"
      },
      "source": [
        "Encoding the feature essays"
      ]
    },
    {
      "cell_type": "code",
      "execution_count": null,
      "metadata": {
        "colab": {
          "base_uri": "https://localhost:8080/"
        },
        "id": "Ks42jpOfqWO2",
        "outputId": "5fcf4f5e-220b-4807-f42e-24c3e412c914"
      },
      "outputs": [
        {
          "output_type": "stream",
          "name": "stderr",
          "text": [
            "/usr/local/lib/python3.7/dist-packages/sklearn/utils/deprecation.py:87: FutureWarning: Function get_feature_names is deprecated; get_feature_names is deprecated in 1.0 and will be removed in 1.2. Please use get_feature_names_out instead.\n",
            "  warnings.warn(msg, category=FutureWarning)\n"
          ]
        }
      ],
      "source": [
        "vect_essay1 = TfidfVectorizer(min_df=10,ngram_range=(1,4),max_features=5000)\n",
        "vect_essay1.fit(x_train['essay'].values)#fitting the essay in x_train\n",
        "\n",
        "dict1 = dict(zip(vect_essay1.get_feature_names(),list(vect_essay1.idf_)))\n",
        "wrd_tfidf = set(vect_essay1.get_feature_names()) \n",
        "\n",
        "x_tr_ess_tfidf = vect_essay1.transform(x_train['essay'].values)\n",
        "x_cv_ess_tfidf = vect_essay1.transform(x_cv['essay'].values)\n",
        "x_te_ess_tfidf = vect_essay1.transform(x_test['essay'].values)\n"
      ]
    },
    {
      "cell_type": "code",
      "execution_count": null,
      "metadata": {
        "colab": {
          "base_uri": "https://localhost:8080/"
        },
        "id": "gNRxqi3rttaU",
        "outputId": "c289621e-22e2-4ac2-bb54-b6bab04e1376"
      },
      "outputs": [
        {
          "output_type": "stream",
          "name": "stdout",
          "text": [
            "22445\n",
            "300\n"
          ]
        }
      ],
      "source": [
        "x_tr_ess_tfidf_w2v = [] #for train data\n",
        "for sent in x_train['essay'].values:\n",
        "  vect = np.zeros(300)\n",
        "  tfidf_w = 0\n",
        "  for wrd in sent.split():\n",
        "    if(wrd in glove_words) and (wrd in wrd_tfidf):\n",
        "      v = model[wrd]\n",
        "      tfidf = dict1[wrd]*(sent.count(wrd)/len(sent.split()))\n",
        "      vect = vect + (v*tfidf)\n",
        "      tfidf_w = tfidf_w + tfidf\n",
        "  if tfidf_w != 0:\n",
        "    vect = vect/tfidf_w\n",
        "    x_tr_ess_tfidf_w2v.append(vect)\n",
        "\n",
        "print(len(x_tr_ess_tfidf_w2v))\n",
        "print(len(x_tr_ess_tfidf_w2v[0]))\n",
        "\n",
        "\n"
      ]
    },
    {
      "cell_type": "code",
      "execution_count": null,
      "metadata": {
        "colab": {
          "base_uri": "https://localhost:8080/"
        },
        "id": "1itHJaUbvqk-",
        "outputId": "ba6e9033-8eb2-4347-f49a-0c912b00e089"
      },
      "outputs": [
        {
          "output_type": "stream",
          "name": "stdout",
          "text": [
            "11055\n",
            "300\n"
          ]
        }
      ],
      "source": [
        "x_cv_ess_tfidf_w2v = [] #for cv data\n",
        "for sent in x_cv['essay'].values:\n",
        "  vect = np.zeros(300)\n",
        "  tfidf_w = 0\n",
        "  for wrd in sent.split():\n",
        "    if(wrd in glove_words) and (wrd in wrd_tfidf):\n",
        "      v = model[wrd]\n",
        "      tfidf = dict1[wrd]*(sent.count(wrd)/len(sent.split()))\n",
        "      vect = vect + (v*tfidf)\n",
        "      tfidf_w = tfidf_w + tfidf\n",
        "  if tfidf_w != 0:\n",
        "    vect = vect/tfidf_w\n",
        "    x_cv_ess_tfidf_w2v.append(vect)\n",
        "\n",
        "print(len(x_cv_ess_tfidf_w2v))\n",
        "print(len(x_cv_ess_tfidf_w2v[0]))\n",
        "\n",
        "\n"
      ]
    },
    {
      "cell_type": "code",
      "execution_count": null,
      "metadata": {
        "colab": {
          "base_uri": "https://localhost:8080/"
        },
        "id": "YjjqMyPd0c-T",
        "outputId": "52019f91-6b5c-4cad-ec19-67edf0703d3b"
      },
      "outputs": [
        {
          "output_type": "stream",
          "name": "stdout",
          "text": [
            "16500\n",
            "300\n"
          ]
        }
      ],
      "source": [
        "x_te_ess_tfidf_w2v = [] #for test data\n",
        "for sent in x_test['essay'].values:\n",
        "  vect = np.zeros(300)\n",
        "  tfidf_w = 0\n",
        "  for wrd in sent.split():\n",
        "    if(wrd in glove_words) and (wrd in wrd_tfidf):\n",
        "      v = model[wrd]\n",
        "      tfidf = dict1[wrd]*(sent.count(wrd)/len(sent.split()))\n",
        "      vect = vect + (v*tfidf)\n",
        "      tfidf_w = tfidf_w + tfidf\n",
        "  if tfidf_w != 0:\n",
        "    vect = vect/tfidf_w\n",
        "    x_te_ess_tfidf_w2v.append(vect)\n",
        "\n",
        "print(len(x_te_ess_tfidf_w2v))\n",
        "print(len(x_te_ess_tfidf_w2v[0]))\n",
        "\n",
        "\n"
      ]
    },
    {
      "cell_type": "markdown",
      "metadata": {
        "id": "iJbt7nPu05OR"
      },
      "source": [
        "categorical features and numerical features"
      ]
    },
    {
      "cell_type": "code",
      "execution_count": null,
      "metadata": {
        "colab": {
          "base_uri": "https://localhost:8080/"
        },
        "id": "A5UEp-mc1GTQ",
        "outputId": "9c1bf21d-a143-449e-e752-a0f9047fbc04"
      },
      "outputs": [
        {
          "output_type": "execute_result",
          "data": {
            "text/plain": [
              "scipy.sparse.csr.csr_matrix"
            ]
          },
          "metadata": {},
          "execution_count": 31
        }
      ],
      "source": [
        "#school state\n",
        "school_vec = CountVectorizer(min_df=10,ngram_range=(1,4),max_features=5000)\n",
        "school_vec.fit(x_train['school_state'].values)\n",
        "x_tr_school = school_vec.transform(x_train['school_state'].values)\n",
        "x_te_school = school_vec.transform(x_test['school_state'].values)\n",
        "x_cv_school = school_vec.transform(x_cv['school_state'].values)\n",
        "\n",
        "#project_grade_category\n",
        "project_vec = CountVectorizer(min_df=10,ngram_range=(1,4),max_features=5000)\n",
        "project_vec.fit(x_train['project_grade_category'].values)\n",
        "x_tr_project = project_vec.transform(x_train['project_grade_category'].values)\n",
        "x_te_project = project_vec.transform(x_test['project_grade_category'].values)\n",
        "x_cv_project = project_vec.transform(x_cv['project_grade_category'].values)\n",
        "\n",
        "#teacher_prefix\n",
        "prefix_vec = CountVectorizer(min_df=10,ngram_range=(1,4),max_features=5000)\n",
        "prefix_vec.fit(x_train['teacher_prefix'].values)\n",
        "x_tr_prefix = prefix_vec.transform(x_train['teacher_prefix'].values)\n",
        "x_te_prefix = prefix_vec.transform(x_test['teacher_prefix'].values)\n",
        "x_cv_prefix = prefix_vec.transform(x_cv['teacher_prefix'].values)\n",
        "\n",
        "#clean_subcategories\n",
        "subcat_vec = CountVectorizer(min_df=10,ngram_range=(1,4),max_features=5000)\n",
        "subcat_vec.fit(x_train['clean_subcategories'].values)\n",
        "x_tr_subcat = subcat_vec.transform(x_train['clean_subcategories'].values)\n",
        "x_te_subcat = subcat_vec.transform(x_test['clean_subcategories'].values)\n",
        "x_cv_subcat = subcat_vec.transform(x_cv['clean_subcategories'].values)\n",
        "\n",
        "#clean_categories\n",
        "cat_vec = CountVectorizer(min_df=10,ngram_range=(1,4),max_features=5000)\n",
        "cat_vec.fit(x_train['clean_categories'].values)\n",
        "x_tr_cat = cat_vec.transform(x_train['clean_categories'].values)\n",
        "x_te_cat = cat_vec.transform(x_test['clean_categories'].values)\n",
        "x_cv_cat = cat_vec.transform(x_cv['clean_categories'].values)\n",
        "\n",
        "type(x_tr_prefix)\n",
        "\n",
        "\n"
      ]
    },
    {
      "cell_type": "code",
      "execution_count": null,
      "metadata": {
        "id": "8rf0B67q4MQY"
      },
      "outputs": [],
      "source": [
        "from sklearn.preprocessing import Normalizer\n",
        "\n",
        "n1 = Normalizer()\n",
        "\n",
        "#normalizer for price\n",
        "x_tr_price = n1.fit_transform(x_train['price'].values.reshape(1,-1).reshape(-1,1))\n",
        "x_te_price = n1.fit_transform(x_test['price'].values.reshape(1,-1).reshape(-1,1))\n",
        "x_cv_price = n1.fit_transform(x_cv['price'].values.reshape(1,-1).reshape(-1,1))\n",
        "\n",
        "#normalizer for teachers number of previously posted projects\n",
        "x_tr_prev_project = n1.fit_transform(x_train['price'].values.reshape(1,-1).reshape(-1,1))\n",
        "x_te_prev_project = n1.fit_transform(x_test['price'].values.reshape(1,-1).reshape(-1,1))\n",
        "x_cv_prev_project = n1.fit_transform(x_cv['price'].values.reshape(1,-1).reshape(-1,1))\n"
      ]
    },
    {
      "cell_type": "code",
      "execution_count": null,
      "metadata": {
        "colab": {
          "base_uri": "https://localhost:8080/",
          "height": 424
        },
        "id": "qUEoakoN7AXV",
        "outputId": "58bd374a-3446-425b-b039-5c0844b671d4"
      },
      "outputs": [
        {
          "output_type": "execute_result",
          "data": {
            "text/plain": [
              "         neg    neu    pos  compound\n",
              "41613  0.008  0.701  0.291    0.9907\n",
              "27261  0.043  0.674  0.283    0.9885\n",
              "3146   0.051  0.646  0.303    0.9954\n",
              "15268  0.079  0.758  0.162    0.8532\n",
              "44555  0.000  0.705  0.295    0.9876\n",
              "...      ...    ...    ...       ...\n",
              "742    0.010  0.829  0.161    0.9719\n",
              "14621  0.036  0.719  0.245    0.9885\n",
              "45010  0.182  0.587  0.232    0.4803\n",
              "39715  0.000  0.776  0.224    0.9783\n",
              "12890  0.044  0.628  0.327    0.9911\n",
              "\n",
              "[22445 rows x 4 columns]"
            ],
            "text/html": [
              "\n",
              "  <div id=\"df-fbbc0082-b3ce-484d-9186-1461b00b3389\">\n",
              "    <div class=\"colab-df-container\">\n",
              "      <div>\n",
              "<style scoped>\n",
              "    .dataframe tbody tr th:only-of-type {\n",
              "        vertical-align: middle;\n",
              "    }\n",
              "\n",
              "    .dataframe tbody tr th {\n",
              "        vertical-align: top;\n",
              "    }\n",
              "\n",
              "    .dataframe thead th {\n",
              "        text-align: right;\n",
              "    }\n",
              "</style>\n",
              "<table border=\"1\" class=\"dataframe\">\n",
              "  <thead>\n",
              "    <tr style=\"text-align: right;\">\n",
              "      <th></th>\n",
              "      <th>neg</th>\n",
              "      <th>neu</th>\n",
              "      <th>pos</th>\n",
              "      <th>compound</th>\n",
              "    </tr>\n",
              "  </thead>\n",
              "  <tbody>\n",
              "    <tr>\n",
              "      <th>41613</th>\n",
              "      <td>0.008</td>\n",
              "      <td>0.701</td>\n",
              "      <td>0.291</td>\n",
              "      <td>0.9907</td>\n",
              "    </tr>\n",
              "    <tr>\n",
              "      <th>27261</th>\n",
              "      <td>0.043</td>\n",
              "      <td>0.674</td>\n",
              "      <td>0.283</td>\n",
              "      <td>0.9885</td>\n",
              "    </tr>\n",
              "    <tr>\n",
              "      <th>3146</th>\n",
              "      <td>0.051</td>\n",
              "      <td>0.646</td>\n",
              "      <td>0.303</td>\n",
              "      <td>0.9954</td>\n",
              "    </tr>\n",
              "    <tr>\n",
              "      <th>15268</th>\n",
              "      <td>0.079</td>\n",
              "      <td>0.758</td>\n",
              "      <td>0.162</td>\n",
              "      <td>0.8532</td>\n",
              "    </tr>\n",
              "    <tr>\n",
              "      <th>44555</th>\n",
              "      <td>0.000</td>\n",
              "      <td>0.705</td>\n",
              "      <td>0.295</td>\n",
              "      <td>0.9876</td>\n",
              "    </tr>\n",
              "    <tr>\n",
              "      <th>...</th>\n",
              "      <td>...</td>\n",
              "      <td>...</td>\n",
              "      <td>...</td>\n",
              "      <td>...</td>\n",
              "    </tr>\n",
              "    <tr>\n",
              "      <th>742</th>\n",
              "      <td>0.010</td>\n",
              "      <td>0.829</td>\n",
              "      <td>0.161</td>\n",
              "      <td>0.9719</td>\n",
              "    </tr>\n",
              "    <tr>\n",
              "      <th>14621</th>\n",
              "      <td>0.036</td>\n",
              "      <td>0.719</td>\n",
              "      <td>0.245</td>\n",
              "      <td>0.9885</td>\n",
              "    </tr>\n",
              "    <tr>\n",
              "      <th>45010</th>\n",
              "      <td>0.182</td>\n",
              "      <td>0.587</td>\n",
              "      <td>0.232</td>\n",
              "      <td>0.4803</td>\n",
              "    </tr>\n",
              "    <tr>\n",
              "      <th>39715</th>\n",
              "      <td>0.000</td>\n",
              "      <td>0.776</td>\n",
              "      <td>0.224</td>\n",
              "      <td>0.9783</td>\n",
              "    </tr>\n",
              "    <tr>\n",
              "      <th>12890</th>\n",
              "      <td>0.044</td>\n",
              "      <td>0.628</td>\n",
              "      <td>0.327</td>\n",
              "      <td>0.9911</td>\n",
              "    </tr>\n",
              "  </tbody>\n",
              "</table>\n",
              "<p>22445 rows × 4 columns</p>\n",
              "</div>\n",
              "      <button class=\"colab-df-convert\" onclick=\"convertToInteractive('df-fbbc0082-b3ce-484d-9186-1461b00b3389')\"\n",
              "              title=\"Convert this dataframe to an interactive table.\"\n",
              "              style=\"display:none;\">\n",
              "        \n",
              "  <svg xmlns=\"http://www.w3.org/2000/svg\" height=\"24px\"viewBox=\"0 0 24 24\"\n",
              "       width=\"24px\">\n",
              "    <path d=\"M0 0h24v24H0V0z\" fill=\"none\"/>\n",
              "    <path d=\"M18.56 5.44l.94 2.06.94-2.06 2.06-.94-2.06-.94-.94-2.06-.94 2.06-2.06.94zm-11 1L8.5 8.5l.94-2.06 2.06-.94-2.06-.94L8.5 2.5l-.94 2.06-2.06.94zm10 10l.94 2.06.94-2.06 2.06-.94-2.06-.94-.94-2.06-.94 2.06-2.06.94z\"/><path d=\"M17.41 7.96l-1.37-1.37c-.4-.4-.92-.59-1.43-.59-.52 0-1.04.2-1.43.59L10.3 9.45l-7.72 7.72c-.78.78-.78 2.05 0 2.83L4 21.41c.39.39.9.59 1.41.59.51 0 1.02-.2 1.41-.59l7.78-7.78 2.81-2.81c.8-.78.8-2.07 0-2.86zM5.41 20L4 18.59l7.72-7.72 1.47 1.35L5.41 20z\"/>\n",
              "  </svg>\n",
              "      </button>\n",
              "      \n",
              "  <style>\n",
              "    .colab-df-container {\n",
              "      display:flex;\n",
              "      flex-wrap:wrap;\n",
              "      gap: 12px;\n",
              "    }\n",
              "\n",
              "    .colab-df-convert {\n",
              "      background-color: #E8F0FE;\n",
              "      border: none;\n",
              "      border-radius: 50%;\n",
              "      cursor: pointer;\n",
              "      display: none;\n",
              "      fill: #1967D2;\n",
              "      height: 32px;\n",
              "      padding: 0 0 0 0;\n",
              "      width: 32px;\n",
              "    }\n",
              "\n",
              "    .colab-df-convert:hover {\n",
              "      background-color: #E2EBFA;\n",
              "      box-shadow: 0px 1px 2px rgba(60, 64, 67, 0.3), 0px 1px 3px 1px rgba(60, 64, 67, 0.15);\n",
              "      fill: #174EA6;\n",
              "    }\n",
              "\n",
              "    [theme=dark] .colab-df-convert {\n",
              "      background-color: #3B4455;\n",
              "      fill: #D2E3FC;\n",
              "    }\n",
              "\n",
              "    [theme=dark] .colab-df-convert:hover {\n",
              "      background-color: #434B5C;\n",
              "      box-shadow: 0px 1px 3px 1px rgba(0, 0, 0, 0.15);\n",
              "      filter: drop-shadow(0px 1px 2px rgba(0, 0, 0, 0.3));\n",
              "      fill: #FFFFFF;\n",
              "    }\n",
              "  </style>\n",
              "\n",
              "      <script>\n",
              "        const buttonEl =\n",
              "          document.querySelector('#df-fbbc0082-b3ce-484d-9186-1461b00b3389 button.colab-df-convert');\n",
              "        buttonEl.style.display =\n",
              "          google.colab.kernel.accessAllowed ? 'block' : 'none';\n",
              "\n",
              "        async function convertToInteractive(key) {\n",
              "          const element = document.querySelector('#df-fbbc0082-b3ce-484d-9186-1461b00b3389');\n",
              "          const dataTable =\n",
              "            await google.colab.kernel.invokeFunction('convertToInteractive',\n",
              "                                                     [key], {});\n",
              "          if (!dataTable) return;\n",
              "\n",
              "          const docLinkHtml = 'Like what you see? Visit the ' +\n",
              "            '<a target=\"_blank\" href=https://colab.research.google.com/notebooks/data_table.ipynb>data table notebook</a>'\n",
              "            + ' to learn more about interactive tables.';\n",
              "          element.innerHTML = '';\n",
              "          dataTable['output_type'] = 'display_data';\n",
              "          await google.colab.output.renderOutput(dataTable, element);\n",
              "          const docLink = document.createElement('div');\n",
              "          docLink.innerHTML = docLinkHtml;\n",
              "          element.appendChild(docLink);\n",
              "        }\n",
              "      </script>\n",
              "    </div>\n",
              "  </div>\n",
              "  "
            ]
          },
          "metadata": {},
          "execution_count": 33
        }
      ],
      "source": [
        "sentiment_tr = x_train['essay'].apply(sid.polarity_scores).apply(pd.Series)\n",
        "sentiment_te = x_test['essay'].apply(sid.polarity_scores).apply(pd.Series)\n",
        "sentiment_cv = x_cv['essay'].apply(sid.polarity_scores).apply(pd.Series)\n",
        "sentiment_tr"
      ]
    },
    {
      "cell_type": "markdown",
      "metadata": {
        "id": "Qd1FlMwrCnep"
      },
      "source": [
        "stacking up all features"
      ]
    },
    {
      "cell_type": "code",
      "execution_count": null,
      "metadata": {
        "id": "KssxKlxACluO"
      },
      "outputs": [],
      "source": [
        "from scipy.sparse import hstack\n",
        "\n",
        "#for set1\n",
        "x_tr1 = hstack((x_tr_ess_tfidf,x_tr_school,x_tr_project,x_tr_prefix,x_tr_subcat,x_tr_cat,x_tr_price,x_tr_prev_project,sentiment_tr)).tocsr()\n",
        "x_cv1 = hstack((x_cv_ess_tfidf,x_cv_school,x_cv_project,x_cv_prefix,x_cv_subcat,x_cv_cat,x_cv_price,x_cv_prev_project,sentiment_cv)).tocsr()\n",
        "x_te1 = hstack((x_te_ess_tfidf,x_te_school,x_te_project,x_te_prefix,x_te_subcat,x_te_cat,x_te_price,x_te_prev_project,sentiment_te)).tocsr()\n"
      ]
    },
    {
      "cell_type": "code",
      "execution_count": null,
      "metadata": {
        "id": "DNnqztu4DyjN"
      },
      "outputs": [],
      "source": [
        "#for set2\n",
        "x_tr2 = hstack((x_tr_ess_tfidf_w2v,x_tr_school,x_tr_project,x_tr_prefix,x_tr_subcat,x_tr_cat,x_tr_price,x_tr_prev_project,sentiment_tr)).tocsr()\n",
        "x_cv2 = hstack((x_cv_ess_tfidf_w2v,x_cv_school,x_cv_project,x_cv_prefix,x_cv_subcat,x_cv_cat,x_cv_price,x_cv_prev_project,sentiment_cv)).tocsr()\n",
        "x_te2 = hstack((x_te_ess_tfidf_w2v,x_te_school,x_te_project,x_te_prefix,x_te_subcat,x_te_cat,x_te_price,x_te_prev_project,sentiment_te)).tocsr()\n"
      ]
    },
    {
      "cell_type": "code",
      "execution_count": null,
      "metadata": {
        "id": "LhEp5-K8FWeQ"
      },
      "outputs": [],
      "source": [
        "print(y_train.shape)\n",
        "x_tr1.shape"
      ]
    },
    {
      "cell_type": "markdown",
      "metadata": {
        "id": "SWSEUc_FFxe7"
      },
      "source": [
        "Decision Tree"
      ]
    },
    {
      "cell_type": "markdown",
      "metadata": {
        "id": "RK-Ugc6NF8Ap"
      },
      "source": [
        "Cross Validation "
      ]
    },
    {
      "cell_type": "code",
      "execution_count": null,
      "metadata": {
        "id": "MamjNoPNF1_V"
      },
      "outputs": [],
      "source": [
        "from sklearn.metrics import roc_auc_score\n",
        "from sklearn.model_selection import GridSearchCV\n",
        "from sklearn.tree import DecisionTreeClassifier\n",
        "\n",
        "tr_auc1 = []\n",
        "tr_auc2 = []\n",
        "cv_auc1 = []\n",
        "cv_auc2 = []\n",
        "\n",
        "alpha_depth = [1, 3, 10, 30] \n",
        "aplha_split_min = [5,10,100,500]\n",
        "\n"
      ]
    },
    {
      "cell_type": "markdown",
      "metadata": {
        "id": "g3fMfOYlH955"
      },
      "source": [
        "GridSearchCV"
      ]
    },
    {
      "cell_type": "code",
      "execution_count": null,
      "metadata": {
        "id": "5NXEBKwPHwXG"
      },
      "outputs": [],
      "source": [
        "#SET 1 Decision tree classifier\n",
        "\n",
        "dtc = DecisionTreeClassifier(class_weight='balanced')\n",
        "params ={'max_depth':alpha_depth,'min_samples_split':aplha_split_min}\n",
        "clf = GridSearchCV(dtc,params,cv=3,scoring='roc_auc',return_train_score = True)\n",
        "clf.fit(x_tr1,y_train)\n",
        "final1 = pd.DataFrame.from_dict(clf.cv_results_)\n",
        "\n",
        "tr_auc1 = final1['mean_train_score']\n",
        "cv_auc1 = final1['mean_train_score']\n",
        "\n",
        "x1 = final1['param_min_samples_split']\n",
        "y1 = final1['param_max_depth']\n",
        "\n",
        "depthbest1 = clf.best_params_['max_depth']\n",
        "minsplitbest1 = clf.best_params_['min_samples_split']\n",
        "\n",
        "#SET 2 Decision tree classifier\n",
        "\n",
        "clf.fit(x_tr2,y_train)\n",
        "final2 = pd.DataFrame.from_dict(clf.cv_results_)\n",
        "\n",
        "tr_auc2 = final1['mean_train_score']\n",
        "cv_auc2 = final1['mean_train_score']\n",
        "\n",
        "x2 = final1['param_min_samples_split']\n",
        "y2 = final1['param_max_depth']\n",
        "\n",
        "depthbest2 = clf.best_params_['max_depth']\n",
        "minsplitbest2 = clf.best_params_['min_samples_split']\n",
        "\n",
        "\n"
      ]
    },
    {
      "cell_type": "code",
      "execution_count": null,
      "metadata": {
        "id": "F5d3q3rY29l8"
      },
      "outputs": [],
      "source": [
        "import plotly.offline as offline\n",
        "import plotly.graph_objs as go\n",
        "import matplotlib.pyplot as plt\n",
        "import numpy as np\n",
        "\n",
        "offline.init_notebook_mode()\n",
        "\n",
        "def plot_3d(X,Y,tr_auc,cv_auc):\n",
        "  t1 = go.Scatter3d(x=X,y=Y,z=tr_auc,name='train')\n",
        "  t2 = go.Scatter3d(x=X,y=Y,z=cv_auc,name='crossvalidation')\n",
        "\n",
        "  data = [t1,t2]\n",
        "\n",
        "#https://plotly.com/python/3d-axes/\n",
        "\n",
        "  layout = go.Layout(scene=dict(\n",
        "      xaxis = dict(title ='estimator_n'),\n",
        "      yaxis = dict(title = 'max depth'),\n",
        "      zaxis = dict(title = 'Auc score'),))\n",
        "  \n",
        "  figs = go.Figure(data = data, layout = layout,)\n",
        "  offline.iplot(figs,filename='3d-scatter-colorscale')\n",
        "\n",
        "plot_3d(x1,y1,tr_auc1,cv_auc1)\n",
        "plot_3d(x2,y2,tr_auc2,cv_auc2)\n",
        "\n",
        "\n",
        "\n",
        "\n"
      ]
    },
    {
      "cell_type": "code",
      "execution_count": null,
      "metadata": {
        "colab": {
          "base_uri": "https://localhost:8080/"
        },
        "id": "O7eLhSvx5yQE",
        "outputId": "8b804b44-cc28-4af8-ac17-e7a27945597f"
      },
      "outputs": [
        {
          "output_type": "stream",
          "name": "stdout",
          "text": [
            "min_sample_split:10 and max_depth:500\n",
            "min_sample_split:10 and max_depth:500\n"
          ]
        }
      ],
      "source": [
        "print(\"min_sample_split:{0} and max_depth:{1}\".format(depthbest1,minsplitbest1))\n",
        "print(\"min_sample_split:{0} and max_depth:{1}\".format(depthbest2,minsplitbest2))\n"
      ]
    },
    {
      "cell_type": "code",
      "execution_count": null,
      "metadata": {
        "id": "qzgqg09a6YA3"
      },
      "outputs": [],
      "source": [
        "from sklearn.metrics import roc_curve,auc\n",
        "\n",
        "data_te1 = DecisionTreeClassifier(class_weight='balanced',min_samples_split = minsplitbest1,max_depth=depthbest1)\n",
        "data_te1.fit(x_tr1,y_train)\n",
        "\n",
        "\n",
        "\n",
        "data_te2 = DecisionTreeClassifier(class_weight='balanced',min_samples_split = minsplitbest2,max_depth=depthbest2)\n",
        "data_te2.fit(x_tr2,y_train)\n",
        "\n",
        "\n",
        "y_tr_pred1 = data_te1.predict_proba(x_tr1)[:,1]\n",
        "y_te_pred1 = data_te1.predict_proba(x_te1)[:,1]\n",
        "\n",
        "\n",
        "y_tr_pred2 = data_te2.predict_proba(x_tr2)[:,1]\n",
        "y_te_pred2 = data_te2.predict_proba(x_te2)[:,1]\n",
        "\n",
        "\n",
        "fpr_train1,tpr_train1,threshold_tr1 = roc_curve(y_train,y_tr_pred1)\n",
        "fpr_test1,tpr_test1,threshold_te1 = roc_curve(y_test,y_te_pred1)\n",
        "\n",
        "\n",
        "fpr_train2,tpr_train2,threshold_tr2 = roc_curve(y_train,y_tr_pred2)\n",
        "fpr_test2,tpr_test2,threshold_te2 = roc_curve(y_test,y_te_pred2)\n",
        "\n",
        "\n",
        "\n",
        "\n"
      ]
    },
    {
      "cell_type": "code",
      "execution_count": null,
      "metadata": {
        "colab": {
          "base_uri": "https://localhost:8080/",
          "height": 591
        },
        "id": "QDnvQXQZEXcx",
        "outputId": "3b043de6-5fbd-4db8-dbfc-de5e04045de9"
      },
      "outputs": [
        {
          "output_type": "display_data",
          "data": {
            "text/plain": [
              "<Figure size 432x288 with 1 Axes>"
            ],
            "image/png": "[encoded data removed]"
          },
          "metadata": {
            "needs_background": "light"
          }
        },
        {
          "output_type": "display_data",
          "data": {
            "text/plain": [
              "<Figure size 432x288 with 1 Axes>"
            ],
            "image/png": "[encoded data removed]"
          },
          "metadata": {
            "needs_background": "light"
          }
        }
      ],
      "source": [
        "# Plot confusion matrix based on best threshold value and AUC score \n",
        "import matplotlib.pyplot as plt\n",
        "plt.plot(fpr_train1,tpr_train1,label='AUC Train'+str(auc(fpr_train1,tpr_train1)))\n",
        "plt.plot(fpr_test1,tpr_test1,label='AUC Train'+str(auc(fpr_test1,tpr_test1)))\n",
        "plt.legend()\n",
        "plt.xlabel(\"FPR\",fontsize=20)\n",
        "plt.ylabel(\"TPR\",fontsize=20)\n",
        "plt.title(\"plot_errors\")\n",
        "plt.grid()\n",
        "plt.show()\n",
        "\n",
        "\n",
        "plt.plot(fpr_train2,tpr_train2,label='AUC Test'+str(auc(fpr_train2,tpr_train2)))\n",
        "plt.plot(fpr_test2,tpr_test2,label='AUC Test'+str(auc(fpr_test2,tpr_test2)))\n",
        "plt.legend()\n",
        "plt.xlabel(\"FPR\",fontsize=20)\n",
        "plt.ylabel(\"TPR\",fontsize=20)\n",
        "plt.title(\"plot_errors\")\n",
        "plt.grid()\n",
        "plt.show()\n",
        "\n",
        "\n"
      ]
    },
    {
      "cell_type": "code",
      "execution_count": null,
      "metadata": {
        "id": "w6ueNf6pJ8ZO"
      },
      "outputs": [],
      "source": [
        "#now finding best threshold\n",
        "def best_threshold(threshold,fpr,tpr):\n",
        "  thold = threshold[np.argmax(tpr*(1-fpr))]\n",
        "  print(\"maximum value\",max(tpr*(1-fpr)),\"for threshold\",np.round(thold,3))\n",
        "  return thold\n",
        "\n",
        "def pred_best_t(proba,threshold):\n",
        "  pred =[]\n",
        "  for j in proba:\n",
        "    if j>= threshold:\n",
        "      pred.append(1)\n",
        "    else:\n",
        "      pred.append(0)\n",
        "  return pred\n"
      ]
    },
    {
      "cell_type": "markdown",
      "metadata": {
        "id": "I5Bn6PNBLzI8"
      },
      "source": [
        "Plotting the  confusion matrix based on best threshold value"
      ]
    },
    {
      "cell_type": "code",
      "execution_count": null,
      "metadata": {
        "colab": {
          "base_uri": "https://localhost:8080/",
          "height": 324
        },
        "id": "DLS-CCbcLoty",
        "outputId": "5bd2fd23-bf6f-4a50-a100-2768ee557cf7"
      },
      "outputs": [
        {
          "output_type": "stream",
          "name": "stdout",
          "text": [
            "maximum value 0.3849037013535599 for threshold 0.495\n"
          ]
        },
        {
          "output_type": "execute_result",
          "data": {
            "text/plain": [
              "Text(33.0, 0.5, 'actual value')"
            ]
          },
          "metadata": {},
          "execution_count": 44
        },
        {
          "output_type": "display_data",
          "data": {
            "text/plain": [
              "<Figure size 432x288 with 2 Axes>"
            ],
            "image/png": "[encoded data removed]"
          },
          "metadata": {
            "needs_background": "light"
          }
        }
      ],
      "source": [
        "from sklearn.metrics import confusion_matrix\n",
        "t1_best = best_threshold(threshold_tr1,fpr_train1,tpr_train1)\n",
        "y1_test = pred_best_t(y_te_pred1,t1_best)\n",
        "con_mat1 = confusion_matrix(y_test,y1_test)\n",
        "\n",
        "xa = plt.subplot()\n",
        "sns.heatmap(con_mat1,annot=True,fmt=\"d\",cmap=\"Greens\")\n",
        "xa.set_xlabel(\"predicated value\",fontsize=20)\n",
        "xa.set_ylabel(\"actual value\",fontsize=20)\n"
      ]
    },
    {
      "cell_type": "code",
      "execution_count": null,
      "metadata": {
        "colab": {
          "base_uri": "https://localhost:8080/",
          "height": 324
        },
        "id": "dYenyy35RnjB",
        "outputId": "faac91f5-52da-48b3-d716-909393fcdcbb"
      },
      "outputs": [
        {
          "output_type": "stream",
          "name": "stdout",
          "text": [
            "maximum value 0.4375116928536909 for threshold 0.492\n"
          ]
        },
        {
          "output_type": "execute_result",
          "data": {
            "text/plain": [
              "Text(33.0, 0.5, 'actual value')"
            ]
          },
          "metadata": {},
          "execution_count": 45
        },
        {
          "output_type": "display_data",
          "data": {
            "text/plain": [
              "<Figure size 432x288 with 2 Axes>"
            ],
            "image/png": "[encoded data removed]"
          },
          "metadata": {
            "needs_background": "light"
          }
        }
      ],
      "source": [
        "t2_best = best_threshold(threshold_tr2,fpr_train2,tpr_train2)\n",
        "y2_test = pred_best_t(y_te_pred2,t2_best)\n",
        "con_mat1 = confusion_matrix(y_test,y2_test)\n",
        "\n",
        "xa = plt.subplot()\n",
        "sns.heatmap(con_mat1,annot=True,fmt=\"d\",cmap=\"Greens\")\n",
        "xa.set_xlabel(\"predicated value\",fontsize=20)\n",
        "xa.set_ylabel(\"actual value\",fontsize=20)"
      ]
    },
    {
      "cell_type": "code",
      "execution_count": null,
      "metadata": {
        "colab": {
          "base_uri": "https://localhost:8080/"
        },
        "id": "jpMfv38ySHlA",
        "outputId": "4df7b170-093b-44f3-958d-00b9e9ed99ba"
      },
      "outputs": [
        {
          "output_type": "stream",
          "name": "stdout",
          "text": [
            "16500 16500\n"
          ]
        }
      ],
      "source": [
        "print(len(y_test),len(y_te_pred1))"
      ]
    },
    {
      "cell_type": "code",
      "execution_count": null,
      "metadata": {
        "colab": {
          "base_uri": "https://localhost:8080/"
        },
        "id": "EfOenjD_SXwr",
        "outputId": "e6c12ff6-7512-415a-fda6-7dadf2ba3396"
      },
      "outputs": [
        {
          "output_type": "stream",
          "name": "stdout",
          "text": [
            "16500 16500\n"
          ]
        }
      ],
      "source": [
        "print(len(y_test),len(y_te_pred2))"
      ]
    },
    {
      "cell_type": "code",
      "execution_count": null,
      "metadata": {
        "colab": {
          "base_uri": "https://localhost:8080/"
        },
        "id": "OTFSw4QOSZyX",
        "outputId": "1add5af0-0991-4cf2-d60a-c4201c67c9b9"
      },
      "outputs": [
        {
          "output_type": "execute_result",
          "data": {
            "text/plain": [
              "0        1\n",
              "1        1\n",
              "2        1\n",
              "3        1\n",
              "4        0\n",
              "        ..\n",
              "16495    1\n",
              "16496    1\n",
              "16497    1\n",
              "16498    1\n",
              "16499    1\n",
              "Name: project_is_approved, Length: 16500, dtype: int64"
            ]
          },
          "metadata": {},
          "execution_count": 48
        }
      ],
      "source": [
        "y_test.reset_index(drop=True,inplace=True)\n",
        "y_test"
      ]
    },
    {
      "cell_type": "code",
      "execution_count": null,
      "metadata": {
        "id": "nHfqSRiYCUT8"
      },
      "outputs": [],
      "source": [
        "predicts_test  = pred_best_t(y_tr_pred2,t2_best)"
      ]
    },
    {
      "cell_type": "code",
      "execution_count": null,
      "metadata": {
        "colab": {
          "base_uri": "https://localhost:8080/"
        },
        "id": "jHRobG-vCX6x",
        "outputId": "e44b2e99-b8e2-4c92-8cb0-f697d45a8b89"
      },
      "outputs": [
        {
          "output_type": "execute_result",
          "data": {
            "text/plain": [
              "1589"
            ]
          },
          "metadata": {},
          "execution_count": 50
        }
      ],
      "source": [
        "false_indices = []\n",
        "for i in range(len(y_test)):\n",
        "  if (y_test[i]==0)&(predicts_test[i]==1):\n",
        "    false_indices.append(i)\n",
        "\n",
        "len(false_indices)"
      ]
    },
    {
      "cell_type": "markdown",
      "source": [
        "Word Cloud"
      ],
      "metadata": {
        "id": "8Idqbd-4LGJV"
      }
    },
    {
      "cell_type": "code",
      "execution_count": null,
      "metadata": {
        "colab": {
          "base_uri": "https://localhost:8080/"
        },
        "id": "76cWKIolC9AE",
        "outputId": "e6c66e0f-1a6c-4133-eb04-bafd98cec38a"
      },
      "outputs": [
        {
          "output_type": "stream",
          "name": "stdout",
          "text": [
            "(1589, 8)\n"
          ]
        }
      ],
      "source": [
        "import pandas as pd\n",
        "col = x_test.columns\n",
        "x_te_fal_pos = pd.DataFrame(columns=col)\n",
        "x_te_fal_pos = x_test.iloc[false_indices]\n",
        "print(x_te_fal_pos.shape)"
      ]
    },
    {
      "cell_type": "code",
      "execution_count": null,
      "metadata": {
        "colab": {
          "base_uri": "https://localhost:8080/",
          "height": 367
        },
        "id": "chkOGbvUDmBz",
        "outputId": "d34ff9a8-affe-4e11-fc65-9d52b30480a8"
      },
      "outputs": [
        {
          "output_type": "execute_result",
          "data": {
            "text/plain": [
              "      school_state teacher_prefix project_grade_category  \\\n",
              "9949            ca             ms             grades_3_5   \n",
              "11274           mn             ms          grades_prek_2   \n",
              "\n",
              "       teacher_number_of_previously_posted_projects   clean_categories  \\\n",
              "9949                                             11  literacy_language   \n",
              "11274                                             3      health_sports   \n",
              "\n",
              "                      clean_subcategories  \\\n",
              "9949                   literature_writing   \n",
              "11274  health_wellness nutritioneducation   \n",
              "\n",
              "                                                   essay    price  \n",
              "9949   i teacher librarian working california inner c...   273.62  \n",
              "11274  my students diverse group children they come m...  1346.34  "
            ],
            "text/html": [
              "\n",
              "  <div id=\"df-a46eddb1-a762-4fa4-b4c7-d97cb7f97182\">\n",
              "    <div class=\"colab-df-container\">\n",
              "      <div>\n",
              "<style scoped>\n",
              "    .dataframe tbody tr th:only-of-type {\n",
              "        vertical-align: middle;\n",
              "    }\n",
              "\n",
              "    .dataframe tbody tr th {\n",
              "        vertical-align: top;\n",
              "    }\n",
              "\n",
              "    .dataframe thead th {\n",
              "        text-align: right;\n",
              "    }\n",
              "</style>\n",
              "<table border=\"1\" class=\"dataframe\">\n",
              "  <thead>\n",
              "    <tr style=\"text-align: right;\">\n",
              "      <th></th>\n",
              "      <th>school_state</th>\n",
              "      <th>teacher_prefix</th>\n",
              "      <th>project_grade_category</th>\n",
              "      <th>teacher_number_of_previously_posted_projects</th>\n",
              "      <th>clean_categories</th>\n",
              "      <th>clean_subcategories</th>\n",
              "      <th>essay</th>\n",
              "      <th>price</th>\n",
              "    </tr>\n",
              "  </thead>\n",
              "  <tbody>\n",
              "    <tr>\n",
              "      <th>9949</th>\n",
              "      <td>ca</td>\n",
              "      <td>ms</td>\n",
              "      <td>grades_3_5</td>\n",
              "      <td>11</td>\n",
              "      <td>literacy_language</td>\n",
              "      <td>literature_writing</td>\n",
              "      <td>i teacher librarian working california inner c...</td>\n",
              "      <td>273.62</td>\n",
              "    </tr>\n",
              "    <tr>\n",
              "      <th>11274</th>\n",
              "      <td>mn</td>\n",
              "      <td>ms</td>\n",
              "      <td>grades_prek_2</td>\n",
              "      <td>3</td>\n",
              "      <td>health_sports</td>\n",
              "      <td>health_wellness nutritioneducation</td>\n",
              "      <td>my students diverse group children they come m...</td>\n",
              "      <td>1346.34</td>\n",
              "    </tr>\n",
              "  </tbody>\n",
              "</table>\n",
              "</div>\n",
              "      <button class=\"colab-df-convert\" onclick=\"convertToInteractive('df-a46eddb1-a762-4fa4-b4c7-d97cb7f97182')\"\n",
              "              title=\"Convert this dataframe to an interactive table.\"\n",
              "              style=\"display:none;\">\n",
              "        \n",
              "  <svg xmlns=\"http://www.w3.org/2000/svg\" height=\"24px\"viewBox=\"0 0 24 24\"\n",
              "       width=\"24px\">\n",
              "    <path d=\"M0 0h24v24H0V0z\" fill=\"none\"/>\n",
              "    <path d=\"M18.56 5.44l.94 2.06.94-2.06 2.06-.94-2.06-.94-.94-2.06-.94 2.06-2.06.94zm-11 1L8.5 8.5l.94-2.06 2.06-.94-2.06-.94L8.5 2.5l-.94 2.06-2.06.94zm10 10l.94 2.06.94-2.06 2.06-.94-2.06-.94-.94-2.06-.94 2.06-2.06.94z\"/><path d=\"M17.41 7.96l-1.37-1.37c-.4-.4-.92-.59-1.43-.59-.52 0-1.04.2-1.43.59L10.3 9.45l-7.72 7.72c-.78.78-.78 2.05 0 2.83L4 21.41c.39.39.9.59 1.41.59.51 0 1.02-.2 1.41-.59l7.78-7.78 2.81-2.81c.8-.78.8-2.07 0-2.86zM5.41 20L4 18.59l7.72-7.72 1.47 1.35L5.41 20z\"/>\n",
              "  </svg>\n",
              "      </button>\n",
              "      \n",
              "  <style>\n",
              "    .colab-df-container {\n",
              "      display:flex;\n",
              "      flex-wrap:wrap;\n",
              "      gap: 12px;\n",
              "    }\n",
              "\n",
              "    .colab-df-convert {\n",
              "      background-color: #E8F0FE;\n",
              "      border: none;\n",
              "      border-radius: 50%;\n",
              "      cursor: pointer;\n",
              "      display: none;\n",
              "      fill: #1967D2;\n",
              "      height: 32px;\n",
              "      padding: 0 0 0 0;\n",
              "      width: 32px;\n",
              "    }\n",
              "\n",
              "    .colab-df-convert:hover {\n",
              "      background-color: #E2EBFA;\n",
              "      box-shadow: 0px 1px 2px rgba(60, 64, 67, 0.3), 0px 1px 3px 1px rgba(60, 64, 67, 0.15);\n",
              "      fill: #174EA6;\n",
              "    }\n",
              "\n",
              "    [theme=dark] .colab-df-convert {\n",
              "      background-color: #3B4455;\n",
              "      fill: #D2E3FC;\n",
              "    }\n",
              "\n",
              "    [theme=dark] .colab-df-convert:hover {\n",
              "      background-color: #434B5C;\n",
              "      box-shadow: 0px 1px 3px 1px rgba(0, 0, 0, 0.15);\n",
              "      filter: drop-shadow(0px 1px 2px rgba(0, 0, 0, 0.3));\n",
              "      fill: #FFFFFF;\n",
              "    }\n",
              "  </style>\n",
              "\n",
              "      <script>\n",
              "        const buttonEl =\n",
              "          document.querySelector('#df-a46eddb1-a762-4fa4-b4c7-d97cb7f97182 button.colab-df-convert');\n",
              "        buttonEl.style.display =\n",
              "          google.colab.kernel.accessAllowed ? 'block' : 'none';\n",
              "\n",
              "        async function convertToInteractive(key) {\n",
              "          const element = document.querySelector('#df-a46eddb1-a762-4fa4-b4c7-d97cb7f97182');\n",
              "          const dataTable =\n",
              "            await google.colab.kernel.invokeFunction('convertToInteractive',\n",
              "                                                     [key], {});\n",
              "          if (!dataTable) return;\n",
              "\n",
              "          const docLinkHtml = 'Like what you see? Visit the ' +\n",
              "            '<a target=\"_blank\" href=https://colab.research.google.com/notebooks/data_table.ipynb>data table notebook</a>'\n",
              "            + ' to learn more about interactive tables.';\n",
              "          element.innerHTML = '';\n",
              "          dataTable['output_type'] = 'display_data';\n",
              "          await google.colab.output.renderOutput(dataTable, element);\n",
              "          const docLink = document.createElement('div');\n",
              "          docLink.innerHTML = docLinkHtml;\n",
              "          element.appendChild(docLink);\n",
              "        }\n",
              "      </script>\n",
              "    </div>\n",
              "  </div>\n",
              "  "
            ]
          },
          "metadata": {},
          "execution_count": 52
        }
      ],
      "source": [
        "x_te_fal_pos.head(2)"
      ]
    },
    {
      "cell_type": "code",
      "execution_count": null,
      "metadata": {
        "id": "FU71PKNIAMwA"
      },
      "outputs": [],
      "source": [
        "from wordcloud import WordCloud,STOPWORDS\n",
        "\n",
        "word_comment = ' ' #https://www.geeksforgeeks.org/generating-word-cloud-python/\n",
        "stopwrd = set(STOPWORDS)\n",
        "for words in x_te_fal_pos['essay']:\n",
        "  value = str(words)\n",
        "  token = value.split()\n",
        "  for i in range(len(token)):\n",
        "    token[i] = token[i].lower()\n",
        "  for word in token:\n",
        "    word_comment = word_comment + word + ' '\n",
        "\n",
        "\n",
        "\n"
      ]
    },
    {
      "cell_type": "code",
      "execution_count": null,
      "metadata": {
        "id": "9HTsvoYRBUv9"
      },
      "outputs": [],
      "source": [
        "wrdcld = WordCloud(width = 800, height = 800, background_color = 'black', stopwords = stopwrd,min_font_size=10 ).generate(word_comment)"
      ]
    },
    {
      "cell_type": "code",
      "source": [
        "plt.imshow(wrdcld)"
      ],
      "metadata": {
        "colab": {
          "base_uri": "https://localhost:8080/",
          "height": 287
        },
        "id": "Hy5AmylxJ4j3",
        "outputId": "dd6f5080-2386-4438-a51f-9872254269bb"
      },
      "execution_count": null,
      "outputs": [
        {
          "output_type": "execute_result",
          "data": {
            "text/plain": [
              "<matplotlib.image.AxesImage at 0x7f431de63a10>"
            ]
          },
          "metadata": {},
          "execution_count": 55
        },
        {
          "output_type": "display_data",
          "data": {
            "text/plain": [
              "<Figure size 432x288 with 1 Axes>"
            ],
            "image/png": "[encoded data removed]"
          },
          "metadata": {
            "needs_background": "light"
          }
        }
      ]
    },
    {
      "cell_type": "code",
      "execution_count": null,
      "metadata": {
        "id": "df6ZfjyPXLIP",
        "colab": {
          "base_uri": "https://localhost:8080/",
          "height": 495
        },
        "outputId": "78108f45-7e27-49d2-e071-b40db112a14b"
      },
      "outputs": [
        {
          "output_type": "stream",
          "name": "stderr",
          "text": [
            "/usr/local/lib/python3.7/dist-packages/seaborn/_decorators.py:43: FutureWarning:\n",
            "\n",
            "Pass the following variable as a keyword arg: x. From version 0.12, the only valid positional argument will be `data`, and passing other arguments without an explicit keyword will result in an error or misinterpretation.\n",
            "\n"
          ]
        },
        {
          "output_type": "display_data",
          "data": {
            "text/plain": [
              "<Figure size 576x432 with 1 Axes>"
            ],
            "image/png": "[encoded data removed]"
          },
          "metadata": {
            "needs_background": "light"
          }
        }
      ],
      "source": [
        "#boxplot\n",
        "\n",
        "\n",
        "plt.figure(figsize=(8,6))\n",
        "sns.boxplot('price',data=x_te_fal_pos,orient='h').set_title(\"box plot of price for the false positive data\")\n",
        "plt.grid()\n"
      ]
    },
    {
      "cell_type": "code",
      "execution_count": null,
      "metadata": {
        "id": "T1vgdf-JYNck",
        "colab": {
          "base_uri": "https://localhost:8080/",
          "height": 494
        },
        "outputId": "817af209-7fd7-4b84-9067-5170bc9f6c54"
      },
      "outputs": [
        {
          "output_type": "stream",
          "name": "stdout",
          "text": [
            "[9.60352423e-01 2.83196979e-02 5.03461296e-03 1.88797986e-03\n",
            " 1.25865324e-03 1.25865324e-03 6.29326621e-04 6.29326621e-04\n",
            " 0.00000000e+00 6.29326621e-04]\n",
            "[  0.   26.2  52.4  78.6 104.8 131.  157.2 183.4 209.6 235.8 262. ]\n"
          ]
        },
        {
          "output_type": "execute_result",
          "data": {
            "text/plain": [
              "Text(0.5, 0, 'teacher_number_of_previously_posted_projects')"
            ]
          },
          "metadata": {},
          "execution_count": 57
        },
        {
          "output_type": "display_data",
          "data": {
            "text/plain": [
              "<Figure size 576x432 with 1 Axes>"
            ],
            "image/png": "[encoded data removed]"
          },
          "metadata": {
            "needs_background": "light"
          }
        }
      ],
      "source": [
        "#plotting the pdf for teacher number of previous posted project\n",
        "\n",
        "plt.figure(figsize=(8,6))\n",
        "plt.grid()\n",
        "counts,bin_edges = np.histogram(x_te_fal_pos['teacher_number_of_previously_posted_projects'],bins=10,density=True)\n",
        "pdf = counts/(sum(counts))\n",
        "print(pdf)\n",
        "print(bin_edges)\n",
        "plt.plot(bin_edges[1:],pdf,color='green')\n",
        "plt.title('pdf for the teacher_number_of_previously_posted_projects' )\n",
        "plt.xlabel('teacher_number_of_previously_posted_projects')\n",
        "\n",
        "\n",
        "\n",
        "\n"
      ]
    },
    {
      "cell_type": "markdown",
      "metadata": {
        "id": "XmHih9-YiqLx"
      },
      "source": [
        "# <font color='red'> <b>Task - 2</b></font>"
      ]
    },
    {
      "cell_type": "code",
      "execution_count": null,
      "metadata": {
        "id": "N44iBzrmiqL1",
        "colab": {
          "base_uri": "https://localhost:8080/"
        },
        "outputId": "9de5c4ce-21a0-4e6b-9791-c21f4d58a447"
      },
      "outputs": [
        {
          "output_type": "execute_result",
          "data": {
            "text/plain": [
              "DecisionTreeClassifier(class_weight='balanced', min_samples_split=500)"
            ]
          },
          "metadata": {},
          "execution_count": 58
        }
      ],
      "source": [
        "dtc_feature = DecisionTreeClassifier(class_weight=\"balanced\",min_samples_split=minsplitbest1,max_depth=None)\n",
        "dtc_feature.fit(x_tr1,y_train)\n",
        "\n",
        "\n",
        "\n"
      ]
    },
    {
      "cell_type": "code",
      "execution_count": null,
      "metadata": {
        "id": "iB8Ck7bpdM2g",
        "colab": {
          "base_uri": "https://localhost:8080/"
        },
        "outputId": "e1d90e65-31ca-40c9-fffc-1ac8d628332d"
      },
      "outputs": [
        {
          "output_type": "execute_result",
          "data": {
            "text/plain": [
              "348"
            ]
          },
          "metadata": {},
          "execution_count": 59
        }
      ],
      "source": [
        "impt_features = np.nonzero(dtc_feature.feature_importances_)[0]\n",
        "c = 0\n",
        "for j in range(len(dtc_feature.feature_importances_)):\n",
        "  if dtc_feature.feature_importances_[j]>0:\n",
        "    c = c + 1\n",
        "c\n"
      ]
    },
    {
      "cell_type": "code",
      "execution_count": null,
      "metadata": {
        "id": "zPzaSMeduINM",
        "colab": {
          "base_uri": "https://localhost:8080/"
        },
        "outputId": "038b2850-e953-4932-ceef-123587cffb20"
      },
      "outputs": [
        {
          "output_type": "execute_result",
          "data": {
            "text/plain": [
              "348"
            ]
          },
          "metadata": {},
          "execution_count": 60
        }
      ],
      "source": [
        "dtc_feature.feature_importances_\n",
        "len(impt_features)"
      ]
    },
    {
      "cell_type": "code",
      "execution_count": null,
      "metadata": {
        "id": "pXh-sJc3uKEN",
        "colab": {
          "base_uri": "https://localhost:8080/"
        },
        "outputId": "e5a7da72-6234-4dff-96de-f474512c0515"
      },
      "outputs": [
        {
          "output_type": "stream",
          "name": "stdout",
          "text": [
            "feature importance before (22445, 5256) (16500, 5256)\n",
            "feature importance after (22445, 348) (16500, 348)\n"
          ]
        }
      ],
      "source": [
        "x_tr_impt_feature = x_tr1[:,impt_features]\n",
        "x_te_impt_feature = x_te1[:,impt_features]\n",
        "\n",
        "\n",
        "print('feature importance before',x_tr1.shape,x_te1.shape)\n",
        "print('feature importance after',x_tr_impt_feature.shape,x_te_impt_feature.shape)\n",
        "\n"
      ]
    },
    {
      "cell_type": "code",
      "execution_count": null,
      "metadata": {
        "id": "WCj2XXQXu4px",
        "colab": {
          "base_uri": "https://localhost:8080/"
        },
        "outputId": "01b27c27-4c88-479e-ef7c-b9315c25aeb7"
      },
      "outputs": [
        {
          "output_type": "execute_result",
          "data": {
            "text/plain": [
              "<22445x1 sparse matrix of type '<class 'numpy.float64'>'\n",
              "\twith 153 stored elements in Compressed Sparse Row format>"
            ]
          },
          "metadata": {},
          "execution_count": 62
        }
      ],
      "source": [
        "x_tr1[0:,10]"
      ]
    },
    {
      "cell_type": "code",
      "execution_count": null,
      "metadata": {
        "id": "qXxoEYC1u-LE",
        "colab": {
          "base_uri": "https://localhost:8080/"
        },
        "outputId": "0c2970f7-a01b-4df6-8a8e-15d272fd4752"
      },
      "outputs": [
        {
          "output_type": "execute_result",
          "data": {
            "text/plain": [
              "DecisionTreeClassifier(class_weight='balanced', min_samples_split=500)"
            ]
          },
          "metadata": {},
          "execution_count": 63
        }
      ],
      "source": [
        "dtc_feature.fit(x_tr_impt_feature,y_train)\n"
      ]
    },
    {
      "cell_type": "code",
      "execution_count": null,
      "metadata": {
        "id": "r38f-6fWvMYy"
      },
      "outputs": [],
      "source": [
        "y_tr_pred_feature = dtc_feature.predict_proba(x_tr_impt_feature)[:,1] #probability score prediction\n",
        "y_te_pred_feature = dtc_feature.predict_proba(x_te_impt_feature)[:,1]\n"
      ]
    },
    {
      "cell_type": "code",
      "execution_count": null,
      "metadata": {
        "id": "tp5y1Py1vw93"
      },
      "outputs": [],
      "source": [
        "tr_feature_fpr,tr_feature_tpr,tr_feature_threshold = roc_curve(y_train,y_tr_pred_feature)#fpr , tpr, threshold for train data of roc curve\n",
        "te_feature_fpr,te_feature_tpr,te_feature_threshold = roc_curve(y_test,y_te_pred_feature)#fpr , tpr, threshold for test data of roc curve\n"
      ]
    },
    {
      "cell_type": "code",
      "source": [
        "plt.plot(tr_feature_fpr,tr_feature_tpr,label=\"AUC Train=\" +str(auc(tr_feature_fpr,tr_feature_tpr))) #plotting the graph for fpr vs tpr\n",
        "plt.plot(te_feature_fpr,te_feature_tpr,label=\"AUC test=\" +str(auc(te_feature_fpr,te_feature_tpr)))\n",
        "plt.legend()\n",
        "plt.xlabel(\"FPR\",fontsize=20)\n",
        "plt.ylabel(\"TPR\",fontsize=20)\n",
        "plt.grid()\n",
        "plt.show()\n"
      ],
      "metadata": {
        "colab": {
          "base_uri": "https://localhost:8080/",
          "height": 288
        },
        "id": "LRlN6SymP567",
        "outputId": "be1421fe-d1eb-4ba6-8c8d-fc67bf482544"
      },
      "execution_count": null,
      "outputs": [
        {
          "output_type": "display_data",
          "data": {
            "text/plain": [
              "<Figure size 432x288 with 1 Axes>"
            ],
            "image/png": "[encoded data removed]"
          },
          "metadata": {
            "needs_background": "light"
          }
        }
      ]
    },
    {
      "cell_type": "markdown",
      "source": [
        "Summary"
      ],
      "metadata": {
        "id": "KxkzXYOAtBAY"
      }
    },
    {
      "cell_type": "code",
      "source": [
        "from prettytable import PrettyTable\n",
        "from prettytable import ALL as ALL\n",
        "tab = PrettyTable(hrules=ALL)\n",
        "tab.field_names=['s.no','Vectorizer','Model','HyperParameter','AUC-Test']\n",
        "tab.add_row([1,'TF-IDF','Decision Tree','max_depth =10 min_sample_split=500','Test-AUC=0.58'])\n",
        "tab.add_row([2,'TF-IDF NON ZERO FEATURE IMPORTANCE','Decision Tree','max_depth =10 min_sample_split=500','Test-AUC=0.59'])\n",
        "print(tab)"
      ],
      "metadata": {
        "colab": {
          "base_uri": "https://localhost:8080/"
        },
        "id": "4Vbi1fqQtASP",
        "outputId": "d9aa2a1a-3a63-421c-cfe0-03e00f8c3393"
      },
      "execution_count": null,
      "outputs": [
        {
          "output_type": "stream",
          "name": "stdout",
          "text": [
            "+------+------------------------------------+---------------+------------------------------------+---------------+\n",
            "| s.no |             Vectorizer             |     Model     |           HyperParameter           |    AUC-Test   |\n",
            "+------+------------------------------------+---------------+------------------------------------+---------------+\n",
            "|  1   |               TF-IDF               | Decision Tree | max_depth =10 min_sample_split=500 | Test-AUC=0.58 |\n",
            "+------+------------------------------------+---------------+------------------------------------+---------------+\n",
            "|  2   | TF-IDF NON ZERO FEATURE IMPORTANCE | Decision Tree | max_depth =10 min_sample_split=500 | Test-AUC=0.59 |\n",
            "+------+------------------------------------+---------------+------------------------------------+---------------+\n"
          ]
        }
      ]
    }
  ],
  "metadata": {
    "colab": {
      "provenance": []
    },
    "kernelspec": {
      "display_name": "Python 3",
      "language": "python",
      "name": "python3"
    },
    "language_info": {
      "codemirror_mode": {
        "name": "ipython",
        "version": 3
      },
      "file_extension": ".py",
      "mimetype": "text/x-python",
      "name": "python",
      "nbconvert_exporter": "python",
      "pygments_lexer": "ipython3",
      "version": "3.6.3"
    }
  },
  "nbformat": 4,
  "nbformat_minor": 0
}