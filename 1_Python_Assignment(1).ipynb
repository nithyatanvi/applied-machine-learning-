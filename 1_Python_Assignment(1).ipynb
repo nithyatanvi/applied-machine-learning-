{
 "cells": [
  {
   "cell_type": "markdown",
   "metadata": {
    "id": "l0ZzOlyxB-kf"
   },
   "source": [
    "<h1>Python: without numpy or sklearn </h1>"
   ]
  },
  {
   "cell_type": "markdown",
   "metadata": {
    "id": "C0xO8JV9B-ki"
   },
   "source": [
    "<h3> Q1: Given two matrices please print the product of those two matrices </h3>\n",
    "<pre>\n",
    "\n",
    "Ex 1: A   = [[1 3 4]\n",
    "             [2 5 7]\n",
    "             [5 9 6]]\n",
    "      B   = [[1 0 0]\n",
    "             [0 1 0]\n",
    "             [0 0 1]]\n",
    "      A*B = [[1 3 4]\n",
    "             [2 5 7]\n",
    "             [5 9 6]]\n",
    "\n",
    "     \n",
    "Ex 2: A   = [[1 2]\n",
    "             [3 4]]\n",
    "      B   = [[1 2 3 4 5]\n",
    "             [5 6 7 8 9]]\n",
    "      A*B = [[11 14 17 20 23]\n",
    "             [23 30 36 42 51]]\n",
    "             \n",
    "Ex 3: A   = [[1 2]\n",
    "             [3 4]]\n",
    "      B   = [[1 4]\n",
    "             [5 6]\n",
    "             [7 8]\n",
    "             [9 6]]\n",
    "      A*B =Not possible\n",
    "</pre>"
   ]
  },
  {
   "cell_type": "code",
   "execution_count": null,
   "metadata": {
    "colab": {
     "base_uri": "https://localhost:8080/"
    },
    "id": "rnssAfpgB-kj",
    "outputId": "aa570032-0718-450a-9441-930421157e27"
   },
   "outputs": [
    {
     "data": {
      "text/plain": [
       "[[7, 10], [15, 22]]"
      ]
     },
     "execution_count": 6,
     "metadata": {},
     "output_type": "execute_result"
    }
   ],
   "source": [
    "# write your python code here\n",
    "# you can take the above example as sample input for your program to test\n",
    "# it should work for any general input try not to hard code for only given input examples\n",
    "\n",
    "\n",
    "# you can free to change all these codes/structure\n",
    "# here A and B are list of lists\n",
    "def matrix_mul(A, B):\n",
    "    # write your code\n",
    "    r_A=len(A)\n",
    "    c_A=len(A[0])\n",
    "    \n",
    "    \n",
    "    r_B=len(B)\n",
    "    c_B=len(B[0])\n",
    "    \n",
    "    if c_A!=r_B:\n",
    "        return 'Matrix Multiplication is not possible'\n",
    "    \n",
    "    Matrix=[]\n",
    "    for row in range(r_A):\n",
    "        row_mat=[]\n",
    "        for col in range(c_B):\n",
    "            summ=0\n",
    "            for ind in range(r_B):\n",
    "                summ+=A[row][ind]*B[ind][col]\n",
    "                \n",
    "            row_mat.append(summ)\n",
    "        Matrix.append(row_mat)\n",
    "        \n",
    "    return Matrix\n",
    "            \n",
    "A=[[1,2],\n",
    "   [3,4]]\n",
    "B=[[1,2],\n",
    "   [3,4]]    \n",
    "matrix_mul(A, B)"
   ]
  },
  {
   "cell_type": "markdown",
   "metadata": {
    "id": "at4VwLggB-kn"
   },
   "source": [
    "<h3> Q2: Select a number randomly with probability proportional to its magnitude from the given array of n elements</h3>\n",
    "\n",
    "consider an experiment, selecting an element from the list A randomly with probability proportional to its magnitude.\n",
    "assume we are doing the same experiment for 100 times with replacement, in each experiment you will print a number that is selected randomly from A.\n",
    "\n",
    "<pre>\n",
    "Ex 1: A = [0 5 27 6 13 28 100 45 10 79]\n",
    "let f(x) denote the number of times x getting selected in 100 experiments.\n",
    "f(100) > f(79) > f(45) > f(28) > f(27) > f(13) > f(10) > f(6) > f(5) > f(0)\n",
    "</pre>"
   ]
  },
  {
   "cell_type": "code",
   "execution_count": 27,
   "metadata": {
    "id": "B6S2dpBhB-kn"
   },
   "outputs": [],
   "source": [
    "\n",
    "#https://stackoverflow.com/questions/57892112/select-a-number-randomly-with-probability-proportional-to-its-magnitude-from-the\n",
    "from random import uniform\n",
    "import random\n",
    "import numpy as np\n",
    "# write your python code here\n",
    "# you can take the above example as sample input for your program to test\n",
    "# it should work for any general input try not to hard code for only given input examples\n",
    "\n",
    "\n",
    "# you can free to change all these codes/structure\n",
    "def pick_a_number_from_list(A):\n",
    "    # your code here for picking an element from with the probability propotional to its magnitude\n",
    "    summ=sum(A)\n",
    "\n",
    "    nor_A=[j/summ for j in A] \n",
    "        \n",
    "    #cummulative sum:\n",
    "    cum_A=[]\n",
    "    c=0\n",
    "    for c_val in nor_A:\n",
    "        cum_A.append(c+c_val)\n",
    "        c+=c_val\n",
    "        \n",
    "    #picking value:\n",
    "    r=random.random()\n",
    "    pick_vals=[]\n",
    "    for k in range(len(cum_A)):\n",
    "        if r<cum_A[k]:\n",
    "            return A[k]\n",
    "\n",
    "\n",
    "def sampling_based_on_magnitued(A):\n",
    "    final=[]\n",
    "    for i in range(1,100):\n",
    "        number = pick_a_number_from_list(A)\n",
    "        final.append(number)\n",
    "\n",
    "    return final\n"
   ]
  },
  {
   "cell_type": "code",
   "execution_count": 28,
   "metadata": {
    "colab": {
     "base_uri": "https://localhost:8080/"
    },
    "id": "8Le3KKkG2Jil",
    "outputId": "645dd3a0-217a-4a82-c2c9-a54205c4ea42"
   },
   "outputs": [
    {
     "name": "stdout",
     "output_type": "stream",
     "text": [
      "[100, 28, 13, 28, 13, 27, 79, 100, 79, 100, 79, 10, 79, 45, 45, 100, 45, 13, 45, 79, 27, 45, 100, 100, 100, 27, 45, 79, 100, 28, 27, 27, 79, 100, 79, 79, 27, 28, 100, 45, 45, 28, 79, 27, 100, 13, 45, 45, 27, 27, 100, 27, 27, 45, 79, 13, 79, 45, 100, 79, 79, 100, 100, 28, 45, 28, 45, 100, 5, 13, 100, 100, 27, 79, 100, 79, 28, 79, 100, 100, 100, 79, 100, 79, 28, 79, 79, 27, 28, 100, 5, 79, 45, 100, 100, 45, 79, 28, 79]\n"
     ]
    }
   ],
   "source": [
    "\n",
    "rand_nums=sampling_based_on_magnitued(A)\n",
    "print(rand_nums)\n",
    "#print(np.unique(rand_nums,return_counts=True))"
   ]
  },
  {
   "cell_type": "markdown",
   "metadata": {
    "id": "D1xQy2WWB-kq"
   },
   "source": [
    "<h3> Q3: Replace the digits in the string with #</h3>\n",
    "\n",
    "consider a string that will have digits in that, we need to remove all the not digits and replace the digits with #\n",
    "<pre>\n",
    "Ex 1: A = 234                Output: ###\n",
    "Ex 2: A = a2b3c4             Output: ###\n",
    "Ex 3: A = abc                Output:   (empty string)\n",
    "Ex 5: A = #2a$#b%c%561#      Output: ####\n",
    "</pre>"
   ]
  },
  {
   "cell_type": "code",
   "execution_count": null,
   "metadata": {
    "id": "7Kw3mlD8r6Hh"
   },
   "outputs": [],
   "source": [
    "import re\n",
    "# write your python code here\n",
    "# you can take the above example as sample input for your program to test\n",
    "# it should work for any general input try not to hard code for only given input examples\n",
    "\n",
    "# you can free to change all these codes/structure\n",
    "# String: it will be the input to your program\n",
    "def replace_digits(String):\n",
    "    # write your code\n",
    "    res=[ i for i in String]\n",
    "    \n",
    "    for j in range(len(res)):\n",
    "        if res[j].isdigit():\n",
    "            res[j]='#'\n",
    "        else:\n",
    "            res[j]=''\n",
    "            \n",
    "    \n",
    "    return(''.join(res)) # modified string which is after replacing the # with digits"
   ]
  },
  {
   "cell_type": "code",
   "execution_count": null,
   "metadata": {
    "colab": {
     "base_uri": "https://localhost:8080/",
     "height": 55
    },
    "id": "fxczi2jzB-kr",
    "outputId": "b920672d-0466-4351-cda1-2db34ca92b85"
   },
   "outputs": [
    {
     "name": "stdout",
     "output_type": "stream",
     "text": [
      "enter the string name:#2a$#b%c%561# \n"
     ]
    },
    {
     "data": {
      "application/vnd.google.colaboratory.intrinsic+json": {
       "type": "string"
      },
      "text/plain": [
       "'####'"
      ]
     },
     "execution_count": 165,
     "metadata": {},
     "output_type": "execute_result"
    }
   ],
   "source": [
    "\n",
    "String=input('enter the string name:')\n",
    "replace_digits(String)"
   ]
  },
  {
   "cell_type": "code",
   "execution_count": null,
   "metadata": {
    "colab": {
     "base_uri": "https://localhost:8080/",
     "height": 55
    },
    "id": "sXEwjcJDrzQC",
    "outputId": "9662c911-1ef3-4fb7-f691-81ae237ca0d5"
   },
   "outputs": [
    {
     "name": "stdout",
     "output_type": "stream",
     "text": [
      "enter the string name:naveen\n"
     ]
    },
    {
     "data": {
      "application/vnd.google.colaboratory.intrinsic+json": {
       "type": "string"
      },
      "text/plain": [
       "''"
      ]
     },
     "execution_count": 166,
     "metadata": {},
     "output_type": "execute_result"
    }
   ],
   "source": [
    "String=input('enter the string name:')\n",
    "replace_digits(String)"
   ]
  },
  {
   "cell_type": "markdown",
   "metadata": {
    "id": "j7h0Ywg7B-kw"
   },
   "source": [
    "<h3> Q4: Students marks dashboard</h3>\n",
    "\n",
    "consider the marks list of class students given two lists <br>\n",
    "Students = ['student1','student2','student3','student4','student5','student6','student7','student8','student9','student10'] <br>\n",
    "Marks = [45, 78, 12, 14, 48, 43, 45, 98, 35, 80] <br>\n",
    "from the above two lists the Student[0] got Marks[0],  Student[1] got Marks[1] and so on <br><br>\n",
    "your task is to print the name of students\n",
    "<strong>a. Who got top 5 ranks, in the descending order of marks</strong> <br>\n",
    "<strong>b. Who got least 5 ranks, in the increasing order of marks</strong><br>\n",
    "<strong>d. Who got marks between  &gt;25th percentile &lt;75th percentile, in the increasing order of marks</strong>\n",
    "\n",
    "<pre>\n",
    "Ex 1: \n",
    "Students=['student1','student2','student3','student4','student5','student6','student7','student8','student9','student10'] \n",
    "Marks = [45, 78, 12, 14, 48, 43, 47, 98, 35, 80]\n",
    "a. \n",
    "student8  98\n",
    "student10 80\n",
    "student2  78\n",
    "student5  48\n",
    "student7  47\n",
    "b.\n",
    "student3 12\n",
    "student4 14\n",
    "student9 35\n",
    "student6 43\n",
    "student1 45\n",
    "c.\n",
    "student9 35\n",
    "student6 43\n",
    "student1 45\n",
    "student7 47\n",
    "student5 48\n",
    "</pre>"
   ]
  },
  {
   "cell_type": "code",
   "execution_count": 34,
   "metadata": {
    "colab": {
     "base_uri": "https://localhost:8080/"
    },
    "id": "cxPJgItsB-kx",
    "outputId": "a88d785e-964f-43d9-db8f-5907c185a6d0"
   },
   "outputs": [
    {
     "name": "stdout",
     "output_type": "stream",
     "text": [
      "top 5 students:\n",
      "student8 : 98\n",
      "student10 : 80\n",
      "student2 : 78\n",
      "student5 : 48\n",
      "student7 : 47\n",
      "\n",
      "least 5 students:\n",
      "student3 12\n",
      "student4 14\n",
      "student9 35\n",
      "student6 43\n",
      "student1 45\n",
      "\n",
      "students between 25 and 75:\n",
      "student9 35\n",
      "student6 43\n",
      "student1 45\n",
      "student7 47\n",
      "student5 48\n"
     ]
    }
   ],
   "source": [
    "# write your python code here\n",
    "# you can take the above example as sample input for your program to test\n",
    "# it should work for any general input try not to hard code for only given input examples\n",
    "\n",
    "# you can free to change all these codes/structure\n",
    "def display_dash_board(students, marks):\n",
    "    \n",
    "    asc_list=sorted(list(zip(students,marks)) ,key=lambda z:z[1])\n",
    "    \n",
    "    # write code for computing top 5 students\n",
    "    print('top 5 students:')\n",
    "    for i,j in asc_list[::-1][:5]:\n",
    "        print(i,':',j)\n",
    "    \n",
    "    # write code for computing  least 5 students\n",
    "    print()\n",
    "    least_5_students =asc_list[:5]\n",
    "    print('least 5 students:')\n",
    "    for i ,j in asc_list[:5]:\n",
    "        print(i,j)\n",
    "    \n",
    "    # write code for computing  students between 25 and 75\n",
    "    print()\n",
    "    print('students between 25 and 75:')\n",
    "\n",
    "    maxx = max(marks)\n",
    "    minn = min(marks)\n",
    "    diff = maxx - minn\n",
    "    pre_25 = diff*0.25\n",
    "    pre_75 = diff*0.75    \n",
    "\n",
    "    for i ,j in asc_list:\n",
    "        if pre_25<j<pre_75:\n",
    "            print(i,j)\n",
    "            \n",
    "\n",
    "students=['student1','student2','student3','student4','student5','student6','student7','student8','student9','student10'] \n",
    "marks = [45, 78, 12, 14, 48, 43, 47, 98, 35, 80]\n",
    "\n",
    "display_dash_board(students, marks)\n"
   ]
  },
  {
   "cell_type": "markdown",
   "metadata": {
    "id": "qha0OhQHB-k1"
   },
   "source": [
    "<h3> Q5: Find the closest points</h3>\n",
    "\n",
    "consider you have given n data points in the form of list of tuples like S=[(x1,y1),(x2,y2),(x3,y3),(x4,y4),(x5,y5),..,(xn,yn)] and a point P=(p,q) <br> your task is to find 5 closest points(based on cosine distance) in S from P\n",
    "<br>cosine distance between two points (x,y) and (p,q) is defind as $cos^{-1}(\\frac{(x\\cdot p+y\\cdot q)}{\\sqrt(x^2+y^2)\\cdot\\sqrt(p^2+q^2)})$\n",
    "<pre>\n",
    "Ex:\n",
    "\n",
    "S= [(1,2),(3,4),(-1,1),(6,-7),(0, 6),(-5,-8),(-1,-1)(6,0),(1,-1)]\n",
    "P= (3,-4)\n",
    "<img src='https://i.imgur.com/vIFPOcG.jpg', width=300>\n",
    "Output:\n",
    "(6,-7)\n",
    "(1,-1)\n",
    "(6,0)\n",
    "(-5,-8)\n",
    "(-1,-1)\n",
    "</pre>"
   ]
  },
  {
   "cell_type": "code",
   "execution_count": null,
   "metadata": {
    "colab": {
     "base_uri": "https://localhost:8080/"
    },
    "id": "wA5I1g-2B-k2",
    "outputId": "1ed53e56-10c3-4c28-b1fc-772b544fa9ea"
   },
   "outputs": [
    {
     "name": "stdout",
     "output_type": "stream",
     "text": [
      "(6, -7)\n",
      "(1, -1)\n",
      "(6, 0)\n",
      "(-5, -8)\n",
      "(-1, -1)\n"
     ]
    }
   ],
   "source": [
    "import math\n",
    "\n",
    "# write your python code here\n",
    "# you can take the above example as sample input for your program to test\n",
    "# it should work for any general input try not to hard code for only given input examples\n",
    "# you can free to change all these codes/structure\n",
    "\n",
    "\n",
    "# here S is list of tuples and P is a tuple ot len=2\n",
    "def closest_points_to_p(S, P):\n",
    "    # write your code here\n",
    "    \n",
    "    close_points=[]\n",
    "    for i,j in S:\n",
    "        dis_num=i*P[0]+j*P[1]\n",
    "        dis_dem=(math.sqrt(i**2+j**2)) * (math.sqrt(P[0]**2 +P[1]**2 ))\n",
    "        cosine=math.acos(dis_num/dis_dem)\n",
    "        close_points.append(cosine)\n",
    "    all_points=dict(zip(S,close_points))\n",
    "    sort=sorted(all_points.items(),key=lambda z:z[1])\n",
    "    \n",
    "    for keys,values in sort[:5]:\n",
    "        print(keys)\n",
    "        \n",
    "        \n",
    "\n",
    "\n",
    "S= [(1,2),(3,4),(-1,1),(6,-7),(0, 6),(-5,-8),(-1,-1),(6,0),(1,-1)]\n",
    "P= (3,-4)\n",
    "closest_points_to_p(S, P)\n",
    " #print the returned values"
   ]
  },
  {
   "cell_type": "markdown",
   "metadata": {
    "id": "-g11jeAiB-k5"
   },
   "source": [
    "<h3> Q6: Find Which line separates oranges and apples</h3>\n",
    "consider you have given two set of data points in the form of list of tuples like \n",
    "<pre>\n",
    "Red =[(R11,R12),(R21,R22),(R31,R32),(R41,R42),(R51,R52),..,(Rn1,Rn2)]\n",
    "Blue=[(B11,B12),(B21,B22),(B31,B32),(B41,B42),(B51,B52),..,(Bm1,Bm2)]\n",
    "</pre>\n",
    "and set of line equations(in the string formate, i.e list of strings)\n",
    "<pre>\n",
    "Lines = [a1x+b1y+c1,a2x+b2y+c2,a3x+b3y+c3,a4x+b4y+c4,..,K lines]\n",
    "Note: you need to string parsing here and get the coefficients of x,y and intercept\n",
    "</pre>\n",
    "your task is to for each line that is given print \"YES\"/\"NO\", you will print yes, if all the red points are one side of the line and blue points are other side of the line, otherwise no\n",
    "<pre>\n",
    "Ex:\n",
    "Red= [(1,1),(2,1),(4,2),(2,4), (-1,4)]\n",
    "Blue= [(-2,-1),(-1,-2),(-3,-2),(-3,-1),(1,-3)]\n",
    "Lines=[\"1x+1y+0\",\"1x-1y+0\",\"1x+0y-3\",\"0x+1y-0.5\"]\n",
    "<img src='https://i.imgur.com/DoQf7mE.jpg' width=400>\n",
    "Output:\n",
    "YES\n",
    "NO\n",
    "NO\n",
    "YES\n",
    "</pre>"
   ]
  },
  {
   "cell_type": "code",
   "execution_count": null,
   "metadata": {
    "colab": {
     "base_uri": "https://localhost:8080/"
    },
    "id": "eRxExaTRB-k6",
    "outputId": "a172f123-9d25-4af1-c249-55c229ab7d5f"
   },
   "outputs": [
    {
     "name": "stdout",
     "output_type": "stream",
     "text": [
      "YES\n",
      "NO\n",
      "NO\n",
      "YES\n"
     ]
    }
   ],
   "source": [
    "import math\n",
    "import re\n",
    "# write your python code here\n",
    "# you can take the above example as sample input for your program to test\n",
    "# it should work for any general input try not to hard code for only given input strings\n",
    "\n",
    "\n",
    "# you can free to change all these codes/structure\n",
    "def i_am_the_one(red,blue,lines):\n",
    "    # your code\n",
    "    red_val=[]\n",
    "    blu_val=[]\n",
    "    \n",
    "    for each_line in lines:\n",
    "        listy=[float(i.strip()) for i in re.split('x|y',each_line)]\n",
    "        eq=listy\n",
    "        \n",
    "        rd=[]\n",
    "        bl=[]\n",
    "\n",
    "        for i in range(len(listy)):\n",
    "            \n",
    "            \n",
    "            r=(red[i][0]*eq[0]) + (red[i][1]*eq[1]) + (eq[2])\n",
    "            b=(blue[i][0]*eq[0]) + (blue[i][1]*eq[1]) + (eq[2])\n",
    "            rd.append(r)\n",
    "            bl.append(b)\n",
    "        red_val.append(rd)\n",
    "        blu_val.append(bl)\n",
    "\n",
    "    all_reds=[all(b>0 for b in a)for a in red_val]\n",
    "    all_blus=[all(b<0 for b in a)for a in blu_val]\n",
    "    \n",
    "    for i in range(len(all_reds)):\n",
    "        if (all_reds[i]==True and all_blus[i]==True):\n",
    "            print('YES')\n",
    "        else:\n",
    "            print('NO')\n",
    "\n",
    "    \n",
    "\n",
    "Red= [(1,1),(2,1),(4,2),(2,4), (-1,4)]\n",
    "Blue= [(-2,-1),(-1,-2),(-3,-2),(-3,-1),(1,-3)]\n",
    "Line=[\"1x+1y+0\",\"1x-1y+0\",\"1x+0y-3\",\"0x+1y-0.5\"]\n",
    "\n",
    "i_am_the_one(Red,Blue,Line)"
   ]
  },
  {
   "cell_type": "markdown",
   "metadata": {
    "id": "9OBpURbNB-k9"
   },
   "source": [
    "<h3> Q7: Filling the missing values in the specified formate</h3>\n",
    "You will be given a string with digits and '\\_'(missing value) symbols you have to replace the '\\_' symbols as explained \n",
    "<pre>\n",
    "Ex 1: _, _, _, 24 ==> 24/4, 24/4, 24/4, 24/4 i.e we. have distributed the 24 equally to all 4 places <br>\n",
    "Ex 2: 40, _, _, _, 60 ==> (60+40)/5,(60+40)/5,(60+40)/5,(60+40)/5,(60+40)/5 ==> 20, 20, 20, 20, 20 i.e. the sum of (60+40) is distributed qually to all 5 places<br>\n",
    "Ex 3: 80, _, _, _, _  ==> 80/5,80/5,80/5,80/5,80/5 ==> 16, 16, 16, 16, 16 i.e. the 80 is distributed qually to all 5 missing values that are right to it<br>\n",
    "Ex 4: _, _, 30, _, _, _, 50, _, _  \n",
    "==> we will fill the missing values from left to right \n",
    "    a. first we will distribute the 30 to left two missing values (10, 10, 10, _, _, _, 50, _, _)\n",
    "    b. now distribute the sum (10+50) missing values in between (10, 10, 12, 12, 12, 12, 12, _, _) \n",
    "    c. now we will distribute 12 to right side missing values (10, 10, 12, 12, 12, 12, 4, 4, 4)\n",
    "</pre>\n",
    "for a given string with comma seprate values, which will have both missing values numbers like ex: \"_, _, x, _, _, _\"\n",
    "you need fill the missing values\n",
    "\n",
    "Q: your program reads a string like ex: \"_, _, x, _, _, _\" and returns the filled sequence\n",
    "\n",
    "Ex: \n",
    "<pre>\n",
    "Input1: \"_,_,_,24\"\n",
    "Output1: 6,6,6,6\n",
    "\n",
    "Input2: \"40,_,_,_,60\"\n",
    "Output2: 20,20,20,20,20\n",
    "\n",
    "Input3: \"80,_,_,_,_\"\n",
    "Output3: 16,16,16,16,16\n",
    "\n",
    "Input4: \"_,_,30,_,_,_,50,_,_\"\n",
    "Output4: 10,10,12,12,12,12,4,4,4\n",
    "</pre>\n",
    "\n"
   ]
  },
  {
   "cell_type": "code",
   "execution_count": null,
   "metadata": {
    "colab": {
     "base_uri": "https://localhost:8080/"
    },
    "id": "imawNxtJ-v7L",
    "outputId": "6cded356-f91e-4eb1-83b9-8cc57de14461"
   },
   "outputs": [
    {
     "name": "stdout",
     "output_type": "stream",
     "text": [
      "[10, 10, 12, 12, 12, 12, 12, 4, 4]\n",
      "[20, 20, 20, 20, 20]\n",
      "[16, 16, 16, 16, 16]\n",
      "[6, 6, 6, 6]\n"
     ]
    }
   ],
   "source": [
    "\n",
    "# write your python code here\n",
    "# you can take the above example as sample input for your program to test\n",
    "# it should work for any general input try not to hard code for only given input strings\n",
    "\n",
    "\n",
    "# you can free to change all these codes/structure\n",
    "\n",
    "\n",
    "def curve_smoothing(listty):\n",
    "  store=0\n",
    "  index=0\n",
    "  last=0\n",
    "  den=0\n",
    "\n",
    "\n",
    "  listty=listty.split(',')\n",
    "  for ind,i in enumerate(listty):\n",
    "    \n",
    "    if (i!=\"_\") and (ind==0):\n",
    "      store=int(i)\n",
    "\n",
    "    elif  (i!=\"_\") and (int(i)>0):\n",
    "\n",
    "      for indd,j in enumerate(range(index,ind+1)):\n",
    "          listty[j]=(store+last+int(i))/(ind+1-index)\n",
    "          #print(last,int(i),ind+1-index,list1[j])\n",
    "\n",
    "      index=ind\n",
    "      last=int(listty[index])\n",
    "\n",
    "    elif  (i=='_') and (ind==len(listty)-1):\n",
    "      for k in range(index+1,len(listty)):\n",
    "        if last==0:\n",
    "          last=int(listty[0])\n",
    "          listty[0]=(last)/(len(listty[index:]))\n",
    "\n",
    "        listty[k]=(last)/(len(listty[index:]))\n",
    "\n",
    "  final=[int(i) for i in listty]  \n",
    "  return final\n",
    "\n",
    "\n",
    "\n",
    "\n",
    "string=  \"_,_,30,_,_,_,50,_,_\"\n",
    "s2=\"40,_,_,_,60\"\n",
    "s3=\"80,_,_,_,_\"\n",
    "s4=\"_,_,_,24\"\n",
    "\n",
    "\n",
    "print(curve_smoothing(string))\n",
    "\n",
    "print(curve_smoothing(s2))\n",
    "print(curve_smoothing(s3))\n",
    "print(curve_smoothing(s4))"
   ]
  },
  {
   "cell_type": "markdown",
   "metadata": {
    "id": "RBz4pzlfB-lB"
   },
   "source": [
    "<h3> Q8: Filling the missing values in the specified formate</h3>\n",
    "You will be given a list of lists, each sublist will be of length 2 i.e. [[x,y],[p,q],[l,m]..[r,s]]\n",
    "consider its like a martrix of n rows and two columns\n",
    "1. the first column F will contain only 5 uniques values (F1, F2, F3, F4, F5)\n",
    "2. the second column S will contain only 3 uniques values (S1, S2, S3)\n",
    "<pre>\n",
    "your task is to find\n",
    "a. Probability of P(F=F1|S==S1), P(F=F1|S==S2), P(F=F1|S==S3)\n",
    "b. Probability of P(F=F2|S==S1), P(F=F2|S==S2), P(F=F2|S==S3)\n",
    "c. Probability of P(F=F3|S==S1), P(F=F3|S==S2), P(F=F3|S==S3)\n",
    "d. Probability of P(F=F4|S==S1), P(F=F4|S==S2), P(F=F4|S==S3)\n",
    "e. Probability of P(F=F5|S==S1), P(F=F5|S==S2), P(F=F5|S==S3)\n",
    "</pre>\n",
    "Ex:\n",
    "\n",
    "<pre>\n",
    "[[F1,S1],[F2,S2],[F3,S3],[F1,S2],[F2,S3],[F3,S2],[F2,S1],[F4,S1],[F4,S3],[F5,S1]]\n",
    "\n",
    "a. P(F=F1|S==S1)=1/4, P(F=F1|S==S2)=1/3, P(F=F1|S==S3)=0/3\n",
    "b. P(F=F2|S==S1)=1/4, P(F=F2|S==S2)=1/3, P(F=F2|S==S3)=1/3\n",
    "c. P(F=F3|S==S1)=0/4, P(F=F3|S==S2)=1/3, P(F=F3|S==S3)=1/3\n",
    "d. P(F=F4|S==S1)=1/4, P(F=F4|S==S2)=0/3, P(F=F4|S==S3)=1/3\n",
    "e. P(F=F5|S==S1)=1/4, P(F=F5|S==S2)=0/3, P(F=F5|S==S3)=0/3\n",
    "</pre>\n",
    "\n",
    "\n"
   ]
  },
  {
   "cell_type": "code",
   "execution_count": null,
   "metadata": {
    "colab": {
     "base_uri": "https://localhost:8080/"
    },
    "id": "e-1giz1MB-lC",
    "outputId": "9c57d631-c648-4002-e6ae-81fa7de89eec"
   },
   "outputs": [
    {
     "name": "stdout",
     "output_type": "stream",
     "text": [
      "P(F=F1|S=S1)=1/4, P(F=F1|S=S2)=1/3, P(F=F1|S=S3)=0/3\n",
      "P(F=F2|S=S1)=1/4, P(F=F2|S=S2)=1/3, P(F=F2|S=S3)=1/3\n",
      "P(F=F3|S=S1)=0/4, P(F=F3|S=S2)=1/3, P(F=F3|S=S3)=1/3\n",
      "P(F=F4|S=S1)=1/4, P(F=F4|S=S2)=0/3, P(F=F4|S=S3)=1/3\n",
      "P(F=F5|S=S1)=1/4, P(F=F5|S=S2)=0/3, P(F=F5|S=S3)=0/3\n"
     ]
    }
   ],
   "source": [
    "# write your python code here\n",
    "# you can take the above example as sample input for your program to test\n",
    "# it should work for any general input try not to hard code for only given input strings\n",
    "\n",
    "\n",
    "\n",
    "# you can free to change all these codes/structure\n",
    "def compute_conditional_probabilites(A):\n",
    "    # your code\n",
    "    F=sorted(list(set([A[i][0] for i in range(len(A))])))\n",
    "    S=sorted(list(set([A[i][1] for i in range(len(A))])))\n",
    "    \n",
    "    S_cnts=[0,0,0]\n",
    "    for j in A:\n",
    "        if j[1]=='S1':\n",
    "            S_cnts[0]+=1\n",
    "        if j[1]=='S2':\n",
    "            S_cnts[1]+=1\n",
    "        if j[1]=='S3':\n",
    "            S_cnts[2]+=1\n",
    "            \n",
    "    #print(S_cnt)\n",
    "    F_cnts=[]\n",
    "    for i in F:\n",
    "        F_ind=[0,0,0]\n",
    "        for k in A:\n",
    "            if k[0]==i and k[1]=='S1':\n",
    "                F_ind[0]+=1\n",
    "            elif k[0]==i and k[1]=='S2':\n",
    "                F_ind[1]+=1\n",
    "            elif k[0]==i and k[1]=='S3':\n",
    "                F_ind[2]+=1\n",
    "                \n",
    "        F_cnts.append(F_ind)\n",
    "    #print(F_cnt)\n",
    "    \n",
    "    for i in range(len(F)):\n",
    "        print('P(F={0}|S=S1)={F1}/{S1}, P(F={0}|S=S2)={F2}/{S2}, P(F={0}|S=S3)={F3}/{S3}'.\n",
    "              format(F[i],F1=F_cnts[i][0],S1=S_cnts[0],F2=F_cnts[i][1],S2=S_cnts[1],F3=F_cnts[i][2],S3=S_cnts[2]))\n",
    "    \n",
    "    # print the output as per the instructions\n",
    "\n",
    "A = [['F1','S1'],['F2','S2'],['F3','S3'],['F1','S2'],['F2','S3'],['F3','S2'],['F2','S1'],['F4','S1'],['F4','S3'],['F5','S1']]\n",
    "\n",
    "compute_conditional_probabilites(A)"
   ]
  },
  {
   "cell_type": "markdown",
   "metadata": {
    "id": "n4HS87QmB-lF"
   },
   "source": [
    "<h3> Q9: Given two sentances S1, S2</h3>\n",
    "You will be given two sentances S1, S2 your task is to find \n",
    "<pre>\n",
    "a. Number of common words between S1, S2\n",
    "b. Words in S1 but not in S2\n",
    "c. Words in S2 but not in S1\n",
    "</pre>\n",
    "\n",
    "Ex: \n",
    "<pre>\n",
    "S1= \"the first column F will contain only 5 uniques values\"\n",
    "S2= \"the second column S will contain only 3 uniques values\"\n",
    "Output:\n",
    "a. 7\n",
    "b. ['first','F','5']\n",
    "c. ['second','S','3']\n",
    "</pre>"
   ]
  },
  {
   "cell_type": "code",
   "execution_count": null,
   "metadata": {
    "colab": {
     "base_uri": "https://localhost:8080/"
    },
    "id": "Ez7hlHK0B-lG",
    "outputId": "b53e1e5a-c627-4940-f0a2-69d87f5d25bc"
   },
   "outputs": [
    {
     "name": "stdout",
     "output_type": "stream",
     "text": [
      "7\n",
      "['first', 'F', '5']\n",
      "['second', 'S', '3']\n"
     ]
    }
   ],
   "source": [
    "# write your python code here\n",
    "# you can take the above example as sample input for your program to test\n",
    "# it should work for any general input try not to hard code for only given input strings\n",
    "\n",
    "# you can free to change all these codes/structure\n",
    "def string_features(S1, S2):\n",
    "    # your code\n",
    "    \n",
    "    S1=S1.split()\n",
    "    S2=S2.split()\n",
    "    a=[]\n",
    "    for i in S1:\n",
    "        if i in S2:\n",
    "            a.append(i)\n",
    "    print(len(a))\n",
    "    b=[]\n",
    "    c=[]\n",
    "    for i in range(len(S1)):\n",
    "        if S1[i]!=S2[i]:\n",
    "            b.append(S1[i])\n",
    "            c.append(S2[i])\n",
    "            \n",
    "    print(b)\n",
    "    print(c)\n",
    "            \n",
    "\n",
    "\n",
    "S1= \"the first column F will contain only 5 uniques values\"\n",
    "S2= \"the second column S will contain only 3 uniques values\"\n",
    "string_features(S1, S2)\n"
   ]
  },
  {
   "cell_type": "markdown",
   "metadata": {
    "id": "XefXVEjCB-lI"
   },
   "source": [
    "<h3> Q10: Given two sentances S1, S2</h3>\n",
    "You will be given a list of lists, each sublist will be of length 2 i.e. [[x,y],[p,q],[l,m]..[r,s]]\n",
    "consider its like a martrix of n rows and two columns\n",
    "\n",
    "a. the first column Y will contain interger values <br>\n",
    "b. the second column $Y_{score}$ will be having float values <br>\n",
    "Your task is to find the value of $f(Y,Y_{score}) = -1*\\frac{1}{n}\\Sigma_{for each Y,Y_{score} pair}(Ylog10(Y_{score})+(1-Y)log10(1-Y_{score}))$ here n is the number of rows in the matrix\n",
    "<pre>\n",
    "Ex:\n",
    "[[1, 0.4], [0, 0.5], [0, 0.9], [0, 0.3], [0, 0.6], [1, 0.1], [1, 0.9], [1, 0.8]]\n",
    "output:\n",
    "0.4243099\n",
    "</pre>\n",
    "$\\frac{-1}{8}\\cdot((1\\cdot log_{10}(0.4)+0\\cdot log_{10}(0.6))+(0\\cdot log_{10}(0.5)+1\\cdot log_{10}(0.5)) + ... + (1\\cdot log_{10}(0.8)+0\\cdot log_{10}(0.2)) )$"
   ]
  },
  {
   "cell_type": "code",
   "execution_count": null,
   "metadata": {
    "colab": {
     "base_uri": "https://localhost:8080/"
    },
    "id": "N9zkagyNB-lJ",
    "outputId": "01ae4cc5-2316-4897-9570-fe7d1b9d4274"
   },
   "outputs": [
    {
     "name": "stdout",
     "output_type": "stream",
     "text": [
      "0.42430993457031635\n"
     ]
    }
   ],
   "source": [
    "# write your python code here\n",
    "# you can take the above example as sample input for your program to test\n",
    "# it should work for any general input try not to hard code for only given input strings\n",
    "\n",
    "import math\n",
    "# you can free to change all these codes/structure\n",
    "def compute_log_loss(A):\n",
    "    # your code\n",
    "    total=0\n",
    "    for i in range(len(A)):\n",
    "        ind= ((A[i][0])*(math.log10(A[i][1]))) + ((1-A[i][0])*(math.log10(1-A[i][1])))\n",
    "        total+=ind\n",
    "    \n",
    "    loss=-(total/8)\n",
    "    \n",
    "    \n",
    "    return loss\n",
    "\n",
    "A = [[1, 0.4], [0, 0.5], [0, 0.9], [0, 0.3], [0, 0.6], [1, 0.1], [1, 0.9], [1, 0.8]]\n",
    "\n",
    "print(compute_log_loss(A))\n"
   ]
  }
 ],
 "metadata": {
  "colab": {
   "collapsed_sections": [],
   "name": "1.Python Assignment.ipynb",
   "provenance": []
  },
  "kernelspec": {
   "display_name": "Python 3",
   "language": "python",
   "name": "python3"
  },
  "language_info": {
   "codemirror_mode": {
    "name": "ipython",
    "version": 3
   },
   "file_extension": ".py",
   "mimetype": "text/x-python",
   "name": "python",
   "nbconvert_exporter": "python",
   "pygments_lexer": "ipython3",
   "version": "3.8.8"
  }
 },
 "nbformat": 4,
 "nbformat_minor": 1
}
