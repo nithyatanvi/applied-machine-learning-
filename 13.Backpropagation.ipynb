{
  "nbformat": 4,
  "nbformat_minor": 0,
  "metadata": {
    "colab": {
      "provenance": [],
      "collapsed_sections": []
    },
    "kernelspec": {
      "display_name": "Python 3",
      "language": "python",
      "name": "python3"
    },
    "language_info": {
      "codemirror_mode": {
        "name": "ipython",
        "version": 3
      },
      "file_extension": ".py",
      "mimetype": "text/x-python",
      "name": "python",
      "nbconvert_exporter": "python",
      "pygments_lexer": "ipython3",
      "version": "3.6.3"
    }
  },
  "cells": [
    {
      "cell_type": "markdown",
      "metadata": {
        "id": "y871RZtRhCEH"
      },
      "source": [
        "# <font color='red'>Backpropagation</font>"
      ]
    },
    {
      "cell_type": "markdown",
      "metadata": {
        "id": "LqePYi-4mFvK"
      },
      "source": [
        "\n",
        "In this assignment, you will implement Backpropagation from scratch. You will then verify the correctness of the your implementation using a \"grader\" function/cell (provided by us) which will match your implmentation.\n",
        "\n",
        "The grader fucntion would help you validate the correctness of your code. \n",
        "\n",
        "Please submit the final Colab notebook in the classroom ONLY after you have verified your code using the grader function/cell.\n",
        "\n",
        "\n"
      ]
    },
    {
      "cell_type": "markdown",
      "metadata": {
        "id": "0huUQ0byiI0I"
      },
      "source": [
        "## <font color='red'>Loading data </font>"
      ]
    },
    {
      "cell_type": "code",
      "source": [
        "import math"
      ],
      "metadata": {
        "id": "hExOAwk7EeL4"
      },
      "execution_count": 2,
      "outputs": []
    },
    {
      "cell_type": "code",
      "metadata": {
        "id": "1hSje5CBgcUb",
        "colab": {
          "base_uri": "https://localhost:8080/"
        },
        "outputId": "790844bc-1ba1-4b6b-f62d-24e443f16817"
      },
      "source": [
        "import pickle\n",
        "import numpy as np\n",
        "from tqdm import tqdm\n",
        "import matplotlib.pyplot as plt\n",
        "\n",
        "with open('data.pkl', 'rb') as f:\n",
        "    data = pickle.load(f)\n",
        "print(data.shape)\n",
        "X = data[:, :5]\n",
        "y = data[:, -1]\n",
        "print(X.shape, y.shape)"
      ],
      "execution_count": 3,
      "outputs": [
        {
          "output_type": "stream",
          "name": "stdout",
          "text": [
            "(506, 6)\n",
            "(506, 5) (506,)\n"
          ]
        }
      ]
    },
    {
      "cell_type": "markdown",
      "metadata": {
        "id": "hmphIg_E52Rs"
      },
      "source": [
        "<font color='blue'><b>Check this video for better understanding of the computational graphs and back propagation</font>"
      ]
    },
    {
      "cell_type": "code",
      "metadata": {
        "colab": {
          "base_uri": "https://localhost:8080/",
          "height": 520
        },
        "id": "uUWpHhgg53eu",
        "outputId": "3cc89735-d0a7-4c1c-aab5-d4e75b856a6b"
      },
      "source": [
        "from IPython.display import YouTubeVideo\n",
        "YouTubeVideo('i94OvYb6noo',width=\"1000\",height=\"500\")"
      ],
      "execution_count": null,
      "outputs": [
        {
          "data": {
            "image/jpeg": "[encoded data removed]",
            "text/html": [
              "\n",
              "        <iframe\n",
              "            width=\"1000\"\n",
              "            height=\"500\"\n",
              "            src=\"https://www.youtube.com/embed/i94OvYb6noo\"\n",
              "            frameborder=\"0\"\n",
              "            allowfullscreen\n",
              "        ></iframe>\n",
              "        "
            ],
            "text/plain": [
              "<IPython.lib.display.YouTubeVideo at 0x7fef8b613f50>"
            ]
          },
          "execution_count": 1,
          "metadata": {},
          "output_type": "execute_result"
        }
      ]
    },
    {
      "cell_type": "markdown",
      "metadata": {
        "id": "5JL-0soQistC"
      },
      "source": [
        "# <font color='red'>Computational graph</font>"
      ]
    },
    {
      "cell_type": "markdown",
      "metadata": {
        "id": "nREnTTJ3i0Vd"
      },
      "source": [
        "<img src='https://i.imgur.com/seSGbNS.png'>"
      ]
    },
    {
      "cell_type": "markdown",
      "metadata": {
        "id": "DSPX_H_4i_HT"
      },
      "source": [
        "\n",
        "*  **If you observe the graph, we are having input features [f1, f2, f3, f4, f5] and 9 weights [w1, w2, w3, w4, w5, w6,    w7, w8, w9]**.<br><br>\n",
        "*  **The final output of this graph is a value L which is computed as (Y-Y')^2** "
      ]
    },
    {
      "cell_type": "markdown",
      "metadata": {
        "id": "D54eDEv6jkO4"
      },
      "source": [
        "## <font color='red'>Task 1: Implementing Forward propagation, Backpropagation and Gradient checking </font>"
      ]
    },
    {
      "cell_type": "markdown",
      "metadata": {
        "id": "xyWK94o_fTKH"
      },
      "source": [
        "# <font color='red'>Task 1.1 </font>"
      ]
    },
    {
      "cell_type": "markdown",
      "metadata": {
        "id": "RwEcPWLffTKI"
      },
      "source": [
        "## <font color='blue'>Forward propagation </font>"
      ]
    },
    {
      "cell_type": "markdown",
      "metadata": {
        "id": "FCZrm-gkfTKI"
      },
      "source": [
        "\n",
        "*  <b>\n",
        "    Forward propagation</b>(Write your code in<font color='blue'> def forward_propagation()</b></font>)<br><br>\n",
        "    For easy debugging, we will break the computational graph into 3 parts.\n",
        "\n",
        "    <font color='green'><b>Part 1</b></font></b>\n",
        "    <img src='https://i.imgur.com/0xUaxy6.png'><br><br>\n",
        "    <font color='green'><b>Part 2</b></font></b><br>\n",
        "    <img src='https://i.imgur.com/J29pAJL.png'><br><br>\n",
        "    <font color='green'><b>Part 3</b></font></b>\n",
        "    <img src='https://i.imgur.com/vMyCsd9.png'>"
      ]
    },
    {
      "cell_type": "code",
      "metadata": {
        "id": "ADCovl2FfTKJ"
      },
      "source": [
        "def sigmoid(z):\n",
        "    '''In this function, we will compute the sigmoid(z)'''\n",
        "    val = 1/(1+np.exp(-z))\n",
        "    return val\n"
      ],
      "execution_count": 4,
      "outputs": []
    },
    {
      "cell_type": "code",
      "metadata": {
        "id": "dLJ-OYwefTKJ",
        "colab": {
          "base_uri": "https://localhost:8080/"
        },
        "outputId": "ed86f5a0-80e5-4c87-87eb-2323d069b6a1"
      },
      "source": [
        "def grader_sigmoid(z):\n",
        "  #if you have written the code correctly then the grader function will output true\n",
        "  val=sigmoid(z)\n",
        "  assert(val==0.8807970779778823)\n",
        "  return True\n",
        "grader_sigmoid(2)"
      ],
      "execution_count": 5,
      "outputs": [
        {
          "output_type": "execute_result",
          "data": {
            "text/plain": [
              "True"
            ]
          },
          "metadata": {},
          "execution_count": 5
        }
      ]
    },
    {
      "cell_type": "code",
      "source": [
        "def forward_propagation(x,y,w):\n",
        "  forward_dict={}\n",
        "  value1 = (w[0]*x[0]+w[1]*x[1]) * (w[0]*x[0]+w[1]*x[1]) + w[5]\n",
        "  p1 = np.exp(value1)\n",
        "  tanh = np.tanh(p1+w[6])\n",
        "  p3 = ((np.sin(w[2]*x[2]))*((w[3]*x[3])+(w[4]*x[4]))) + w[7]\n",
        "  sg = sigmoid(p3)\n",
        "  pred_dy = tanh + sg*w[8]\n",
        "  ls = pow(y-pred_dy,2)\n",
        "  dl = -2*(y-pred_dy)\n",
        "\n",
        "  forward_dict['exp'] = p1\n",
        "  forward_dict['sigmoid'] = sg\n",
        "  forward_dict['tanh'] = tanh\n",
        "  forward_dict['loss'] = ls\n",
        "  forward_dict['dy_pred'] = dl\n",
        "  forward_dict['dy_pred_y'] = pred_dy\n",
        "\n",
        "  return forward_dict\n",
        "\n",
        "\n"
      ],
      "metadata": {
        "id": "Et-cEJ1Y5h4L"
      },
      "execution_count": 6,
      "outputs": []
    },
    {
      "cell_type": "code",
      "metadata": {
        "id": "vP0iV7f4fTKK",
        "colab": {
          "base_uri": "https://localhost:8080/"
        },
        "outputId": "19da6935-3ae8-45ce-bbcd-986205ae1022"
      },
      "source": [
        "def grader_forwardprop(data):\n",
        "    dl = (data['dy_pred']==-1.9285278284819143)\n",
        "    loss=(data['loss']==0.9298048963072919)\n",
        "    part1=(data['exp']==1.1272967040973583)\n",
        "    part2=(data['tanh']==0.8417934192562146)\n",
        "    part3=(data['sigmoid']==0.5279179387419721)\n",
        "    assert(dl and loss and part1 and part2 and part3)\n",
        "    return True\n",
        "w=np.ones(9)*0.1\n",
        "d1=forward_propagation(X[0],y[0],w)\n",
        "grader_forwardprop(d1)"
      ],
      "execution_count": 7,
      "outputs": [
        {
          "output_type": "execute_result",
          "data": {
            "text/plain": [
              "True"
            ]
          },
          "metadata": {},
          "execution_count": 7
        }
      ]
    },
    {
      "cell_type": "markdown",
      "metadata": {
        "id": "2zcQmvkvfTKL"
      },
      "source": [
        "# <font color='red'>Task 1.2 </font>"
      ]
    },
    {
      "cell_type": "markdown",
      "metadata": {
        "id": "4YVYD18xfTKL"
      },
      "source": [
        "## <font color='blue'>Backward propagation</font>"
      ]
    },
    {
      "cell_type": "code",
      "source": [
        "def backward_propagation(x,y,w,forward_dict):\n",
        "  dw9 = forward_dict['dy_pred'] * forward_dict['sigmoid']\n",
        "  dw8 = forward_dict['dy_pred'] * (forward_dict['sigmoid'] * (1-forward_dict['sigmoid'])) * w[8]\n",
        "  dw7 = forward_dict['dy_pred'] * (1-math.pow(forward_dict['tanh'],2))\n",
        "  dw6 = forward_dict['dy_pred'] * (1-math.pow(forward_dict['tanh'],2)) * forward_dict['exp']\n",
        "  dw5 = forward_dict['dy_pred'] * (forward_dict['sigmoid'] * (1-forward_dict['sigmoid'])) * w[8] * (np.sin(w[2]*x[2])) * x[4]\n",
        "  dw4 = forward_dict['dy_pred'] * (forward_dict['sigmoid'] * (1-forward_dict['sigmoid'])) * w[8] * (np.sin(w[2]*x[2])) * x[3]\n",
        "  dw3 = dw8 * ((w[2]*x[3])+(w[4]*x[4])) * np.cos(w[2]*x[2])*x[2]\n",
        "  dw2 = dw6 * 2 *((w[0]*x[0])+(w[1]*x[1]))*x[1]\n",
        "  dw1 = dw6 * 2 *((w[0]*x[0])+(w[1]*x[1]))*x[0]\n",
        "\n",
        "  backward_dict = {}\n",
        "  backward_dict['dw1'] = dw1\n",
        "  backward_dict['dw2'] = dw2\n",
        "  backward_dict['dw3'] = dw3\n",
        "  backward_dict['dw4'] = dw4\n",
        "  backward_dict['dw5'] = dw5\n",
        "  backward_dict['dw6'] = dw6\n",
        "  backward_dict['dw7'] = dw7\n",
        "  backward_dict['dw8'] = dw8\n",
        "  backward_dict['dw9'] = dw9\n",
        "\n",
        "  return backward_dict\n"
      ],
      "metadata": {
        "id": "dtEovveNQ6si"
      },
      "execution_count": 8,
      "outputs": []
    },
    {
      "cell_type": "code",
      "metadata": {
        "id": "0ipQbNXOfTKM",
        "colab": {
          "base_uri": "https://localhost:8080/"
        },
        "outputId": "eda5dc50-6911-430b-9e90-11996bb97d49"
      },
      "source": [
        "def grader_backprop(data):\n",
        "    dw1=(np.round(data['dw1'],6)==-0.229733)\n",
        "    dw2=(np.round(data['dw2'],6)==-0.021408)\n",
        "    dw3=(np.round(data['dw3'],6)==-0.005625)\n",
        "    dw4=(np.round(data['dw4'],6)==-0.004658)\n",
        "    dw5=(np.round(data['dw5'],6)==-0.001008)\n",
        "    dw6=(np.round(data['dw6'],6)==-0.633475)\n",
        "    dw7=(np.round(data['dw7'],6)==-0.561942)\n",
        "    dw8=(np.round(data['dw8'],6)==-0.048063)\n",
        "    dw9=(np.round(data['dw9'],6)==-1.018104)\n",
        "    assert(dw1 and dw2 and dw3 and dw4 and dw5 and dw6 and dw7 and dw8 and dw9)\n",
        "    return True \n",
        "w=np.ones(9)*0.1\n",
        "forward_dict=forward_propagation(X[0],y[0],w)\n",
        "backward_dict=backward_propagation(X[0],y[0],w,forward_dict)\n",
        "grader_backprop(backward_dict)"
      ],
      "execution_count": 9,
      "outputs": [
        {
          "output_type": "execute_result",
          "data": {
            "text/plain": [
              "True"
            ]
          },
          "metadata": {},
          "execution_count": 9
        }
      ]
    },
    {
      "cell_type": "markdown",
      "metadata": {
        "id": "RlR1JVN5fTKM"
      },
      "source": [
        "# <font color='red'>Task 1.3 </font>"
      ]
    },
    {
      "cell_type": "markdown",
      "metadata": {
        "id": "STS4NrQQc6OH"
      },
      "source": [
        " ## <font color='blue'>Gradient clipping</font>"
      ]
    },
    {
      "cell_type": "markdown",
      "metadata": {
        "id": "XY7ivRNzdPok"
      },
      "source": [
        "<b> Check this  <a href='https://towardsdatascience.com/how-to-debug-a-neural-network-with-gradient-checking-41deec0357a9'>blog link</a> for more details on Gradient clipping"
      ]
    },
    {
      "cell_type": "markdown",
      "metadata": {
        "id": "BrsfpDoidtZ5"
      },
      "source": [
        " we know that the derivative of any function is\n",
        " \n",
        " $$\\lim_{\\epsilon\\to0}\\frac{f(x+\\epsilon)-f(x-\\epsilon)}{2\\epsilon}$$\n"
      ]
    },
    {
      "cell_type": "markdown",
      "metadata": {
        "id": "vUcmt0kPd02f"
      },
      "source": [
        "*  The definition above can be used as a numerical approximation of the derivative. Taking an epsilon small enough, the calculated approximation will have an error in the range of epsilon squared. \n",
        "\n",
        "*  In other words, if epsilon is 0.001, the approximation will be off by 0.00001.\n",
        "\n",
        "Therefore, we can use this to approximate the gradient, and in turn make sure that backpropagation is implemented properly. This forms the basis of <b>gradient checking!</b>"
      ]
    },
    {
      "cell_type": "markdown",
      "metadata": {
        "id": "pFSu16KCeU0x"
      },
      "source": [
        "## <Font color='blue'>Gradient checking example</font>"
      ]
    },
    {
      "cell_type": "markdown",
      "metadata": {
        "id": "Gz0mmT_xecfC"
      },
      "source": [
        "<font >\n",
        "lets understand the concept with a simple example:\n",
        "$f(w1,w2,x1,x2)=w_{1}^{2} . x_{1} + w_{2} . x_{2}$ \n",
        "\n",
        "from the above function , lets assume $w_{1}=1$, $w_{2}=2$, $x_{1}=3$, $x_{2}=4$ the gradient of $f$ w.r.t $w_{1}$ is\n",
        "\n",
        "\\begin{array} {lcl}\n",
        "\\frac{df}{dw_{1}} = dw_{1} &=&2.w_{1}.x_{1} \\\\& = &2.1.3\\\\& = &6\n",
        "\\end{array}\n",
        "\n",
        "\n",
        "let calculate the aproximate gradient of $w_{1}$ as mentinoned in the above formula and considering $\\epsilon=0.0001$\n",
        "\n",
        "\\begin{array} {lcl}\n",
        "dw_1^{approx} & = & \\frac{f(w1+\\epsilon,w2,x1,x2)-f(w1-\\epsilon,w2,x1,x2)}{2\\epsilon} \\\\ & = & \\frac{((1+0.0001)^{2} . 3 + 2 . 4) - ((1-0.0001)^{2} . 3 + 2 . 4)}{2\\epsilon} \\\\ & = & \\frac{(1.00020001 . 3 + 2 . 4) - (0.99980001. 3 + 2 . 4)}{2*0.0001} \\\\ & = & \\frac{(11.00060003) - (10.99940003)}{0.0002}\\\\ & = & 5.99999999999\n",
        "\\end{array}\n",
        "\n",
        "Then, we apply the following formula for gradient check: <i>gradient_check</i> = \n",
        "$\\frac{\\left\\Vert\\left (dW-dW^{approx}\\rm\\right) \\right\\Vert_2}{\\left\\Vert\\left (dW\\rm\\right) \\right\\Vert_2+\\left\\Vert\\left (dW^{approx}\\rm\\right) \\right\\Vert_2}$\n",
        "\n",
        "The equation above is basically the Euclidean distance normalized by the sum of the norm of the vectors. We use normalization in case that one of the vectors is very small.\n",
        "As a value for epsilon, we usually opt for 1e-7. Therefore, if gradient check return a value less than 1e-7, then it means that backpropagation was implemented correctly. Otherwise, there is potentially a mistake in your implementation. If the value exceeds 1e-3, then you are sure that the code is not correct.\n",
        "\n",
        "in our example: <i>gradient_check</i> $ = \\frac{(6 - 5.999999999994898)}{(6 + 5.999999999994898)} = 4.2514140356330737e^{-13}$\n",
        "\n",
        "you can mathamatically derive the same thing like this\n",
        "\n",
        "\\begin{array} {lcl}\n",
        "dw_1^{approx} & = & \\frac{f(w1+\\epsilon,w2,x1,x2)-f(w1-\\epsilon,w2,x1,x2)}{2\\epsilon} \\\\ & = & \\frac{((w_{1}+\\epsilon)^{2} . x_{1} + w_{2} . x_{2}) - ((w_{1}-\\epsilon)^{2} . x_{1} + w_{2} . x_{2})}{2\\epsilon} \\\\ & = & \\frac{4. \\epsilon.w_{1}. x_{1}}{2\\epsilon} \\\\ & = &  2.w_{1}.x_{1}\n",
        "\\end{array}\n"
      ]
    },
    {
      "cell_type": "markdown",
      "metadata": {
        "id": "f1BFQQaCermK"
      },
      "source": [
        "## <font color='red'> Implement Gradient checking </font> <br>\n",
        " (Write your code in <font color='blue'> def gradient_checking()</font>)"
      ]
    },
    {
      "cell_type": "markdown",
      "metadata": {
        "id": "GqpfA3AqfJba"
      },
      "source": [
        "**Algorithm** \n",
        "\n"
      ]
    },
    {
      "cell_type": "markdown",
      "metadata": {
        "id": "FL39KeRFfNoD"
      },
      "source": [
        "<pre>\n",
        "<font color='darkblue'>\n",
        "W = initilize_randomly\n",
        "def gradient_checking(data_point, W):<font color='grey'>\n",
        "    # compute the L value using forward_propagation()\n",
        "    # compute the gradients of W using backword_propagation()</font>\n",
        "    approx_gradients = []\n",
        "    for each wi weight value in W:<font color='grey'>\n",
        "        # add a small value to weight wi, and then find the values of L with the updated weights\n",
        "        # subtract a small value to weight wi, and then find the values of L with the updated weights\n",
        "        # compute the approximation gradients of weight wi</font>\n",
        "        approx_gradients.append(approximation gradients of weight wi)<font color='grey'>\n",
        "    # compare the gradient of weights W from backword_propagation() with the aproximation gradients of weights with <br>  gradient_check formula</font>\n",
        "    return gradient_check</font>\n",
        "<b>NOTE: you can do sanity check by checking all the return values of gradient_checking(),<br> they have to be zero. if not you have bug in your code\n",
        "</pre></b>"
      ]
    },
    {
      "cell_type": "code",
      "source": [
        "from numpy import linalg as LA"
      ],
      "metadata": {
        "id": "cmedi98AWyFp"
      },
      "execution_count": 10,
      "outputs": []
    },
    {
      "cell_type": "code",
      "metadata": {
        "id": "XBoJRqAwfTKO"
      },
      "source": [
        "def gradient_checking(x,y,w,eps):\n",
        "    # compute the dict value using forward_propagation()\n",
        "    # compute the actual gradients of W using backword_propagation()\n",
        "    forward_dict=forward_propagation(x,y,w)\n",
        "    backward_dict=backward_propagation(x,y,w,forward_dict)\n",
        "    \n",
        "    w_1 = w #printing w value\n",
        "    #we are storing the original gradients for the given datapoints in a list\n",
        "\n",
        "    \n",
        "    original_gradients_list=list(backward_dict.values())\n",
        "    # make sure that the order is correct i.e. first element in the list corresponds to  dw1 ,second element is dw2 etc.\n",
        "    # you can use reverse function if the values are in reverse order\n",
        "    \n",
        "    approx_gradients_list=[]\n",
        "        \n",
        "    \n",
        "    #now we have to write code for approx gradients, here you have to make sure that you update only one weight at a time\n",
        "    #write your code here and append the approximate gradient value for each weight in  approx_gradients_list\n",
        "    \n",
        "    for i in range(len(w)):\n",
        "      w[i] = w[i] + eps\n",
        "      l_1 = forward_propagation(x,y,w)\n",
        "      loss1 = l_1['loss']\n",
        "      w_1[i] = w_1[i] - 2*eps\n",
        "      l_2 = forward_propagation(x,y,w_1)\n",
        "      loss2 = l_2['loss']\n",
        "      approx = (loss1 - loss2)/(2*eps)\n",
        "      approx_gradients_list.append(approx)\n",
        "    \n",
        "    \n",
        "    \n",
        "    #performing gradient check operation\n",
        "    original_gradients_list=np.array(original_gradients_list)\n",
        "    approx_gradients_list=np.array(approx_gradients_list)\n",
        "    gradient_check_value =(LA.norm(original_gradients_list-approx_gradients_list))/ \\\n",
        "    ((LA.norm(original_gradients_list))+(LA.norm(approx_gradients_list)))\n",
        "    \n",
        "    return gradient_check_value\n",
        "    \n"
      ],
      "execution_count": 11,
      "outputs": []
    },
    {
      "cell_type": "code",
      "metadata": {
        "id": "aWSU56GffTKO",
        "colab": {
          "base_uri": "https://localhost:8080/"
        },
        "outputId": "0b8cef5f-0194-40f0-cccc-4ebf4e6559d7"
      },
      "source": [
        "def grader_grad_check(value):\n",
        "    print(value)\n",
        "    assert(np.all(value <= 10**-3))\n",
        "    return True \n",
        "\n",
        "w=[ 0.00271756,  0.01260512,  0.00167639, -0.00207756,  0.00720768,\n",
        "   0.00114524,  0.00684168,  0.02242521,  0.01296444]\n",
        "\n",
        "eps=10**-7\n",
        "value= gradient_checking(X[0],y[0],w,eps)\n",
        "grader_grad_check(value)"
      ],
      "execution_count": 12,
      "outputs": [
        {
          "output_type": "stream",
          "name": "stdout",
          "text": [
            "7.636159223754935e-06\n"
          ]
        },
        {
          "output_type": "execute_result",
          "data": {
            "text/plain": [
              "True"
            ]
          },
          "metadata": {},
          "execution_count": 12
        }
      ]
    },
    {
      "cell_type": "markdown",
      "metadata": {
        "id": "0ufbFBFfhgL0"
      },
      "source": [
        "# <font color='red'> Task 2 : Optimizers </font>"
      ]
    },
    {
      "cell_type": "markdown",
      "metadata": {
        "id": "7zt05soYh1RM"
      },
      "source": [
        "* As a part of this task, you will be implementing 2  optimizers(methods to update weight)\n",
        "* Use the same computational graph that was mentioned above to do this task\n",
        "* The weights have been initialized from normal distribution with mean=0 and std=0.01. The initialization of weights is very important otherwiswe you can face vanishing gradient and exploding gradients problem."
      ]
    },
    {
      "cell_type": "markdown",
      "metadata": {
        "id": "CAyi7aSAicbr"
      },
      "source": [
        "**Check below video for reference purpose**"
      ]
    },
    {
      "cell_type": "code",
      "metadata": {
        "id": "ZogcxiegkQpz",
        "colab": {
          "base_uri": "https://localhost:8080/",
          "height": 521
        },
        "outputId": "5a74c346-d789-48c0-fe93-8de217d97675"
      },
      "source": [
        "from IPython.display import YouTubeVideo\n",
        "YouTubeVideo('gYpoJMlgyXA',width=\"1000\",height=\"500\")"
      ],
      "execution_count": 33,
      "outputs": [
        {
          "output_type": "execute_result",
          "data": {
            "text/plain": [
              "<IPython.lib.display.YouTubeVideo at 0x7f581238a5d0>"
            ],
            "text/html": [
              "\n",
              "        <iframe\n",
              "            width=\"1000\"\n",
              "            height=\"500\"\n",
              "            src=\"https://www.youtube.com/embed/gYpoJMlgyXA\"\n",
              "            frameborder=\"0\"\n",
              "            allowfullscreen\n",
              "        ></iframe>\n",
              "        "
            ],
            "image/jpeg": "[encoded data removed]"
          },
          "metadata": {},
          "execution_count": 33
        }
      ]
    },
    {
      "cell_type": "markdown",
      "metadata": {
        "id": "jmefh7ktjbaR"
      },
      "source": [
        "<font color='blue'><b>Algorithm</b>"
      ]
    },
    {
      "cell_type": "markdown",
      "metadata": {
        "id": "nAc4NudkjdNa"
      },
      "source": [
        "<pre>\n",
        "    for each epoch(1-20):\n",
        "        for each data point in your data:\n",
        "            using the functions forward_propagation() and backword_propagation() compute the gradients of weights\n",
        "            update the weigts with help of gradients  \n",
        "</pre>"
      ]
    },
    {
      "cell_type": "markdown",
      "metadata": {
        "id": "_fdmPNqtjm3X"
      },
      "source": [
        "## <font color='red'> Implement below tasks</b>"
      ]
    },
    {
      "cell_type": "markdown",
      "metadata": {
        "id": "Ll9-CRsLjx_D"
      },
      "source": [
        "\n",
        "*  <b>Task 2.1</b>: you will be implementing the above algorithm with <b>Vanilla update</b> of weights<br><br>\n",
        "*  <b>Task 2.2</b>: you will be implementing the above algorithm with <b>Momentum update</b> of weights<br><br>\n",
        "*  <b>Task 2.3</b>: you will be implementing the above algorithm with <b>Adam update</b> of weights<br><br>\n"
      ]
    },
    {
      "cell_type": "markdown",
      "metadata": {
        "id": "atp082demrUR"
      },
      "source": [
        "**Note : If you get any assertion error while running grader functions, please print the variables in grader functions and check which variable is returning False .Recheck your logic for that variable .**"
      ]
    },
    {
      "cell_type": "markdown",
      "metadata": {
        "id": "cv_hZFWalS2z"
      },
      "source": [
        "### <font color='blue'>2.1 Algorithm with Vanilla update of weights</font>"
      ]
    },
    {
      "cell_type": "code",
      "metadata": {
        "id": "KlVuEsRjQoW5",
        "colab": {
          "base_uri": "https://localhost:8080/"
        },
        "outputId": "f9956347-80e6-46ab-c8f6-c0e0dee630fa"
      },
      "source": [
        "from sklearn.metrics import mean_squared_error\n",
        "\n",
        "std = 0.01\n",
        "m = 0\n",
        "weight = np.random.normal(m,std,9)\n",
        "weight"
      ],
      "execution_count": 13,
      "outputs": [
        {
          "output_type": "execute_result",
          "data": {
            "text/plain": [
              "array([ 0.01275188,  0.00047967,  0.01154712, -0.00491492, -0.00946948,\n",
              "       -0.01767568, -0.00164677, -0.00633206, -0.00352991])"
            ]
          },
          "metadata": {},
          "execution_count": 13
        }
      ]
    },
    {
      "cell_type": "code",
      "source": [
        "rate_l = 0.001\n",
        "loss_vanila = []\n",
        "wgt = weight\n",
        "for epoch in range(20):\n",
        "  y_pred = []\n",
        "  for i in range(len(data)):\n",
        "    forward_dict = forward_propagation(X[i],y[i],wgt)\n",
        "    y_pred.append(forward_dict['dy_pred_y'])\n",
        "    backward_dict = backward_propagation(X[i],y[i],wgt,forward_dict)\n",
        "    for z,r in zip(range(len(wgt)),list(backward_dict.keys())):\n",
        "      wgt[z] = wgt[z]-rate_l*backward_dict[r]\n",
        "  loss = mean_squared_error(y,y_pred)\n",
        "  loss_vanila.append(loss)"
      ],
      "metadata": {
        "id": "bNtkqmlHj9gN"
      },
      "execution_count": 14,
      "outputs": []
    },
    {
      "cell_type": "code",
      "source": [
        "loss_vanila"
      ],
      "metadata": {
        "colab": {
          "base_uri": "https://localhost:8080/"
        },
        "id": "AqbyTL5MmH-R",
        "outputId": "65366812-115c-4aba-8e20-1504c127d96c"
      },
      "execution_count": 15,
      "outputs": [
        {
          "output_type": "execute_result",
          "data": {
            "text/plain": [
              "[0.7070191028162686,\n",
              " 0.34449547966459293,\n",
              " 0.182299929221554,\n",
              " 0.09966781677208933,\n",
              " 0.05988499394464722,\n",
              " 0.04224726623209177,\n",
              " 0.03501774538749544,\n",
              " 0.032271009977515995,\n",
              " 0.03131838014623006,\n",
              " 0.031035619252521046,\n",
              " 0.030982247355104957,\n",
              " 0.03099612631330664,\n",
              " 0.031022233989661453,\n",
              " 0.03104451372302449,\n",
              " 0.03106002328840681,\n",
              " 0.031069617261714665,\n",
              " 0.031074829578635492,\n",
              " 0.031076974364597915,\n",
              " 0.031076984961094102,\n",
              " 0.031075464626836427]"
            ]
          },
          "metadata": {},
          "execution_count": 15
        }
      ]
    },
    {
      "cell_type": "code",
      "source": [
        "import matplotlib.pyplot as plt \n",
        "vanila_epoch = [i for i in range(20)]\n",
        "plt.figure(figsize=(10,4))\n",
        "plt.grid()\n",
        "plt.plot(vanila_epoch,loss_vanila,label='loss')\n",
        "plt.xlabel('epoch')\n",
        "plt.ylabel('loss')\n",
        "plt.title('epoch vs loss')\n",
        "plt.legend()"
      ],
      "metadata": {
        "colab": {
          "base_uri": "https://localhost:8080/",
          "height": 313
        },
        "id": "Ldy4p0LfmR-M",
        "outputId": "21332429-4ec1-4cd8-8ea3-c0c546b4365b"
      },
      "execution_count": 16,
      "outputs": [
        {
          "output_type": "execute_result",
          "data": {
            "text/plain": [
              "<matplotlib.legend.Legend at 0x7f98285c2190>"
            ]
          },
          "metadata": {},
          "execution_count": 16
        },
        {
          "output_type": "display_data",
          "data": {
            "text/plain": [
              "<Figure size 720x288 with 1 Axes>"
            ],
            "image/png": "[encoded data removed]"
          },
          "metadata": {
            "needs_background": "light"
          }
        }
      ]
    },
    {
      "cell_type": "markdown",
      "metadata": {
        "id": "V4RWWrZ7lWap"
      },
      "source": [
        "### <font color='blue'>2.2 Algorithm with Momentum update of weights</font>"
      ]
    },
    {
      "cell_type": "markdown",
      "metadata": {
        "id": "oM2BAasL6zz4"
      },
      "source": [
        "<img src='https://i.imgur.com/gyPSXhS.png'>"
      ]
    },
    {
      "cell_type": "markdown",
      "metadata": {
        "id": "2iCc4sIE-4A-"
      },
      "source": [
        "Here Gamma referes to the momentum coefficient, eta is leaning rate and v_t is moving average of our gradients at timestep t"
      ]
    },
    {
      "cell_type": "code",
      "source": [
        "w_m = np.random.normal(m,std,9)\n",
        "gam = 0.9\n",
        "t_v = np.zeros(9)\n",
        "rates = 0.001\n"
      ],
      "metadata": {
        "id": "-OcOq3f1naCo"
      },
      "execution_count": 17,
      "outputs": []
    },
    {
      "cell_type": "code",
      "source": [
        "loss_momentum = []\n",
        "\n",
        "for epoch in range(20):\n",
        "  y_pred = []\n",
        "  for i in range(len(data)):\n",
        "    forward_dict = forward_propagation(X[i],y[i],w_m)\n",
        "    y_pred.append(forward_dict['dy_pred_y'])\n",
        "    backward_dict = backward_propagation(X[i],y[i],w_m,forward_dict)\n",
        "    for z,r in zip(range(len(w_m)),list(backward_dict.keys())):\n",
        "      t_v[z] = gam*t_v[z] + rates*(1-gam) * backward_dict[r]\n",
        "      w_m[z] = w_m[z]-t_v[z]\n",
        "  loss_m = mean_squared_error(y,y_pred)\n",
        "  loss_momentum.append(loss_m)\n"
      ],
      "metadata": {
        "id": "RbkbHhnyoHyK"
      },
      "execution_count": 18,
      "outputs": []
    },
    {
      "cell_type": "code",
      "source": [
        "loss_momentum"
      ],
      "metadata": {
        "colab": {
          "base_uri": "https://localhost:8080/"
        },
        "id": "3F94Yqdjp4FY",
        "outputId": "73471bcf-3064-4c46-f471-a531b524870b"
      },
      "execution_count": 19,
      "outputs": [
        {
          "output_type": "execute_result",
          "data": {
            "text/plain": [
              "[0.7056049670026361,\n",
              " 0.3410264628921286,\n",
              " 0.1796465790030727,\n",
              " 0.09801091658169846,\n",
              " 0.059036485800254286,\n",
              " 0.041927919192514415,\n",
              " 0.03499692193204276,\n",
              " 0.03240166412361876,\n",
              " 0.031520125383976055,\n",
              " 0.03126869044456836,\n",
              " 0.03122829323888712,\n",
              " 0.03124711034392391,\n",
              " 0.031274783882409465,\n",
              " 0.03129725710390619,\n",
              " 0.0313123944734908,\n",
              " 0.03132134319570296,\n",
              " 0.03132571543493051,\n",
              " 0.03132681639014399,\n",
              " 0.03132553502519251,\n",
              " 0.031322414295458074]"
            ]
          },
          "metadata": {},
          "execution_count": 19
        }
      ]
    },
    {
      "cell_type": "markdown",
      "metadata": {
        "id": "Agtmr_lZQoW6"
      },
      "source": [
        "### <font color='blue'>2.3 Algorithm with Adam update of weights</font>"
      ]
    },
    {
      "cell_type": "markdown",
      "metadata": {
        "id": "WRYiT2KKQoW6"
      },
      "source": [
        "<img src='https://i.imgur.com/GDR8UFP.jpg'>"
      ]
    },
    {
      "cell_type": "code",
      "source": [
        "rate = 0.001\n",
        "b1 = 0.9\n",
        "b2 = 0.999\n",
        "t_m = np.zeros(9)\n",
        "t_v = np.zeros(9)\n",
        "eps = 1e-8\n",
        "aw = np.random.normal(m,std,9)"
      ],
      "metadata": {
        "id": "zgfw7_YlqCbc"
      },
      "execution_count": 20,
      "outputs": []
    },
    {
      "cell_type": "code",
      "source": [
        "loss_adam = []\n",
        "\n",
        "for epoch in range(20):\n",
        "  y_pred = []\n",
        "  for i in range(len(data)):\n",
        "    forward_dict = forward_propagation(X[i],y[i],aw)\n",
        "    y_pred.append(forward_dict['dy_pred_y'])\n",
        "    backward_dict = backward_propagation(X[i],y[i],aw,forward_dict)\n",
        "    for i, r in zip(range(len(aw)),list(backward_dict.keys())):\n",
        "      t_m[i] = b1 * t_m[i] + (1-b1)*backward_dict[r]\n",
        "      tm = t_m[i]/(1-b1)\n",
        "      t_v[i] = b2 * t_v[i] + (1-b2)*(math.pow(backward_dict[r],2))\n",
        "      tv = t_v[i]/(1-b2)\n",
        "      aw[i] = aw[i] - (rate/(math.sqrt(tv)+eps)) * tm\n",
        "  loss = mean_squared_error(y,y_pred)\n",
        "  loss_adam.append(loss)"
      ],
      "metadata": {
        "id": "-XmxgH9qqu-3"
      },
      "execution_count": 22,
      "outputs": []
    },
    {
      "cell_type": "code",
      "source": [
        "loss_adam"
      ],
      "metadata": {
        "colab": {
          "base_uri": "https://localhost:8080/"
        },
        "id": "NqOxAGrxlgLU",
        "outputId": "f4e249e7-9bf1-4e8a-e2d6-8d0f1a3350e5"
      },
      "execution_count": 23,
      "outputs": [
        {
          "output_type": "execute_result",
          "data": {
            "text/plain": [
              "[0.5503243059941267,\n",
              " 0.24364305550318643,\n",
              " 0.11865868416209935,\n",
              " 0.053172014637611204,\n",
              " 0.021344116236007005,\n",
              " 0.00787087986647321,\n",
              " 0.0030918304781494747,\n",
              " 0.001581757131375313,\n",
              " 0.0009984864965470184,\n",
              " 0.0006591369075738851,\n",
              " 0.00043701710723464103,\n",
              " 0.0003000008684771349,\n",
              " 0.0002188883679280351,\n",
              " 0.00016874112920563008,\n",
              " 0.00013397576136463016,\n",
              " 0.00010725280017866884,\n",
              " 8.579037290915399e-05,\n",
              " 6.847424125819992e-05,\n",
              " 5.4590871631288614e-05,\n",
              " 4.3516110395771404e-05]"
            ]
          },
          "metadata": {},
          "execution_count": 23
        }
      ]
    },
    {
      "cell_type": "markdown",
      "metadata": {
        "id": "7627cy8YlnYO"
      },
      "source": [
        "<font color='blue'>Comparision plot between epochs and loss with different optimizers. Make sure that loss is conerging with increaing epochs</font>"
      ]
    },
    {
      "cell_type": "code",
      "metadata": {
        "id": "scleSfIXl_bC",
        "colab": {
          "base_uri": "https://localhost:8080/",
          "height": 422
        },
        "outputId": "4e172936-88ba-4ae5-da37-4b5aa156c9d3"
      },
      "source": [
        "#plot the graph between loss vs epochs for all 3 optimizers.\n",
        "epoch = [i for i in range(20)]\n",
        "\n",
        "plt.figure(figsize=(10,6))\n",
        "plt.grid()\n",
        "plt.plot(epoch,loss_momentum,label='momentum_loss')\n",
        "plt.plot(epoch,loss_vanila,label='vanila_loss')\n",
        "plt.plot(epoch,loss_adam,label='adam_loss')\n",
        "plt.title('loss vs epoch vs all optimizers')\n",
        "plt.xlabel('epoch')\n",
        "plt.ylabel('loss')\n",
        "plt.legend()"
      ],
      "execution_count": 25,
      "outputs": [
        {
          "output_type": "execute_result",
          "data": {
            "text/plain": [
              "<matplotlib.legend.Legend at 0x7f9827b8bc50>"
            ]
          },
          "metadata": {},
          "execution_count": 25
        },
        {
          "output_type": "display_data",
          "data": {
            "text/plain": [
              "<Figure size 720x432 with 1 Axes>"
            ],
            "image/png": "[encoded data removed]"
          },
          "metadata": {
            "needs_background": "light"
          }
        }
      ]
    },
    {
      "cell_type": "markdown",
      "metadata": {
        "id": "YfDWEOCr69uQ"
      },
      "source": [
        "<font color='blue'><b>You can go through the following blog to understand the implementation of other optimizers .</font>\n",
        "   <br> [Gradients update blog](https://cs231n.github.io/neural-networks-3/) </br>"
      ]
    },
    {
      "cell_type": "markdown",
      "source": [
        "\n",
        "\n",
        "*   From the above graph vanila loss and momentum loss are having similar behaviour.\n",
        "*   But adam loss updates for the weight is performing good with compare to momentum and vanila loss\n",
        "\n"
      ],
      "metadata": {
        "id": "NLID1GQanD7M"
      }
    }
  ]
}