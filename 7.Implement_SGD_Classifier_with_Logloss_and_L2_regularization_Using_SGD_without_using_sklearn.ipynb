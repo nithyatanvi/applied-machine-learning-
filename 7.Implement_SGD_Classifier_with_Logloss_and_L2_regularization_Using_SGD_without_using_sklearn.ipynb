{
  "cells": [
    {
      "cell_type": "markdown",
      "metadata": {
        "id": "7eiDWcM_MC3H"
      },
      "source": [
        "# <font color='red'>Implement SGD Classifier with Logloss and L2 regularization Using SGD without using sklearn</font>"
      ]
    },
    {
      "cell_type": "markdown",
      "metadata": {
        "id": "yfe2NTQtLq11"
      },
      "source": [
        "**There will be some functions that start with the word \"grader\" ex: grader_weights(), grader_sigmoid(), grader_logloss() etc, you should not change those function definition.<br><br>Every Grader function has to return True.**"
      ]
    },
    {
      "cell_type": "markdown",
      "metadata": {
        "id": "Fk5DSPCLxqT-"
      },
      "source": [
        "<font color='red'> Importing packages</font>"
      ]
    },
    {
      "cell_type": "code",
      "execution_count": null,
      "metadata": {
        "id": "42Et8BKIxnsp"
      },
      "outputs": [],
      "source": [
        "import numpy as np\n",
        "import pandas as pd\n",
        "from sklearn.datasets import make_classification\n",
        "from sklearn.model_selection import train_test_split\n",
        "from sklearn.preprocessing import StandardScaler\n",
        "from sklearn import linear_model"
      ]
    },
    {
      "cell_type": "markdown",
      "metadata": {
        "id": "NpSk3WQBx7TQ"
      },
      "source": [
        "<font color='red'>Creating custom dataset</font>"
      ]
    },
    {
      "cell_type": "code",
      "execution_count": null,
      "metadata": {
        "id": "BsMp0oWzx6dv"
      },
      "outputs": [],
      "source": [
        "# please don't change random_state\n",
        "X, y = make_classification(n_samples=50000, n_features=15, n_informative=10, n_redundant=5,\n",
        "                           n_classes=2, weights=[0.7], class_sep=0.7, random_state=15)\n",
        "# make_classification is used to create custom dataset \n",
        "# Please check this link (https://scikit-learn.org/stable/modules/generated/sklearn.datasets.make_classification.html) for more details"
      ]
    },
    {
      "cell_type": "code",
      "execution_count": null,
      "metadata": {
        "colab": {
          "base_uri": "https://localhost:8080/"
        },
        "id": "L8W2fg1cyGdX",
        "outputId": "34682e1c-9591-4c28-e811-85b15716158f"
      },
      "outputs": [
        {
          "output_type": "execute_result",
          "data": {
            "text/plain": [
              "((50000, 15), (50000,))"
            ]
          },
          "metadata": {},
          "execution_count": 68
        }
      ],
      "source": [
        "X.shape, y.shape"
      ]
    },
    {
      "cell_type": "markdown",
      "metadata": {
        "id": "x99RWCgpqNHw"
      },
      "source": [
        "<font color='red'>Splitting data into train and test </font>"
      ]
    },
    {
      "cell_type": "code",
      "execution_count": null,
      "metadata": {
        "id": "0Kh4dBfVyJMP"
      },
      "outputs": [],
      "source": [
        "#please don't change random state\n",
        "# you need not standardize the data as it is already standardized\n",
        "X_train, X_test, y_train, y_test = train_test_split(x, y, test_size=0.25, random_state=15)"
      ]
    },
    {
      "cell_type": "code",
      "execution_count": null,
      "metadata": {
        "colab": {
          "base_uri": "https://localhost:8080/"
        },
        "id": "0DR_YMBsyOci",
        "outputId": "c9f00304-32ec-4a9c-b889-ea7bf289e95b"
      },
      "outputs": [
        {
          "output_type": "execute_result",
          "data": {
            "text/plain": [
              "((37500, 15), (37500,), (12500, 15), (12500,))"
            ]
          },
          "metadata": {},
          "execution_count": 70
        }
      ],
      "source": [
        "X_train.shape, y_train.shape, X_test.shape, y_test.shape"
      ]
    },
    {
      "cell_type": "markdown",
      "source": [
        "# <font color='red' size=5>SGD classifier</font>"
      ],
      "metadata": {
        "id": "oJ7u3HayJw5z"
      }
    },
    {
      "cell_type": "code",
      "source": [
        "# alpha : float\n",
        "# Constant that multiplies the regularization term. \n",
        "\n",
        "# eta0 : double\n",
        "# The initial learning rate for the ‘constant’, ‘invscaling’ or ‘adaptive’ schedules.\n",
        "\n",
        "clf = linear_model.SGDClassifier(eta0=0.0001, alpha=0.0001, loss='log', random_state=15, penalty='l2', tol=1e-3, verbose=2, learning_rate='constant')\n",
        "clf\n",
        "# Please check this documentation (https://scikit-learn.org/stable/modules/generated/sklearn.linear_model.SGDClassifier.html) "
      ],
      "metadata": {
        "colab": {
          "base_uri": "https://localhost:8080/"
        },
        "id": "CSyxFrMxJkV2",
        "outputId": "50846fb3-e7af-44be-c742-fd23a4f719fa"
      },
      "execution_count": null,
      "outputs": [
        {
          "output_type": "execute_result",
          "data": {
            "text/plain": [
              "SGDClassifier(eta0=0.0001, learning_rate='constant', loss='log',\n",
              "              random_state=15, verbose=2)"
            ]
          },
          "metadata": {},
          "execution_count": 71
        }
      ]
    },
    {
      "cell_type": "code",
      "source": [
        "clf.fit(X=X_train, y=y_train) # fitting our model"
      ],
      "metadata": {
        "colab": {
          "base_uri": "https://localhost:8080/"
        },
        "id": "BzutrvL5Jqgx",
        "outputId": "f83765e4-c82a-4685-9581-d14beccc94ae"
      },
      "execution_count": null,
      "outputs": [
        {
          "output_type": "stream",
          "name": "stdout",
          "text": [
            "-- Epoch 1\n",
            "Norm: 0.77, NNZs: 15, Bias: -0.316653, T: 37500, Avg. loss: 0.455552\n",
            "Total training time: 0.01 seconds.\n",
            "-- Epoch 2\n",
            "Norm: 0.91, NNZs: 15, Bias: -0.472747, T: 75000, Avg. loss: 0.394686\n",
            "Total training time: 0.02 seconds.\n",
            "-- Epoch 3\n",
            "Norm: 0.98, NNZs: 15, Bias: -0.580082, T: 112500, Avg. loss: 0.385711\n",
            "Total training time: 0.03 seconds.\n",
            "-- Epoch 4\n",
            "Norm: 1.02, NNZs: 15, Bias: -0.658292, T: 150000, Avg. loss: 0.382083\n",
            "Total training time: 0.04 seconds.\n",
            "-- Epoch 5\n",
            "Norm: 1.04, NNZs: 15, Bias: -0.719528, T: 187500, Avg. loss: 0.380486\n",
            "Total training time: 0.05 seconds.\n",
            "-- Epoch 6\n",
            "Norm: 1.05, NNZs: 15, Bias: -0.763409, T: 225000, Avg. loss: 0.379578\n",
            "Total training time: 0.06 seconds.\n",
            "-- Epoch 7\n",
            "Norm: 1.06, NNZs: 15, Bias: -0.795106, T: 262500, Avg. loss: 0.379150\n",
            "Total training time: 0.06 seconds.\n",
            "-- Epoch 8\n",
            "Norm: 1.06, NNZs: 15, Bias: -0.819925, T: 300000, Avg. loss: 0.378856\n",
            "Total training time: 0.07 seconds.\n",
            "-- Epoch 9\n",
            "Norm: 1.07, NNZs: 15, Bias: -0.837805, T: 337500, Avg. loss: 0.378585\n",
            "Total training time: 0.08 seconds.\n",
            "-- Epoch 10\n",
            "Norm: 1.08, NNZs: 15, Bias: -0.853138, T: 375000, Avg. loss: 0.378630\n",
            "Total training time: 0.09 seconds.\n",
            "Convergence after 10 epochs took 0.09 seconds\n"
          ]
        },
        {
          "output_type": "execute_result",
          "data": {
            "text/plain": [
              "SGDClassifier(eta0=0.0001, learning_rate='constant', loss='log',\n",
              "              random_state=15, verbose=2)"
            ]
          },
          "metadata": {},
          "execution_count": 72
        }
      ]
    },
    {
      "cell_type": "markdown",
      "source": [
        "<font color='red'>Intializing the parameters </font>"
      ],
      "metadata": {
        "id": "kzJQy3cJSUmb"
      }
    },
    {
      "cell_type": "code",
      "source": [
        "def initialize_weights(dim):\n",
        "  ''' In this function, we will intialize our weight and bias'''\n",
        "  #intialize he weights to zero array of(dim,1)dimensions\n",
        "  #you use zeros_like function to intialize zero , check this link https://docs.scipy.org/doc/numpy/reference/generated/numpy.zeros_like.html\n",
        "  #intialize bias to zero\n",
        "  w = np.zeros_like(dim)\n",
        "  b = 0\n",
        "  return w,b"
      ],
      "metadata": {
        "id": "GPDq7R0TuW_h"
      },
      "execution_count": null,
      "outputs": []
    },
    {
      "cell_type": "code",
      "source": [
        "dim=X_train[0] \n",
        "w,b = initialize_weights(dim)\n",
        "print('w =',(w))\n",
        "print('b =',str(b))"
      ],
      "metadata": {
        "colab": {
          "base_uri": "https://localhost:8080/"
        },
        "id": "f1yExHbdx_Gu",
        "outputId": "04eeaf64-93e7-4da8-ca58-73184af4940e"
      },
      "execution_count": null,
      "outputs": [
        {
          "output_type": "stream",
          "name": "stdout",
          "text": [
            "w = [0. 0. 0. 0. 0. 0. 0. 0. 0. 0. 0. 0. 0. 0. 0.]\n",
            "b = 0\n"
          ]
        }
      ]
    },
    {
      "cell_type": "code",
      "source": [
        "dim=X_train[0] \n",
        "w,b = initialize_weights(dim)\n",
        "def grader_weights(w,b):\n",
        "  assert((len(w)==len(dim)) and b==0 and np.sum(w)==0.0)\n",
        "  return True\n",
        "grader_weights(w,b)"
      ],
      "metadata": {
        "colab": {
          "base_uri": "https://localhost:8080/"
        },
        "id": "XKtybexOz6z0",
        "outputId": "44cd6b7f-20f8-4877-d1b4-c1d3004b7c10"
      },
      "execution_count": null,
      "outputs": [
        {
          "output_type": "execute_result",
          "data": {
            "text/plain": [
              "True"
            ]
          },
          "metadata": {},
          "execution_count": 75
        }
      ]
    },
    {
      "cell_type": "markdown",
      "source": [
        "<font color='red'>Computing the sigmoid </font>"
      ],
      "metadata": {
        "id": "-Z63FIewTFl2"
      }
    },
    {
      "cell_type": "code",
      "source": [
        "#https://www.geeksforgeeks.org/implement-sigmoid-function-using-numpy/\n",
        "def sigmoid(z):\n",
        "    ''' In this function, we will return sigmoid of z'''\n",
        "    # compute sigmoid(z) and return\n",
        "    sigm = (1/(1+np.exp(-z))) #𝑠𝑖𝑔𝑚𝑜𝑖𝑑(𝑧)=1/(1+𝑒𝑥𝑝(−𝑧))\n",
        "    #printing the sigmoid (z) output\n",
        "    return sigm\n",
        "   "
      ],
      "metadata": {
        "id": "6zMzxCDD0Q81"
      },
      "execution_count": null,
      "outputs": []
    },
    {
      "cell_type": "code",
      "source": [
        "def grader_sigmoid(z):\n",
        "  val=sigmoid(z)\n",
        "  assert(val==0.8807970779778823)\n",
        "  return True\n",
        "grader_sigmoid(2)"
      ],
      "metadata": {
        "colab": {
          "base_uri": "https://localhost:8080/"
        },
        "id": "4BZ-TfMh1mnH",
        "outputId": "d261dbf1-cc4a-4108-9c09-585e367b5cc7"
      },
      "execution_count": null,
      "outputs": [
        {
          "output_type": "execute_result",
          "data": {
            "text/plain": [
              "True"
            ]
          },
          "metadata": {},
          "execution_count": 77
        }
      ]
    },
    {
      "cell_type": "markdown",
      "source": [
        "<font color='red'>Compute loss </font>\n"
      ],
      "metadata": {
        "id": "jlnX0hViVLEt"
      }
    },
    {
      "cell_type": "code",
      "source": [
        "def logloss(y_true,y_pred):\n",
        "    # you have been given two arrays y_true and y_pred and you have to calculate the logloss\n",
        "    #while dealing with numpy arrays you can use vectorized operations for quicker calculations as compared to using loops\n",
        "    #https://www.pythonlikeyoumeanit.com/Module3_IntroducingNumpy/VectorizedOperations.html\n",
        "    #https://www.geeksforgeeks.org/vectorized-operations-in-numpy/\n",
        "    #https://scikit-learn.org/stable/modules/generated/sklearn.metrics.log_loss.html\n",
        "    log_loss = 0\n",
        "    for i in range(len(y_true)):\n",
        "      log_loss += (y_true[i] * np.log10(y_pred[i])) + ((1-y_true[i])*np.log10(1-y_pred[i])) # 𝑙𝑜𝑔𝑙𝑜𝑠𝑠=−1∗1𝑛Σ𝑓𝑜𝑟𝑒𝑎𝑐ℎ𝑌𝑡,𝑌𝑝𝑟𝑒𝑑(𝑌𝑡𝑙𝑜𝑔10(𝑌𝑝𝑟𝑒𝑑)+(1−𝑌𝑡)𝑙𝑜𝑔10(1−𝑌𝑝𝑟𝑒𝑑))\n",
        "    loss = -1 * (1/len(y_true)) * log_loss\n",
        "    return loss #printing the final loss\n",
        "\n",
        "\n"
      ],
      "metadata": {
        "id": "m62FEKa-VEfs"
      },
      "execution_count": null,
      "outputs": []
    },
    {
      "cell_type": "code",
      "source": [
        "#round off the value to 8 values\n",
        "def grader_logloss(true,pred):\n",
        "  loss=logloss(true,pred)\n",
        "  assert(np.round(loss,6)==0.076449)\n",
        "  return True\n",
        "true=np.array([1,1,0,1,0])\n",
        "pred=np.array([0.9,0.8,0.1,0.8,0.2])\n",
        "grader_logloss(true,pred)"
      ],
      "metadata": {
        "colab": {
          "base_uri": "https://localhost:8080/"
        },
        "id": "1brRFKl245uJ",
        "outputId": "49486e1a-69bf-44c8-bd75-ebd1de90083e"
      },
      "execution_count": null,
      "outputs": [
        {
          "output_type": "execute_result",
          "data": {
            "text/plain": [
              "True"
            ]
          },
          "metadata": {},
          "execution_count": 79
        }
      ]
    },
    {
      "cell_type": "markdown",
      "source": [
        "# <font color='red' size=5> Compute gradient w.r.to 'w' </font>"
      ],
      "metadata": {
        "id": "UuG-U1o98g3M"
      }
    },
    {
      "cell_type": "code",
      "source": [
        "#make sure that the sigmoid function returns a scalar value, you can use dot function operation\n",
        "#https://numpy.org/doc/stable/reference/generated/numpy.gradient.html\n",
        "def gradient_dw(x,y,w,b,alpha,N):\n",
        "    '''In this function, we will compute the gardient w.r.to w '''\n",
        "    dw = x * (y - sigmoid(np.dot(w,x)+b) - (alpha/N) * w) #𝑑𝑤(𝑡)=𝑥𝑛(𝑦𝑛−σ((𝑤(𝑡))𝑇𝑥𝑛+𝑏𝑡))−λ𝑁𝑤(𝑡)\n",
        "    return dw #printing dw value with respect to w"
      ],
      "metadata": {
        "id": "isc6uwGx8gIV"
      },
      "execution_count": null,
      "outputs": []
    },
    {
      "cell_type": "code",
      "source": [
        "def grader_dw(x,y,w,b,alpha,N):\n",
        "  grad_dw=gradient_dw(x,y,w,b,alpha,N)\n",
        "  assert(np.round(np.sum(grad_dw),5)==4.75684)\n",
        "  return True\n",
        "grad_x=np.array([-2.07864835,  3.31604252, -0.79104357, -3.87045546, -1.14783286,\n",
        "       -2.81434437, -0.86771071, -0.04073287,  0.84827878,  1.99451725,\n",
        "        3.67152472,  0.01451875,  2.01062888,  0.07373904, -5.54586092])\n",
        "grad_y=0\n",
        "grad_w=np.array([ 0.03364887,  0.03612727,  0.02786927,  0.08547455, -0.12870234,\n",
        "       -0.02555288,  0.11858013,  0.13305576,  0.07310204,  0.15149245,\n",
        "       -0.05708987, -0.064768  ,  0.18012332, -0.16880843, -0.27079877])\n",
        "grad_b=0.5\n",
        "alpha=0.0001\n",
        "N=len(X_train)\n",
        "grader_dw(grad_x,grad_y,grad_w,grad_b,alpha,N)"
      ],
      "metadata": {
        "colab": {
          "base_uri": "https://localhost:8080/"
        },
        "id": "dPggRFW19YbE",
        "outputId": "b31ed578-5859-48b6-facb-b561e66f1334"
      },
      "execution_count": null,
      "outputs": [
        {
          "output_type": "execute_result",
          "data": {
            "text/plain": [
              "True"
            ]
          },
          "metadata": {},
          "execution_count": 81
        }
      ]
    },
    {
      "cell_type": "markdown",
      "source": [
        "# <font color='red' size=5> Compute gradient w.r.to 'b' </font>"
      ],
      "metadata": {
        "id": "tT2Z9WWP-K3v"
      }
    },
    {
      "cell_type": "code",
      "source": [
        "#sb should be a scalar value\n",
        "#https://numpy.org/doc/stable/reference/generated/numpy.gradient.html\n",
        "def gradient_db(x,y,w,b):\n",
        "     '''In this function, we will compute gradient w.r.to b '''\n",
        "     db = (y - sigmoid(np.dot(w,x) + b))\n",
        "     #printing the final db value with respect to b\n",
        "     return db"
      ],
      "metadata": {
        "id": "dvGuQoVd-M8O"
      },
      "execution_count": null,
      "outputs": []
    },
    {
      "cell_type": "code",
      "source": [
        "def grader_db(x,y,w,b):\n",
        "  grad_db=gradient_db(x,y,w,b)\n",
        "  assert(np.round(grad_db,4)==-0.3714)\n",
        "  return True\n",
        "grad_x=np.array([-2.07864835,  3.31604252, -0.79104357, -3.87045546, -1.14783286,\n",
        "       -2.81434437, -0.86771071, -0.04073287,  0.84827878,  1.99451725,\n",
        "        3.67152472,  0.01451875,  2.01062888,  0.07373904, -5.54586092])\n",
        "grad_y=0.5\n",
        "grad_b=0.1\n",
        "grad_w=np.array([ 0.03364887,  0.03612727,  0.02786927,  0.08547455, -0.12870234,\n",
        "       -0.02555288,  0.11858013,  0.13305576,  0.07310204,  0.15149245,\n",
        "       -0.05708987, -0.064768  ,  0.18012332, -0.16880843, -0.27079877])\n",
        "alpha=0.0001\n",
        "N=len(X_train)\n",
        "grader_db(grad_x,grad_y,grad_w,grad_b)"
      ],
      "metadata": {
        "colab": {
          "base_uri": "https://localhost:8080/"
        },
        "id": "vTFJWhSp-vTK",
        "outputId": "b9ab7d2b-ff80-4ef5-c764-afcf46b640fc"
      },
      "execution_count": null,
      "outputs": [
        {
          "output_type": "execute_result",
          "data": {
            "text/plain": [
              "True"
            ]
          },
          "metadata": {},
          "execution_count": 83
        }
      ]
    },
    {
      "cell_type": "markdown",
      "metadata": {
        "id": "BW4OHswfqjHR"
      },
      "source": [
        "# <font color='red' size=5>Implementing logistic regression</font>"
      ]
    },
    {
      "cell_type": "code",
      "source": [
        "from tqdm import tqdm\n",
        "\n",
        "#https://www.datacamp.com/tutorial/understanding-logistic-regression-python\n",
        "def train(X_train,y_train,X_test,y_test,epochs,alpha,eta0):\n",
        "    ''' In this function, we will implement logistic regression'''\n",
        "    #Here eta0 is learning rate\n",
        "    #implement the code as follows\n",
        "    # initalize the weights (call the initialize_weights(X_train[0]) function)\n",
        "    # for every epoch\n",
        "    # for every data point(X_train,y_train)\n",
        "           #compute gradient w.r.to w (call the gradient_dw() function)\n",
        "           #compute gradient w.r.to b (call the gradient_db() function)\n",
        "           #update w, b\n",
        "        # predict the output of x_train [for all data points in X_train] using pred function with updated weights\n",
        "        #compute the loss between predicted and actual values (call the loss function)\n",
        "        # store all the train loss values in a list\n",
        "        # predict the output of x_test [for all data points in X_test] using pred function with updated weights\n",
        "        #compute the loss between predicted and actual values (call the loss function)\n",
        "        # store all the test loss values in a list\n",
        "        # you can also compare previous loss and current loss, if loss is not updating then stop the process \n",
        "        # you have to return w,b , train_loss and test loss\n",
        "    w,b = initialize_weights(X_train[0]) # Initialize the weights\n",
        "    loss_tr = []\n",
        "    loss_te = []\n",
        "    #write your code to perform SGD\n",
        "    for i in range(epochs): #for every data point in the X_train,y_train\n",
        "      tr_pred =[] \n",
        "      te_pred =[]\n",
        "      for j in range(N):\n",
        "        #computing the gradient and calling the gradient_dw,gradient_db function\n",
        "        dw = gradient_dw(X_train[j],y_train[j],w,b,alpha,N)\n",
        "        db = gradient_db(X_train[j],y_train[j],w,b)\n",
        "        \n",
        "        #now updating the w,b values\n",
        "        w = w+(dw * eta0)\n",
        "        b = b+(db * eta0)\n",
        "      \n",
        "      #now getting the output of x_train all data with respect to w,b\n",
        "      for value in range(N):\n",
        "        tr_pred.append(sigmoid(np.dot(w,X_train[value]+b)))\n",
        "      \n",
        "      #calculating the loss between the actual annd predicted values by calling logloss function\n",
        "      tr_loss = logloss(y_train,tr_pred)\n",
        "\n",
        "      #using list to store the values\n",
        "      loss_tr.append(tr_loss)\n",
        "\n",
        "      #now getting the output of x_test all data with respect to w,b\n",
        "      for value in range(len(X_test)):\n",
        "        te_pred.append(sigmoid(np.dot(w,X_test[value]+b)))\n",
        "\n",
        "      #calculating the loss between the actual annd predicted values by calling logloss function\n",
        "      te_loss = logloss(y_test,te_pred)\n",
        "\n",
        "      #using list to store the values\n",
        "      loss_te.append(te_loss)\n",
        "\n",
        "    return w,b,loss_tr,loss_te\n",
        "\n",
        "\n",
        "\n"
      ],
      "metadata": {
        "id": "aFBxyOHhW6y6"
      },
      "execution_count": null,
      "outputs": []
    },
    {
      "cell_type": "code",
      "source": [
        "alpha=0.0001\n",
        "eta0=0.0001\n",
        "N=len(X_train)\n",
        "epochs=25\n",
        "w,b,train_logloss,test_logloss = train(X_train,y_train,X_test,y_test,epochs,alpha,eta0)"
      ],
      "metadata": {
        "id": "P7pngZDgEptr"
      },
      "execution_count": null,
      "outputs": []
    },
    {
      "cell_type": "markdown",
      "source": [
        "## <font color='red'>Goal of assignment</font>"
      ],
      "metadata": {
        "id": "Mx9U_3mYPDm7"
      }
    },
    {
      "cell_type": "markdown",
      "source": [
        "Compare your implementation and SGDClassifier's the weights and intercept, make sure they are as close as possible i.e difference should be in order of 10^-2"
      ],
      "metadata": {
        "id": "l720mBS5PGpr"
      }
    },
    {
      "cell_type": "code",
      "source": [
        "\n",
        "print(clf.coef_,clf.intercept_)"
      ],
      "metadata": {
        "colab": {
          "base_uri": "https://localhost:8080/"
        },
        "id": "iAlu6RoKOuMC",
        "outputId": "7b910a66-5028-4fea-af55-0491ef9ea424"
      },
      "execution_count": null,
      "outputs": [
        {
          "output_type": "stream",
          "name": "stdout",
          "text": [
            "[[-0.42336692  0.18547565 -0.14859036  0.34144407 -0.2081867   0.56016579\n",
            "  -0.45242483 -0.09408813  0.2092732   0.18084126  0.19705191  0.00421916\n",
            "  -0.0796037   0.33852802  0.02266721]] [-0.8531383]\n"
          ]
        }
      ]
    },
    {
      "cell_type": "code",
      "source": [
        "print(w-clf.coef_, b-clf.intercept_)"
      ],
      "metadata": {
        "colab": {
          "base_uri": "https://localhost:8080/"
        },
        "id": "3yB-ZSt1OxSS",
        "outputId": "32acf066-ad5e-44c6-bf15-735ed077db75"
      },
      "execution_count": null,
      "outputs": [
        {
          "output_type": "stream",
          "name": "stdout",
          "text": [
            "[[-0.00632748  0.00752905  0.00015761 -0.00335002 -0.0129599   0.00971424\n",
            "   0.00724224  0.0041581   0.0124993  -0.00707119  0.00164479 -0.00476134\n",
            "  -0.00167892  0.00055716  0.00030819]] [-0.03849861]\n"
          ]
        }
      ]
    },
    {
      "cell_type": "markdown",
      "source": [
        "As we can see the above result shows the between sklearm and custom implmentation in the 10^-3"
      ],
      "metadata": {
        "id": "j_XwLgo6PMse"
      }
    },
    {
      "cell_type": "code",
      "source": [
        "#this grader function should return True\n",
        "#the difference between custom weights and clf.coef_ should be less than or equal to 0.05\n",
        "def differece_check_grader(w,b,coef,intercept):\n",
        "    val_array=np.abs(np.array(w-coef))\n",
        "    assert(np.all(val_array<=0.05))\n",
        "    print('The custom weights are correct')\n",
        "    return True\n",
        "differece_check_grader(w,b,clf.coef_,clf.intercept_)   "
      ],
      "metadata": {
        "colab": {
          "base_uri": "https://localhost:8080/"
        },
        "id": "iAJaqWcWQBr6",
        "outputId": "5e81bdfe-1a7c-48c2-b7e8-25f691d299c7"
      },
      "execution_count": null,
      "outputs": [
        {
          "output_type": "stream",
          "name": "stdout",
          "text": [
            "The custom weights are correct\n"
          ]
        },
        {
          "output_type": "execute_result",
          "data": {
            "text/plain": [
              "True"
            ]
          },
          "metadata": {},
          "execution_count": 109
        }
      ]
    },
    {
      "cell_type": "markdown",
      "source": [
        "\n",
        "## <font color='red'>Plotting the graph</font>\n",
        "\n"
      ],
      "metadata": {
        "id": "r1IwSS2QPgUo"
      }
    },
    {
      "cell_type": "code",
      "source": [
        "%matplotlib inline\n",
        "import matplotlib.pyplot as plt\n",
        "\n",
        "plt.grid()\n",
        " \n",
        "ep = [k for k in range(0,25,1)]\n",
        "plt.plot(ep,train_logloss, label='loss of train')\n",
        "plt.plot(ep,test_logloss, label='loss of test')\n",
        "plt.xlabel(\"Number of Epochs\",fontsize=20)\n",
        "plt.ylabel(\"Log Loss function\",fontsize=20)\n",
        "plt.title('logistic regression log loss curve')\n",
        "plt.legend()"
      ],
      "metadata": {
        "colab": {
          "base_uri": "https://localhost:8080/",
          "height": 322
        },
        "id": "-sgYS4rbS1Zv",
        "outputId": "e70baf30-6ef5-444b-d183-85a9a9a929d3"
      },
      "execution_count": null,
      "outputs": [
        {
          "output_type": "execute_result",
          "data": {
            "text/plain": [
              "<matplotlib.legend.Legend at 0x7feb9391b890>"
            ]
          },
          "metadata": {},
          "execution_count": 111
        },
        {
          "output_type": "display_data",
          "data": {
            "text/plain": [
              "<Figure size 432x288 with 1 Axes>"
            ],
            "image/png": "[encoded data removed]"
          },
          "metadata": {
            "needs_background": "light"
          }
        }
      ]
    }
  ],
  "metadata": {
    "colab": {
      "provenance": []
    },
    "kernelspec": {
      "display_name": "Python 3",
      "language": "python",
      "name": "python3"
    },
    "language_info": {
      "codemirror_mode": {
        "name": "ipython",
        "version": 3
      },
      "file_extension": ".py",
      "mimetype": "text/x-python",
      "name": "python",
      "nbconvert_exporter": "python",
      "pygments_lexer": "ipython3",
      "version": "3.6.3"
    }
  },
  "nbformat": 4,
  "nbformat_minor": 0
}